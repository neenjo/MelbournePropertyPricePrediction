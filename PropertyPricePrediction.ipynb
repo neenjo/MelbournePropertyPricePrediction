{
  "nbformat": 4,
  "nbformat_minor": 0,
  "metadata": {
    "colab": {
      "name": "PropertyPricePrediction.ipynb",
      "provenance": [],
      "toc_visible": true
    },
    "kernelspec": {
      "display_name": "Python 3",
      "name": "python3"
    },
    "language_info": {
      "name": "python"
    }
  },
  "cells": [
    {
      "cell_type": "markdown",
      "metadata": {
        "id": "P3p-yxCL42V7"
      },
      "source": [
        " Data Source: https://www.kaggle.com/anthonypino/melbourne-housing-market?select=Melbourne_housing_FULL.csv\n",
        "\n",
        " This notebook is part of CSC 8004 Data Mining course USQ submitted by Nithin Jose"
      ]
    },
    {
      "cell_type": "markdown",
      "metadata": {
        "id": "KJ5nlSvy5p-v"
      },
      "source": [
        "#Loader"
      ]
    },
    {
      "cell_type": "markdown",
      "metadata": {
        "id": "W0RY5cRb5sPA"
      },
      "source": [
        "The dataset is loaded from google drive. For this method to work for you, you must have the dataset uploaded to google drive and the correct path must be set in path variable. You are free to use any method for data loading"
      ]
    },
    {
      "cell_type": "code",
      "metadata": {
        "colab": {
          "base_uri": "https://localhost:8080/"
        },
        "id": "KzGnm7C14-xR",
        "outputId": "4f49a11f-287f-430e-bb5d-c5686125a922"
      },
      "source": [
        "from google.colab import drive\n",
        "drive.mount('/content/drive')\n",
        "\n"
      ],
      "execution_count": null,
      "outputs": [
        {
          "output_type": "stream",
          "text": [
            "Mounted at /content/drive\n"
          ],
          "name": "stdout"
        }
      ]
    },
    {
      "cell_type": "code",
      "metadata": {
        "id": "RPLnIIX75hk4"
      },
      "source": [
        "import pandas as pd\n",
        "path=\"/content/drive/My Drive/Study/s1 2021/CSC 8004 Data Mining/Project/Dataset/Melbourne_housing_FULL.csv\"\n",
        "raw_df=pd.read_csv(path)"
      ],
      "execution_count": null,
      "outputs": []
    },
    {
      "cell_type": "code",
      "metadata": {
        "colab": {
          "base_uri": "https://localhost:8080/",
          "height": 326
        },
        "id": "WdHZL0V16A6g",
        "outputId": "37d314d5-6e32-4252-8c5a-7b1a05a9cf8a"
      },
      "source": [
        "raw_df.head()"
      ],
      "execution_count": null,
      "outputs": [
        {
          "output_type": "execute_result",
          "data": {
            "text/html": [
              "<div>\n",
              "<style scoped>\n",
              "    .dataframe tbody tr th:only-of-type {\n",
              "        vertical-align: middle;\n",
              "    }\n",
              "\n",
              "    .dataframe tbody tr th {\n",
              "        vertical-align: top;\n",
              "    }\n",
              "\n",
              "    .dataframe thead th {\n",
              "        text-align: right;\n",
              "    }\n",
              "</style>\n",
              "<table border=\"1\" class=\"dataframe\">\n",
              "  <thead>\n",
              "    <tr style=\"text-align: right;\">\n",
              "      <th></th>\n",
              "      <th>Suburb</th>\n",
              "      <th>Address</th>\n",
              "      <th>Rooms</th>\n",
              "      <th>Type</th>\n",
              "      <th>Price</th>\n",
              "      <th>Method</th>\n",
              "      <th>SellerG</th>\n",
              "      <th>Date</th>\n",
              "      <th>Distance</th>\n",
              "      <th>Postcode</th>\n",
              "      <th>Bedroom2</th>\n",
              "      <th>Bathroom</th>\n",
              "      <th>Car</th>\n",
              "      <th>Landsize</th>\n",
              "      <th>BuildingArea</th>\n",
              "      <th>YearBuilt</th>\n",
              "      <th>CouncilArea</th>\n",
              "      <th>Lattitude</th>\n",
              "      <th>Longtitude</th>\n",
              "      <th>Regionname</th>\n",
              "      <th>Propertycount</th>\n",
              "    </tr>\n",
              "  </thead>\n",
              "  <tbody>\n",
              "    <tr>\n",
              "      <th>0</th>\n",
              "      <td>Abbotsford</td>\n",
              "      <td>68 Studley St</td>\n",
              "      <td>2</td>\n",
              "      <td>h</td>\n",
              "      <td>NaN</td>\n",
              "      <td>SS</td>\n",
              "      <td>Jellis</td>\n",
              "      <td>3/09/2016</td>\n",
              "      <td>2.5</td>\n",
              "      <td>3067.0</td>\n",
              "      <td>2.0</td>\n",
              "      <td>1.0</td>\n",
              "      <td>1.0</td>\n",
              "      <td>126.0</td>\n",
              "      <td>NaN</td>\n",
              "      <td>NaN</td>\n",
              "      <td>Yarra City Council</td>\n",
              "      <td>-37.8014</td>\n",
              "      <td>144.9958</td>\n",
              "      <td>Northern Metropolitan</td>\n",
              "      <td>4019.0</td>\n",
              "    </tr>\n",
              "    <tr>\n",
              "      <th>1</th>\n",
              "      <td>Abbotsford</td>\n",
              "      <td>85 Turner St</td>\n",
              "      <td>2</td>\n",
              "      <td>h</td>\n",
              "      <td>1480000.0</td>\n",
              "      <td>S</td>\n",
              "      <td>Biggin</td>\n",
              "      <td>3/12/2016</td>\n",
              "      <td>2.5</td>\n",
              "      <td>3067.0</td>\n",
              "      <td>2.0</td>\n",
              "      <td>1.0</td>\n",
              "      <td>1.0</td>\n",
              "      <td>202.0</td>\n",
              "      <td>NaN</td>\n",
              "      <td>NaN</td>\n",
              "      <td>Yarra City Council</td>\n",
              "      <td>-37.7996</td>\n",
              "      <td>144.9984</td>\n",
              "      <td>Northern Metropolitan</td>\n",
              "      <td>4019.0</td>\n",
              "    </tr>\n",
              "    <tr>\n",
              "      <th>2</th>\n",
              "      <td>Abbotsford</td>\n",
              "      <td>25 Bloomburg St</td>\n",
              "      <td>2</td>\n",
              "      <td>h</td>\n",
              "      <td>1035000.0</td>\n",
              "      <td>S</td>\n",
              "      <td>Biggin</td>\n",
              "      <td>4/02/2016</td>\n",
              "      <td>2.5</td>\n",
              "      <td>3067.0</td>\n",
              "      <td>2.0</td>\n",
              "      <td>1.0</td>\n",
              "      <td>0.0</td>\n",
              "      <td>156.0</td>\n",
              "      <td>79.0</td>\n",
              "      <td>1900.0</td>\n",
              "      <td>Yarra City Council</td>\n",
              "      <td>-37.8079</td>\n",
              "      <td>144.9934</td>\n",
              "      <td>Northern Metropolitan</td>\n",
              "      <td>4019.0</td>\n",
              "    </tr>\n",
              "    <tr>\n",
              "      <th>3</th>\n",
              "      <td>Abbotsford</td>\n",
              "      <td>18/659 Victoria St</td>\n",
              "      <td>3</td>\n",
              "      <td>u</td>\n",
              "      <td>NaN</td>\n",
              "      <td>VB</td>\n",
              "      <td>Rounds</td>\n",
              "      <td>4/02/2016</td>\n",
              "      <td>2.5</td>\n",
              "      <td>3067.0</td>\n",
              "      <td>3.0</td>\n",
              "      <td>2.0</td>\n",
              "      <td>1.0</td>\n",
              "      <td>0.0</td>\n",
              "      <td>NaN</td>\n",
              "      <td>NaN</td>\n",
              "      <td>Yarra City Council</td>\n",
              "      <td>-37.8114</td>\n",
              "      <td>145.0116</td>\n",
              "      <td>Northern Metropolitan</td>\n",
              "      <td>4019.0</td>\n",
              "    </tr>\n",
              "    <tr>\n",
              "      <th>4</th>\n",
              "      <td>Abbotsford</td>\n",
              "      <td>5 Charles St</td>\n",
              "      <td>3</td>\n",
              "      <td>h</td>\n",
              "      <td>1465000.0</td>\n",
              "      <td>SP</td>\n",
              "      <td>Biggin</td>\n",
              "      <td>4/03/2017</td>\n",
              "      <td>2.5</td>\n",
              "      <td>3067.0</td>\n",
              "      <td>3.0</td>\n",
              "      <td>2.0</td>\n",
              "      <td>0.0</td>\n",
              "      <td>134.0</td>\n",
              "      <td>150.0</td>\n",
              "      <td>1900.0</td>\n",
              "      <td>Yarra City Council</td>\n",
              "      <td>-37.8093</td>\n",
              "      <td>144.9944</td>\n",
              "      <td>Northern Metropolitan</td>\n",
              "      <td>4019.0</td>\n",
              "    </tr>\n",
              "  </tbody>\n",
              "</table>\n",
              "</div>"
            ],
            "text/plain": [
              "       Suburb             Address  ...             Regionname Propertycount\n",
              "0  Abbotsford       68 Studley St  ...  Northern Metropolitan        4019.0\n",
              "1  Abbotsford        85 Turner St  ...  Northern Metropolitan        4019.0\n",
              "2  Abbotsford     25 Bloomburg St  ...  Northern Metropolitan        4019.0\n",
              "3  Abbotsford  18/659 Victoria St  ...  Northern Metropolitan        4019.0\n",
              "4  Abbotsford        5 Charles St  ...  Northern Metropolitan        4019.0\n",
              "\n",
              "[5 rows x 21 columns]"
            ]
          },
          "metadata": {
            "tags": []
          },
          "execution_count": 3
        }
      ]
    },
    {
      "cell_type": "code",
      "metadata": {
        "colab": {
          "base_uri": "https://localhost:8080/"
        },
        "id": "oqSiwwhm8dXg",
        "outputId": "4a746edd-a05c-4f94-91b0-466fbf4f1975"
      },
      "source": [
        "raw_df.shape"
      ],
      "execution_count": null,
      "outputs": [
        {
          "output_type": "execute_result",
          "data": {
            "text/plain": [
              "(34857, 21)"
            ]
          },
          "metadata": {
            "tags": []
          },
          "execution_count": 4
        }
      ]
    },
    {
      "cell_type": "markdown",
      "metadata": {
        "id": "lzheqdg2kZe_"
      },
      "source": [
        "#Preprocessing"
      ]
    },
    {
      "cell_type": "markdown",
      "metadata": {
        "id": "vjmtfQyak2cT"
      },
      "source": [
        "## Cleaning"
      ]
    },
    {
      "cell_type": "markdown",
      "metadata": {
        "id": "MbPlQQZuE_wW"
      },
      "source": [
        "### MIssing values"
      ]
    },
    {
      "cell_type": "markdown",
      "metadata": {
        "id": "ZK2SYfRSk61g"
      },
      "source": [
        "Percentage of Missing values"
      ]
    },
    {
      "cell_type": "code",
      "metadata": {
        "id": "XDrdwLue6N0k"
      },
      "source": [
        "temp=(raw_df.isnull().sum()*100/len(raw_df))"
      ],
      "execution_count": null,
      "outputs": []
    },
    {
      "cell_type": "code",
      "metadata": {
        "colab": {
          "base_uri": "https://localhost:8080/",
          "height": 342
        },
        "id": "WCT7WyL05GEc",
        "outputId": "1620fc63-fa01-4463-b65e-be45f9061917"
      },
      "source": [
        "temp.plot.bar()"
      ],
      "execution_count": null,
      "outputs": [
        {
          "output_type": "execute_result",
          "data": {
            "text/plain": [
              "<matplotlib.axes._subplots.AxesSubplot at 0x7ffb0781d610>"
            ]
          },
          "metadata": {
            "tags": []
          },
          "execution_count": 6
        },
        {
          "output_type": "display_data",
          "data": {
            "image/png": "[encoded data removed]",
            "text/plain": [
              "<Figure size 432x288 with 1 Axes>"
            ]
          },
          "metadata": {
            "tags": [],
            "needs_background": "light"
          }
        }
      ]
    },
    {
      "cell_type": "markdown",
      "metadata": {
        "id": "dP8XPXLwk939"
      },
      "source": [
        "Good strategy is to remove all 21% missing prices just to make sure that we are creating the most accurate model."
      ]
    },
    {
      "cell_type": "markdown",
      "metadata": {
        "id": "IYBjMz-XlK8A"
      },
      "source": [
        "Create copy of dataset"
      ]
    },
    {
      "cell_type": "code",
      "metadata": {
        "id": "zLuk6eu_dA03"
      },
      "source": [
        "working_df=raw_df"
      ],
      "execution_count": null,
      "outputs": []
    },
    {
      "cell_type": "markdown",
      "metadata": {
        "id": "PiifmmYqljhW"
      },
      "source": [
        "Remove null price"
      ]
    },
    {
      "cell_type": "code",
      "metadata": {
        "id": "vjthQ6LXlOmu"
      },
      "source": [
        "working_df=working_df[working_df['Price'].isnull()==False]"
      ],
      "execution_count": null,
      "outputs": []
    },
    {
      "cell_type": "markdown",
      "metadata": {
        "id": "sYZak3feloT5"
      },
      "source": [
        "Again checking for null values percentage"
      ]
    },
    {
      "cell_type": "code",
      "metadata": {
        "colab": {
          "base_uri": "https://localhost:8080/",
          "height": 342
        },
        "id": "rbmMtjFQlP5F",
        "outputId": "2d077e41-477b-4436-9ec1-85adfcf440b3"
      },
      "source": [
        "(working_df.isnull().sum()*100/len(working_df)).plot.bar()"
      ],
      "execution_count": null,
      "outputs": [
        {
          "output_type": "execute_result",
          "data": {
            "text/plain": [
              "<matplotlib.axes._subplots.AxesSubplot at 0x7ffb07417e10>"
            ]
          },
          "metadata": {
            "tags": []
          },
          "execution_count": 9
        },
        {
          "output_type": "display_data",
          "data": {
            "image/png": "[encoded data removed]",
            "text/plain": [
              "<Figure size 432x288 with 1 Axes>"
            ]
          },
          "metadata": {
            "tags": [],
            "needs_background": "light"
          }
        }
      ]
    },
    {
      "cell_type": "code",
      "metadata": {
        "id": "I7mygq1Mm90X"
      },
      "source": [
        "working_df.reset_index(inplace=True)"
      ],
      "execution_count": null,
      "outputs": []
    },
    {
      "cell_type": "code",
      "metadata": {
        "colab": {
          "base_uri": "https://localhost:8080/"
        },
        "id": "7bhF5e9P8nrq",
        "outputId": "0dd67993-e262-44de-f9e9-910dca60a376"
      },
      "source": [
        "working_df.shape"
      ],
      "execution_count": null,
      "outputs": [
        {
          "output_type": "execute_result",
          "data": {
            "text/plain": [
              "(27247, 22)"
            ]
          },
          "metadata": {
            "tags": []
          },
          "execution_count": 11
        }
      ]
    },
    {
      "cell_type": "markdown",
      "metadata": {
        "id": "9qh0mL3Ul691"
      },
      "source": [
        "As first approach we will be removing Building area and year built and delete all rows with empty data"
      ]
    },
    {
      "cell_type": "markdown",
      "metadata": {
        "id": "ru7qxXLWmA8L"
      },
      "source": [
        "#### Approach 1"
      ]
    },
    {
      "cell_type": "code",
      "metadata": {
        "id": "fjvAFXzelw1M"
      },
      "source": [
        "app_1_working_df=working_df"
      ],
      "execution_count": null,
      "outputs": []
    },
    {
      "cell_type": "code",
      "metadata": {
        "colab": {
          "base_uri": "https://localhost:8080/"
        },
        "id": "l4W7iiPFmXma",
        "outputId": "a353cb3b-f0d3-436c-f590-b6a93b071e58"
      },
      "source": [
        "app_1_working_df.head()"
      ],
      "execution_count": null,
      "outputs": [
        {
          "output_type": "execute_result",
          "data": {
            "text/html": [
              "<div>\n",
              "<style scoped>\n",
              "    .dataframe tbody tr th:only-of-type {\n",
              "        vertical-align: middle;\n",
              "    }\n",
              "\n",
              "    .dataframe tbody tr th {\n",
              "        vertical-align: top;\n",
              "    }\n",
              "\n",
              "    .dataframe thead th {\n",
              "        text-align: right;\n",
              "    }\n",
              "</style>\n",
              "<table border=\"1\" class=\"dataframe\">\n",
              "  <thead>\n",
              "    <tr style=\"text-align: right;\">\n",
              "      <th></th>\n",
              "      <th>index</th>\n",
              "      <th>Suburb</th>\n",
              "      <th>Address</th>\n",
              "      <th>Rooms</th>\n",
              "      <th>Type</th>\n",
              "      <th>Price</th>\n",
              "      <th>Method</th>\n",
              "      <th>SellerG</th>\n",
              "      <th>Date</th>\n",
              "      <th>Distance</th>\n",
              "      <th>Postcode</th>\n",
              "      <th>Bedroom2</th>\n",
              "      <th>Bathroom</th>\n",
              "      <th>Car</th>\n",
              "      <th>Landsize</th>\n",
              "      <th>BuildingArea</th>\n",
              "      <th>YearBuilt</th>\n",
              "      <th>CouncilArea</th>\n",
              "      <th>Lattitude</th>\n",
              "      <th>Longtitude</th>\n",
              "      <th>Regionname</th>\n",
              "      <th>Propertycount</th>\n",
              "    </tr>\n",
              "  </thead>\n",
              "  <tbody>\n",
              "    <tr>\n",
              "      <th>0</th>\n",
              "      <td>1</td>\n",
              "      <td>Abbotsford</td>\n",
              "      <td>85 Turner St</td>\n",
              "      <td>2</td>\n",
              "      <td>h</td>\n",
              "      <td>1480000.0</td>\n",
              "      <td>S</td>\n",
              "      <td>Biggin</td>\n",
              "      <td>3/12/2016</td>\n",
              "      <td>2.5</td>\n",
              "      <td>3067.0</td>\n",
              "      <td>2.0</td>\n",
              "      <td>1.0</td>\n",
              "      <td>1.0</td>\n",
              "      <td>202.0</td>\n",
              "      <td>NaN</td>\n",
              "      <td>NaN</td>\n",
              "      <td>Yarra City Council</td>\n",
              "      <td>-37.7996</td>\n",
              "      <td>144.9984</td>\n",
              "      <td>Northern Metropolitan</td>\n",
              "      <td>4019.0</td>\n",
              "    </tr>\n",
              "    <tr>\n",
              "      <th>1</th>\n",
              "      <td>2</td>\n",
              "      <td>Abbotsford</td>\n",
              "      <td>25 Bloomburg St</td>\n",
              "      <td>2</td>\n",
              "      <td>h</td>\n",
              "      <td>1035000.0</td>\n",
              "      <td>S</td>\n",
              "      <td>Biggin</td>\n",
              "      <td>4/02/2016</td>\n",
              "      <td>2.5</td>\n",
              "      <td>3067.0</td>\n",
              "      <td>2.0</td>\n",
              "      <td>1.0</td>\n",
              "      <td>0.0</td>\n",
              "      <td>156.0</td>\n",
              "      <td>79.0</td>\n",
              "      <td>1900.0</td>\n",
              "      <td>Yarra City Council</td>\n",
              "      <td>-37.8079</td>\n",
              "      <td>144.9934</td>\n",
              "      <td>Northern Metropolitan</td>\n",
              "      <td>4019.0</td>\n",
              "    </tr>\n",
              "    <tr>\n",
              "      <th>2</th>\n",
              "      <td>4</td>\n",
              "      <td>Abbotsford</td>\n",
              "      <td>5 Charles St</td>\n",
              "      <td>3</td>\n",
              "      <td>h</td>\n",
              "      <td>1465000.0</td>\n",
              "      <td>SP</td>\n",
              "      <td>Biggin</td>\n",
              "      <td>4/03/2017</td>\n",
              "      <td>2.5</td>\n",
              "      <td>3067.0</td>\n",
              "      <td>3.0</td>\n",
              "      <td>2.0</td>\n",
              "      <td>0.0</td>\n",
              "      <td>134.0</td>\n",
              "      <td>150.0</td>\n",
              "      <td>1900.0</td>\n",
              "      <td>Yarra City Council</td>\n",
              "      <td>-37.8093</td>\n",
              "      <td>144.9944</td>\n",
              "      <td>Northern Metropolitan</td>\n",
              "      <td>4019.0</td>\n",
              "    </tr>\n",
              "    <tr>\n",
              "      <th>3</th>\n",
              "      <td>5</td>\n",
              "      <td>Abbotsford</td>\n",
              "      <td>40 Federation La</td>\n",
              "      <td>3</td>\n",
              "      <td>h</td>\n",
              "      <td>850000.0</td>\n",
              "      <td>PI</td>\n",
              "      <td>Biggin</td>\n",
              "      <td>4/03/2017</td>\n",
              "      <td>2.5</td>\n",
              "      <td>3067.0</td>\n",
              "      <td>3.0</td>\n",
              "      <td>2.0</td>\n",
              "      <td>1.0</td>\n",
              "      <td>94.0</td>\n",
              "      <td>NaN</td>\n",
              "      <td>NaN</td>\n",
              "      <td>Yarra City Council</td>\n",
              "      <td>-37.7969</td>\n",
              "      <td>144.9969</td>\n",
              "      <td>Northern Metropolitan</td>\n",
              "      <td>4019.0</td>\n",
              "    </tr>\n",
              "    <tr>\n",
              "      <th>4</th>\n",
              "      <td>6</td>\n",
              "      <td>Abbotsford</td>\n",
              "      <td>55a Park St</td>\n",
              "      <td>4</td>\n",
              "      <td>h</td>\n",
              "      <td>1600000.0</td>\n",
              "      <td>VB</td>\n",
              "      <td>Nelson</td>\n",
              "      <td>4/06/2016</td>\n",
              "      <td>2.5</td>\n",
              "      <td>3067.0</td>\n",
              "      <td>3.0</td>\n",
              "      <td>1.0</td>\n",
              "      <td>2.0</td>\n",
              "      <td>120.0</td>\n",
              "      <td>142.0</td>\n",
              "      <td>2014.0</td>\n",
              "      <td>Yarra City Council</td>\n",
              "      <td>-37.8072</td>\n",
              "      <td>144.9941</td>\n",
              "      <td>Northern Metropolitan</td>\n",
              "      <td>4019.0</td>\n",
              "    </tr>\n",
              "  </tbody>\n",
              "</table>\n",
              "</div>"
            ],
            "text/plain": [
              "   index      Suburb  ...             Regionname  Propertycount\n",
              "0      1  Abbotsford  ...  Northern Metropolitan         4019.0\n",
              "1      2  Abbotsford  ...  Northern Metropolitan         4019.0\n",
              "2      4  Abbotsford  ...  Northern Metropolitan         4019.0\n",
              "3      5  Abbotsford  ...  Northern Metropolitan         4019.0\n",
              "4      6  Abbotsford  ...  Northern Metropolitan         4019.0\n",
              "\n",
              "[5 rows x 22 columns]"
            ]
          },
          "metadata": {
            "tags": []
          },
          "execution_count": 13
        }
      ]
    },
    {
      "cell_type": "markdown",
      "metadata": {
        "id": "lNOuEYsfvGJC"
      },
      "source": [
        "Remove Building area and year"
      ]
    },
    {
      "cell_type": "code",
      "metadata": {
        "id": "PWikEGlgvIxX",
        "colab": {
          "base_uri": "https://localhost:8080/"
        },
        "outputId": "bb4c1dbf-2d0e-46a5-816f-1f5347016110"
      },
      "source": [
        "app_1_working_df.drop(['BuildingArea','YearBuilt'],axis=1,inplace=True)"
      ],
      "execution_count": null,
      "outputs": [
        {
          "output_type": "stream",
          "text": [
            "/usr/local/lib/python3.7/dist-packages/pandas/core/frame.py:4174: SettingWithCopyWarning: \n",
            "A value is trying to be set on a copy of a slice from a DataFrame\n",
            "\n",
            "See the caveats in the documentation: https://pandas.pydata.org/pandas-docs/stable/user_guide/indexing.html#returning-a-view-versus-a-copy\n",
            "  errors=errors,\n"
          ],
          "name": "stderr"
        }
      ]
    },
    {
      "cell_type": "code",
      "metadata": {
        "colab": {
          "base_uri": "https://localhost:8080/"
        },
        "id": "x_asCn_wvjy3",
        "outputId": "59011ba9-0c1b-4808-c7d7-de252807b8e6"
      },
      "source": [
        "app_1_working_df.head(1)"
      ],
      "execution_count": null,
      "outputs": [
        {
          "output_type": "execute_result",
          "data": {
            "text/html": [
              "<div>\n",
              "<style scoped>\n",
              "    .dataframe tbody tr th:only-of-type {\n",
              "        vertical-align: middle;\n",
              "    }\n",
              "\n",
              "    .dataframe tbody tr th {\n",
              "        vertical-align: top;\n",
              "    }\n",
              "\n",
              "    .dataframe thead th {\n",
              "        text-align: right;\n",
              "    }\n",
              "</style>\n",
              "<table border=\"1\" class=\"dataframe\">\n",
              "  <thead>\n",
              "    <tr style=\"text-align: right;\">\n",
              "      <th></th>\n",
              "      <th>index</th>\n",
              "      <th>Suburb</th>\n",
              "      <th>Address</th>\n",
              "      <th>Rooms</th>\n",
              "      <th>Type</th>\n",
              "      <th>Price</th>\n",
              "      <th>Method</th>\n",
              "      <th>SellerG</th>\n",
              "      <th>Date</th>\n",
              "      <th>Distance</th>\n",
              "      <th>Postcode</th>\n",
              "      <th>Bedroom2</th>\n",
              "      <th>Bathroom</th>\n",
              "      <th>Car</th>\n",
              "      <th>Landsize</th>\n",
              "      <th>CouncilArea</th>\n",
              "      <th>Lattitude</th>\n",
              "      <th>Longtitude</th>\n",
              "      <th>Regionname</th>\n",
              "      <th>Propertycount</th>\n",
              "    </tr>\n",
              "  </thead>\n",
              "  <tbody>\n",
              "    <tr>\n",
              "      <th>0</th>\n",
              "      <td>1</td>\n",
              "      <td>Abbotsford</td>\n",
              "      <td>85 Turner St</td>\n",
              "      <td>2</td>\n",
              "      <td>h</td>\n",
              "      <td>1480000.0</td>\n",
              "      <td>S</td>\n",
              "      <td>Biggin</td>\n",
              "      <td>3/12/2016</td>\n",
              "      <td>2.5</td>\n",
              "      <td>3067.0</td>\n",
              "      <td>2.0</td>\n",
              "      <td>1.0</td>\n",
              "      <td>1.0</td>\n",
              "      <td>202.0</td>\n",
              "      <td>Yarra City Council</td>\n",
              "      <td>-37.7996</td>\n",
              "      <td>144.9984</td>\n",
              "      <td>Northern Metropolitan</td>\n",
              "      <td>4019.0</td>\n",
              "    </tr>\n",
              "  </tbody>\n",
              "</table>\n",
              "</div>"
            ],
            "text/plain": [
              "   index      Suburb  ...             Regionname  Propertycount\n",
              "0      1  Abbotsford  ...  Northern Metropolitan         4019.0\n",
              "\n",
              "[1 rows x 20 columns]"
            ]
          },
          "metadata": {
            "tags": []
          },
          "execution_count": 15
        }
      ]
    },
    {
      "cell_type": "code",
      "metadata": {
        "colab": {
          "base_uri": "https://localhost:8080/"
        },
        "id": "Inb7p_VB8w6I",
        "outputId": "39a6b255-0972-4410-96ba-62f8f6a9a755"
      },
      "source": [
        "app_1_working_df.shape"
      ],
      "execution_count": null,
      "outputs": [
        {
          "output_type": "execute_result",
          "data": {
            "text/plain": [
              "(27247, 20)"
            ]
          },
          "metadata": {
            "tags": []
          },
          "execution_count": 16
        }
      ]
    },
    {
      "cell_type": "markdown",
      "metadata": {
        "id": "dXV9VzMCwE2g"
      },
      "source": [
        "Calculating rows in which more than 3 attributes are missing"
      ]
    },
    {
      "cell_type": "code",
      "metadata": {
        "colab": {
          "base_uri": "https://localhost:8080/"
        },
        "id": "0LORroAptspb",
        "outputId": "4a54993b-173d-4b01-b370-9362c8930617"
      },
      "source": [
        "app_1_working_df[(app_1_working_df.isnull().sum(axis=1))>3]"
      ],
      "execution_count": null,
      "outputs": [
        {
          "output_type": "execute_result",
          "data": {
            "text/html": [
              "<div>\n",
              "<style scoped>\n",
              "    .dataframe tbody tr th:only-of-type {\n",
              "        vertical-align: middle;\n",
              "    }\n",
              "\n",
              "    .dataframe tbody tr th {\n",
              "        vertical-align: top;\n",
              "    }\n",
              "\n",
              "    .dataframe thead th {\n",
              "        text-align: right;\n",
              "    }\n",
              "</style>\n",
              "<table border=\"1\" class=\"dataframe\">\n",
              "  <thead>\n",
              "    <tr style=\"text-align: right;\">\n",
              "      <th></th>\n",
              "      <th>index</th>\n",
              "      <th>Suburb</th>\n",
              "      <th>Address</th>\n",
              "      <th>Rooms</th>\n",
              "      <th>Type</th>\n",
              "      <th>Price</th>\n",
              "      <th>Method</th>\n",
              "      <th>SellerG</th>\n",
              "      <th>Date</th>\n",
              "      <th>Distance</th>\n",
              "      <th>Postcode</th>\n",
              "      <th>Bedroom2</th>\n",
              "      <th>Bathroom</th>\n",
              "      <th>Car</th>\n",
              "      <th>Landsize</th>\n",
              "      <th>CouncilArea</th>\n",
              "      <th>Lattitude</th>\n",
              "      <th>Longtitude</th>\n",
              "      <th>Regionname</th>\n",
              "      <th>Propertycount</th>\n",
              "    </tr>\n",
              "  </thead>\n",
              "  <tbody>\n",
              "    <tr>\n",
              "      <th>8</th>\n",
              "      <td>15</td>\n",
              "      <td>Abbotsford</td>\n",
              "      <td>217 Langridge St</td>\n",
              "      <td>3</td>\n",
              "      <td>h</td>\n",
              "      <td>1000000.0</td>\n",
              "      <td>S</td>\n",
              "      <td>Jellis</td>\n",
              "      <td>8/10/2016</td>\n",
              "      <td>2.5</td>\n",
              "      <td>3067.0</td>\n",
              "      <td>NaN</td>\n",
              "      <td>NaN</td>\n",
              "      <td>NaN</td>\n",
              "      <td>NaN</td>\n",
              "      <td>Yarra City Council</td>\n",
              "      <td>NaN</td>\n",
              "      <td>NaN</td>\n",
              "      <td>Northern Metropolitan</td>\n",
              "      <td>4019.0</td>\n",
              "    </tr>\n",
              "    <tr>\n",
              "      <th>9</th>\n",
              "      <td>16</td>\n",
              "      <td>Abbotsford</td>\n",
              "      <td>18a Mollison St</td>\n",
              "      <td>2</td>\n",
              "      <td>t</td>\n",
              "      <td>745000.0</td>\n",
              "      <td>S</td>\n",
              "      <td>Jellis</td>\n",
              "      <td>8/10/2016</td>\n",
              "      <td>2.5</td>\n",
              "      <td>3067.0</td>\n",
              "      <td>NaN</td>\n",
              "      <td>NaN</td>\n",
              "      <td>NaN</td>\n",
              "      <td>NaN</td>\n",
              "      <td>Yarra City Council</td>\n",
              "      <td>NaN</td>\n",
              "      <td>NaN</td>\n",
              "      <td>Northern Metropolitan</td>\n",
              "      <td>4019.0</td>\n",
              "    </tr>\n",
              "    <tr>\n",
              "      <th>12</th>\n",
              "      <td>19</td>\n",
              "      <td>Abbotsford</td>\n",
              "      <td>403/609 Victoria St</td>\n",
              "      <td>2</td>\n",
              "      <td>u</td>\n",
              "      <td>542000.0</td>\n",
              "      <td>S</td>\n",
              "      <td>Dingle</td>\n",
              "      <td>8/10/2016</td>\n",
              "      <td>2.5</td>\n",
              "      <td>3067.0</td>\n",
              "      <td>NaN</td>\n",
              "      <td>NaN</td>\n",
              "      <td>NaN</td>\n",
              "      <td>NaN</td>\n",
              "      <td>Yarra City Council</td>\n",
              "      <td>NaN</td>\n",
              "      <td>NaN</td>\n",
              "      <td>Northern Metropolitan</td>\n",
              "      <td>4019.0</td>\n",
              "    </tr>\n",
              "    <tr>\n",
              "      <th>13</th>\n",
              "      <td>21</td>\n",
              "      <td>Abbotsford</td>\n",
              "      <td>25/84 Trenerry Cr</td>\n",
              "      <td>2</td>\n",
              "      <td>u</td>\n",
              "      <td>760000.0</td>\n",
              "      <td>SP</td>\n",
              "      <td>Biggin</td>\n",
              "      <td>10/12/2016</td>\n",
              "      <td>2.5</td>\n",
              "      <td>3067.0</td>\n",
              "      <td>NaN</td>\n",
              "      <td>NaN</td>\n",
              "      <td>NaN</td>\n",
              "      <td>NaN</td>\n",
              "      <td>Yarra City Council</td>\n",
              "      <td>NaN</td>\n",
              "      <td>NaN</td>\n",
              "      <td>Northern Metropolitan</td>\n",
              "      <td>4019.0</td>\n",
              "    </tr>\n",
              "    <tr>\n",
              "      <th>14</th>\n",
              "      <td>22</td>\n",
              "      <td>Abbotsford</td>\n",
              "      <td>106/119 Turner St</td>\n",
              "      <td>1</td>\n",
              "      <td>u</td>\n",
              "      <td>481000.0</td>\n",
              "      <td>SP</td>\n",
              "      <td>Purplebricks</td>\n",
              "      <td>10/12/2016</td>\n",
              "      <td>2.5</td>\n",
              "      <td>3067.0</td>\n",
              "      <td>NaN</td>\n",
              "      <td>NaN</td>\n",
              "      <td>NaN</td>\n",
              "      <td>NaN</td>\n",
              "      <td>Yarra City Council</td>\n",
              "      <td>NaN</td>\n",
              "      <td>NaN</td>\n",
              "      <td>Northern Metropolitan</td>\n",
              "      <td>4019.0</td>\n",
              "    </tr>\n",
              "    <tr>\n",
              "      <th>...</th>\n",
              "      <td>...</td>\n",
              "      <td>...</td>\n",
              "      <td>...</td>\n",
              "      <td>...</td>\n",
              "      <td>...</td>\n",
              "      <td>...</td>\n",
              "      <td>...</td>\n",
              "      <td>...</td>\n",
              "      <td>...</td>\n",
              "      <td>...</td>\n",
              "      <td>...</td>\n",
              "      <td>...</td>\n",
              "      <td>...</td>\n",
              "      <td>...</td>\n",
              "      <td>...</td>\n",
              "      <td>...</td>\n",
              "      <td>...</td>\n",
              "      <td>...</td>\n",
              "      <td>...</td>\n",
              "      <td>...</td>\n",
              "    </tr>\n",
              "    <tr>\n",
              "      <th>27230</th>\n",
              "      <td>34838</td>\n",
              "      <td>Williamstown</td>\n",
              "      <td>11/81 Melbourne Rd</td>\n",
              "      <td>2</td>\n",
              "      <td>u</td>\n",
              "      <td>450000.0</td>\n",
              "      <td>SP</td>\n",
              "      <td>Raine</td>\n",
              "      <td>24/02/2018</td>\n",
              "      <td>6.8</td>\n",
              "      <td>3016.0</td>\n",
              "      <td>NaN</td>\n",
              "      <td>NaN</td>\n",
              "      <td>NaN</td>\n",
              "      <td>NaN</td>\n",
              "      <td>Hobsons Bay City Council</td>\n",
              "      <td>NaN</td>\n",
              "      <td>NaN</td>\n",
              "      <td>Western Metropolitan</td>\n",
              "      <td>6380.0</td>\n",
              "    </tr>\n",
              "    <tr>\n",
              "      <th>27231</th>\n",
              "      <td>34839</td>\n",
              "      <td>Williamstown</td>\n",
              "      <td>24/18 Station Rd</td>\n",
              "      <td>2</td>\n",
              "      <td>u</td>\n",
              "      <td>475000.0</td>\n",
              "      <td>SP</td>\n",
              "      <td>Greg</td>\n",
              "      <td>24/02/2018</td>\n",
              "      <td>6.8</td>\n",
              "      <td>3016.0</td>\n",
              "      <td>NaN</td>\n",
              "      <td>NaN</td>\n",
              "      <td>NaN</td>\n",
              "      <td>NaN</td>\n",
              "      <td>Hobsons Bay City Council</td>\n",
              "      <td>NaN</td>\n",
              "      <td>NaN</td>\n",
              "      <td>Western Metropolitan</td>\n",
              "      <td>6380.0</td>\n",
              "    </tr>\n",
              "    <tr>\n",
              "      <th>27232</th>\n",
              "      <td>34840</td>\n",
              "      <td>Williamstown</td>\n",
              "      <td>3/2 Thompson St</td>\n",
              "      <td>2</td>\n",
              "      <td>u</td>\n",
              "      <td>520000.0</td>\n",
              "      <td>VB</td>\n",
              "      <td>Raine</td>\n",
              "      <td>24/02/2018</td>\n",
              "      <td>6.8</td>\n",
              "      <td>3016.0</td>\n",
              "      <td>NaN</td>\n",
              "      <td>NaN</td>\n",
              "      <td>NaN</td>\n",
              "      <td>NaN</td>\n",
              "      <td>Hobsons Bay City Council</td>\n",
              "      <td>NaN</td>\n",
              "      <td>NaN</td>\n",
              "      <td>Western Metropolitan</td>\n",
              "      <td>6380.0</td>\n",
              "    </tr>\n",
              "    <tr>\n",
              "      <th>27236</th>\n",
              "      <td>34844</td>\n",
              "      <td>Windsor</td>\n",
              "      <td>4/16 Lewisham Rd</td>\n",
              "      <td>1</td>\n",
              "      <td>u</td>\n",
              "      <td>440000.0</td>\n",
              "      <td>SP</td>\n",
              "      <td>Biggin</td>\n",
              "      <td>24/02/2018</td>\n",
              "      <td>4.6</td>\n",
              "      <td>3181.0</td>\n",
              "      <td>NaN</td>\n",
              "      <td>NaN</td>\n",
              "      <td>NaN</td>\n",
              "      <td>NaN</td>\n",
              "      <td>Port Phillip City Council</td>\n",
              "      <td>NaN</td>\n",
              "      <td>NaN</td>\n",
              "      <td>Southern Metropolitan</td>\n",
              "      <td>4380.0</td>\n",
              "    </tr>\n",
              "    <tr>\n",
              "      <th>27245</th>\n",
              "      <td>34855</td>\n",
              "      <td>Yarraville</td>\n",
              "      <td>12/37 Stephen St</td>\n",
              "      <td>3</td>\n",
              "      <td>h</td>\n",
              "      <td>1140000.0</td>\n",
              "      <td>SP</td>\n",
              "      <td>hockingstuart</td>\n",
              "      <td>24/02/2018</td>\n",
              "      <td>6.3</td>\n",
              "      <td>3013.0</td>\n",
              "      <td>NaN</td>\n",
              "      <td>NaN</td>\n",
              "      <td>NaN</td>\n",
              "      <td>NaN</td>\n",
              "      <td>Maribyrnong City Council</td>\n",
              "      <td>NaN</td>\n",
              "      <td>NaN</td>\n",
              "      <td>Western Metropolitan</td>\n",
              "      <td>6543.0</td>\n",
              "    </tr>\n",
              "  </tbody>\n",
              "</table>\n",
              "<p>6435 rows × 20 columns</p>\n",
              "</div>"
            ],
            "text/plain": [
              "       index        Suburb  ...             Regionname  Propertycount\n",
              "8         15    Abbotsford  ...  Northern Metropolitan         4019.0\n",
              "9         16    Abbotsford  ...  Northern Metropolitan         4019.0\n",
              "12        19    Abbotsford  ...  Northern Metropolitan         4019.0\n",
              "13        21    Abbotsford  ...  Northern Metropolitan         4019.0\n",
              "14        22    Abbotsford  ...  Northern Metropolitan         4019.0\n",
              "...      ...           ...  ...                    ...            ...\n",
              "27230  34838  Williamstown  ...   Western Metropolitan         6380.0\n",
              "27231  34839  Williamstown  ...   Western Metropolitan         6380.0\n",
              "27232  34840  Williamstown  ...   Western Metropolitan         6380.0\n",
              "27236  34844       Windsor  ...  Southern Metropolitan         4380.0\n",
              "27245  34855    Yarraville  ...   Western Metropolitan         6543.0\n",
              "\n",
              "[6435 rows x 20 columns]"
            ]
          },
          "metadata": {
            "tags": []
          },
          "execution_count": 17
        }
      ]
    },
    {
      "cell_type": "markdown",
      "metadata": {
        "id": "xKvclmyGwJbD"
      },
      "source": [
        "It seems that empty values are occuring in a group of columns and repeating. This means that this data could have been scrapped or loaded from a separate data source."
      ]
    },
    {
      "cell_type": "markdown",
      "metadata": {
        "id": "SveQBJjE81Pk"
      },
      "source": [
        "Also around 6435 rows are to be deleted and in this approach 1 we will delete all these rows"
      ]
    },
    {
      "cell_type": "code",
      "metadata": {
        "id": "9H0N55Yk80hT",
        "colab": {
          "base_uri": "https://localhost:8080/"
        },
        "outputId": "0aa3470a-bac7-471d-ce8e-b3fd0d63ba01"
      },
      "source": [
        "app_1_working_df.drop(app_1_working_df[(app_1_working_df.isnull().sum(axis=1))>3].index,inplace=True)"
      ],
      "execution_count": null,
      "outputs": [
        {
          "output_type": "stream",
          "text": [
            "/usr/local/lib/python3.7/dist-packages/pandas/core/frame.py:4174: SettingWithCopyWarning: \n",
            "A value is trying to be set on a copy of a slice from a DataFrame\n",
            "\n",
            "See the caveats in the documentation: https://pandas.pydata.org/pandas-docs/stable/user_guide/indexing.html#returning-a-view-versus-a-copy\n",
            "  errors=errors,\n"
          ],
          "name": "stderr"
        }
      ]
    },
    {
      "cell_type": "code",
      "metadata": {
        "colab": {
          "base_uri": "https://localhost:8080/"
        },
        "id": "xvdg0yAD92Nd",
        "outputId": "1deb1253-aa5c-41f7-c9fc-44755975d996"
      },
      "source": [
        "app_1_working_df.shape"
      ],
      "execution_count": null,
      "outputs": [
        {
          "output_type": "execute_result",
          "data": {
            "text/plain": [
              "(20812, 20)"
            ]
          },
          "metadata": {
            "tags": []
          },
          "execution_count": 19
        }
      ]
    },
    {
      "cell_type": "code",
      "metadata": {
        "colab": {
          "base_uri": "https://localhost:8080/"
        },
        "id": "A98AwaBw97UT",
        "outputId": "eb8a4d46-0635-4248-ed0e-bb4a186615c8"
      },
      "source": [
        "(app_1_working_df.isnull().sum()*100/len(working_df)).plot.bar()"
      ],
      "execution_count": null,
      "outputs": [
        {
          "output_type": "execute_result",
          "data": {
            "text/plain": [
              "<matplotlib.axes._subplots.AxesSubplot at 0x7ffb06ead990>"
            ]
          },
          "metadata": {
            "tags": []
          },
          "execution_count": 20
        },
        {
          "output_type": "display_data",
          "data": {
            "image/png": "[encoded data removed]",
            "text/plain": [
              "<Figure size 432x288 with 1 Axes>"
            ]
          },
          "metadata": {
            "tags": [],
            "needs_background": "light"
          }
        }
      ]
    },
    {
      "cell_type": "markdown",
      "metadata": {
        "id": "_QoMXHOu-K5j"
      },
      "source": [
        "Still land size and bathroom have some empty rows but we think we should remove all NA row"
      ]
    },
    {
      "cell_type": "code",
      "metadata": {
        "id": "A7kKh4OpAw74",
        "colab": {
          "base_uri": "https://localhost:8080/"
        },
        "outputId": "3dfac864-d981-4506-9fac-f86f2d79e7a3"
      },
      "source": [
        "app_1_working_df.dropna(inplace=True)"
      ],
      "execution_count": null,
      "outputs": [
        {
          "output_type": "stream",
          "text": [
            "/usr/local/lib/python3.7/dist-packages/ipykernel_launcher.py:1: SettingWithCopyWarning: \n",
            "A value is trying to be set on a copy of a slice from a DataFrame\n",
            "\n",
            "See the caveats in the documentation: https://pandas.pydata.org/pandas-docs/stable/user_guide/indexing.html#returning-a-view-versus-a-copy\n",
            "  \"\"\"Entry point for launching an IPython kernel.\n"
          ],
          "name": "stderr"
        }
      ]
    },
    {
      "cell_type": "code",
      "metadata": {
        "colab": {
          "base_uri": "https://localhost:8080/"
        },
        "id": "ovT6deNeBBjN",
        "outputId": "532c2468-6cd4-4656-a236-97bcc80f7e4c"
      },
      "source": [
        "app_1_working_df.shape"
      ],
      "execution_count": null,
      "outputs": [
        {
          "output_type": "execute_result",
          "data": {
            "text/plain": [
              "(17679, 20)"
            ]
          },
          "metadata": {
            "tags": []
          },
          "execution_count": 22
        }
      ]
    },
    {
      "cell_type": "markdown",
      "metadata": {
        "id": "5q_ONtGEwx-o"
      },
      "source": [
        "##### Get suburb details function (Not using this now)"
      ]
    },
    {
      "cell_type": "code",
      "metadata": {
        "id": "_cyzgdIcw0jK"
      },
      "source": [
        "def get_suburb_details():\n",
        "  return"
      ],
      "execution_count": null,
      "outputs": []
    },
    {
      "cell_type": "code",
      "metadata": {
        "colab": {
          "base_uri": "https://localhost:8080/"
        },
        "id": "XLl0zTdBuxul",
        "outputId": "261c9d26-039e-402a-970c-2fdddc13a372"
      },
      "source": [
        "app_1_working_df[app_1_working_df['Bedroom2'].isnull()]['Suburb']"
      ],
      "execution_count": null,
      "outputs": [
        {
          "output_type": "execute_result",
          "data": {
            "text/plain": [
              "Series([], Name: Suburb, dtype: object)"
            ]
          },
          "metadata": {
            "tags": []
          },
          "execution_count": 24
        }
      ]
    },
    {
      "cell_type": "code",
      "metadata": {
        "id": "o3FMDhHpwiKC"
      },
      "source": [
        ""
      ],
      "execution_count": null,
      "outputs": []
    },
    {
      "cell_type": "markdown",
      "metadata": {
        "id": "qagvZfte7zXW"
      },
      "source": [
        ""
      ]
    },
    {
      "cell_type": "markdown",
      "metadata": {
        "id": "-3PkLUY4713X"
      },
      "source": [
        "#### Approach 2"
      ]
    },
    {
      "cell_type": "markdown",
      "metadata": {
        "id": "O8i8FMPr75ER"
      },
      "source": [
        ""
      ]
    },
    {
      "cell_type": "code",
      "metadata": {
        "id": "P2hRfKO273We"
      },
      "source": [
        ""
      ],
      "execution_count": null,
      "outputs": []
    },
    {
      "cell_type": "markdown",
      "metadata": {
        "id": "h14sV7erBGJj"
      },
      "source": [
        "#### Merging values "
      ]
    },
    {
      "cell_type": "code",
      "metadata": {
        "id": "RgnFLDPzFTsS"
      },
      "source": [
        "working_df=app_1_working_df"
      ],
      "execution_count": null,
      "outputs": []
    },
    {
      "cell_type": "code",
      "metadata": {
        "colab": {
          "base_uri": "https://localhost:8080/"
        },
        "id": "cvOLFIfnFXMJ",
        "outputId": "ffb6d6f0-12e3-412a-a8af-59b8e8c6f962"
      },
      "source": [
        "working_df.shape"
      ],
      "execution_count": null,
      "outputs": [
        {
          "output_type": "execute_result",
          "data": {
            "text/plain": [
              "(17679, 20)"
            ]
          },
          "metadata": {
            "tags": []
          },
          "execution_count": 26
        }
      ]
    },
    {
      "cell_type": "code",
      "metadata": {
        "id": "Pv0MTyzWFbZo"
      },
      "source": [
        ""
      ],
      "execution_count": null,
      "outputs": []
    },
    {
      "cell_type": "markdown",
      "metadata": {
        "id": "qIDcU7VDFjWO"
      },
      "source": [
        "## Handling Outliers"
      ]
    },
    {
      "cell_type": "markdown",
      "metadata": {
        "id": "w2NUiGKBPBA7"
      },
      "source": [
        "### Handling Numerical Outlier"
      ]
    },
    {
      "cell_type": "markdown",
      "metadata": {
        "id": "a7WMOArIKKlX"
      },
      "source": [
        "We will be using Z score to handle outliers. See Z score concept below: https://stackoverflow.com/questions/23199796/detect-and-exclude-outliers-in-pandas-data-frame\n",
        "\n",
        "![image.png](data:image/png;base64,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)"
      ]
    },
    {
      "cell_type": "code",
      "metadata": {
        "colab": {
          "base_uri": "https://localhost:8080/"
        },
        "id": "ip-7kPF5GSZH",
        "outputId": "136a126e-96d2-4dc2-a385-a15a233f32ca"
      },
      "source": [
        "working_df.head()"
      ],
      "execution_count": null,
      "outputs": [
        {
          "output_type": "execute_result",
          "data": {
            "text/html": [
              "<div>\n",
              "<style scoped>\n",
              "    .dataframe tbody tr th:only-of-type {\n",
              "        vertical-align: middle;\n",
              "    }\n",
              "\n",
              "    .dataframe tbody tr th {\n",
              "        vertical-align: top;\n",
              "    }\n",
              "\n",
              "    .dataframe thead th {\n",
              "        text-align: right;\n",
              "    }\n",
              "</style>\n",
              "<table border=\"1\" class=\"dataframe\">\n",
              "  <thead>\n",
              "    <tr style=\"text-align: right;\">\n",
              "      <th></th>\n",
              "      <th>index</th>\n",
              "      <th>Suburb</th>\n",
              "      <th>Address</th>\n",
              "      <th>Rooms</th>\n",
              "      <th>Type</th>\n",
              "      <th>Price</th>\n",
              "      <th>Method</th>\n",
              "      <th>SellerG</th>\n",
              "      <th>Date</th>\n",
              "      <th>Distance</th>\n",
              "      <th>Postcode</th>\n",
              "      <th>Bedroom2</th>\n",
              "      <th>Bathroom</th>\n",
              "      <th>Car</th>\n",
              "      <th>Landsize</th>\n",
              "      <th>CouncilArea</th>\n",
              "      <th>Lattitude</th>\n",
              "      <th>Longtitude</th>\n",
              "      <th>Regionname</th>\n",
              "      <th>Propertycount</th>\n",
              "    </tr>\n",
              "  </thead>\n",
              "  <tbody>\n",
              "    <tr>\n",
              "      <th>0</th>\n",
              "      <td>1</td>\n",
              "      <td>Abbotsford</td>\n",
              "      <td>85 Turner St</td>\n",
              "      <td>2</td>\n",
              "      <td>h</td>\n",
              "      <td>1480000.0</td>\n",
              "      <td>S</td>\n",
              "      <td>Biggin</td>\n",
              "      <td>3/12/2016</td>\n",
              "      <td>2.5</td>\n",
              "      <td>3067.0</td>\n",
              "      <td>2.0</td>\n",
              "      <td>1.0</td>\n",
              "      <td>1.0</td>\n",
              "      <td>202.0</td>\n",
              "      <td>Yarra City Council</td>\n",
              "      <td>-37.7996</td>\n",
              "      <td>144.9984</td>\n",
              "      <td>Northern Metropolitan</td>\n",
              "      <td>4019.0</td>\n",
              "    </tr>\n",
              "    <tr>\n",
              "      <th>1</th>\n",
              "      <td>2</td>\n",
              "      <td>Abbotsford</td>\n",
              "      <td>25 Bloomburg St</td>\n",
              "      <td>2</td>\n",
              "      <td>h</td>\n",
              "      <td>1035000.0</td>\n",
              "      <td>S</td>\n",
              "      <td>Biggin</td>\n",
              "      <td>4/02/2016</td>\n",
              "      <td>2.5</td>\n",
              "      <td>3067.0</td>\n",
              "      <td>2.0</td>\n",
              "      <td>1.0</td>\n",
              "      <td>0.0</td>\n",
              "      <td>156.0</td>\n",
              "      <td>Yarra City Council</td>\n",
              "      <td>-37.8079</td>\n",
              "      <td>144.9934</td>\n",
              "      <td>Northern Metropolitan</td>\n",
              "      <td>4019.0</td>\n",
              "    </tr>\n",
              "    <tr>\n",
              "      <th>2</th>\n",
              "      <td>4</td>\n",
              "      <td>Abbotsford</td>\n",
              "      <td>5 Charles St</td>\n",
              "      <td>3</td>\n",
              "      <td>h</td>\n",
              "      <td>1465000.0</td>\n",
              "      <td>SP</td>\n",
              "      <td>Biggin</td>\n",
              "      <td>4/03/2017</td>\n",
              "      <td>2.5</td>\n",
              "      <td>3067.0</td>\n",
              "      <td>3.0</td>\n",
              "      <td>2.0</td>\n",
              "      <td>0.0</td>\n",
              "      <td>134.0</td>\n",
              "      <td>Yarra City Council</td>\n",
              "      <td>-37.8093</td>\n",
              "      <td>144.9944</td>\n",
              "      <td>Northern Metropolitan</td>\n",
              "      <td>4019.0</td>\n",
              "    </tr>\n",
              "    <tr>\n",
              "      <th>3</th>\n",
              "      <td>5</td>\n",
              "      <td>Abbotsford</td>\n",
              "      <td>40 Federation La</td>\n",
              "      <td>3</td>\n",
              "      <td>h</td>\n",
              "      <td>850000.0</td>\n",
              "      <td>PI</td>\n",
              "      <td>Biggin</td>\n",
              "      <td>4/03/2017</td>\n",
              "      <td>2.5</td>\n",
              "      <td>3067.0</td>\n",
              "      <td>3.0</td>\n",
              "      <td>2.0</td>\n",
              "      <td>1.0</td>\n",
              "      <td>94.0</td>\n",
              "      <td>Yarra City Council</td>\n",
              "      <td>-37.7969</td>\n",
              "      <td>144.9969</td>\n",
              "      <td>Northern Metropolitan</td>\n",
              "      <td>4019.0</td>\n",
              "    </tr>\n",
              "    <tr>\n",
              "      <th>4</th>\n",
              "      <td>6</td>\n",
              "      <td>Abbotsford</td>\n",
              "      <td>55a Park St</td>\n",
              "      <td>4</td>\n",
              "      <td>h</td>\n",
              "      <td>1600000.0</td>\n",
              "      <td>VB</td>\n",
              "      <td>Nelson</td>\n",
              "      <td>4/06/2016</td>\n",
              "      <td>2.5</td>\n",
              "      <td>3067.0</td>\n",
              "      <td>3.0</td>\n",
              "      <td>1.0</td>\n",
              "      <td>2.0</td>\n",
              "      <td>120.0</td>\n",
              "      <td>Yarra City Council</td>\n",
              "      <td>-37.8072</td>\n",
              "      <td>144.9941</td>\n",
              "      <td>Northern Metropolitan</td>\n",
              "      <td>4019.0</td>\n",
              "    </tr>\n",
              "  </tbody>\n",
              "</table>\n",
              "</div>"
            ],
            "text/plain": [
              "   index      Suburb  ...             Regionname  Propertycount\n",
              "0      1  Abbotsford  ...  Northern Metropolitan         4019.0\n",
              "1      2  Abbotsford  ...  Northern Metropolitan         4019.0\n",
              "2      4  Abbotsford  ...  Northern Metropolitan         4019.0\n",
              "3      5  Abbotsford  ...  Northern Metropolitan         4019.0\n",
              "4      6  Abbotsford  ...  Northern Metropolitan         4019.0\n",
              "\n",
              "[5 rows x 20 columns]"
            ]
          },
          "metadata": {
            "tags": []
          },
          "execution_count": 27
        }
      ]
    },
    {
      "cell_type": "markdown",
      "metadata": {
        "id": "bVYEdQFCKdB-"
      },
      "source": [
        "Taking copy of original dataframe"
      ]
    },
    {
      "cell_type": "code",
      "metadata": {
        "id": "nut2UnyyGWR_"
      },
      "source": [
        "outlier_working_df=working_df"
      ],
      "execution_count": null,
      "outputs": []
    },
    {
      "cell_type": "markdown",
      "metadata": {
        "id": "3Wpw6awHKhRY"
      },
      "source": [
        "Filtering numerical variables"
      ]
    },
    {
      "cell_type": "code",
      "metadata": {
        "colab": {
          "base_uri": "https://localhost:8080/"
        },
        "id": "bo5jkQdCI7ki",
        "outputId": "837f0f47-5291-4f15-bd2b-a35955d89c9f"
      },
      "source": [
        "from scipy import stats\n",
        "import numpy as np\n",
        "\n",
        "outlier_working_df[['Rooms','Price','Distance','Bedroom2','Bathroom','Car','Landsize','Propertycount']]"
      ],
      "execution_count": null,
      "outputs": [
        {
          "output_type": "execute_result",
          "data": {
            "text/html": [
              "<div>\n",
              "<style scoped>\n",
              "    .dataframe tbody tr th:only-of-type {\n",
              "        vertical-align: middle;\n",
              "    }\n",
              "\n",
              "    .dataframe tbody tr th {\n",
              "        vertical-align: top;\n",
              "    }\n",
              "\n",
              "    .dataframe thead th {\n",
              "        text-align: right;\n",
              "    }\n",
              "</style>\n",
              "<table border=\"1\" class=\"dataframe\">\n",
              "  <thead>\n",
              "    <tr style=\"text-align: right;\">\n",
              "      <th></th>\n",
              "      <th>Rooms</th>\n",
              "      <th>Price</th>\n",
              "      <th>Distance</th>\n",
              "      <th>Bedroom2</th>\n",
              "      <th>Bathroom</th>\n",
              "      <th>Car</th>\n",
              "      <th>Landsize</th>\n",
              "      <th>Propertycount</th>\n",
              "    </tr>\n",
              "  </thead>\n",
              "  <tbody>\n",
              "    <tr>\n",
              "      <th>0</th>\n",
              "      <td>2</td>\n",
              "      <td>1480000.0</td>\n",
              "      <td>2.5</td>\n",
              "      <td>2.0</td>\n",
              "      <td>1.0</td>\n",
              "      <td>1.0</td>\n",
              "      <td>202.0</td>\n",
              "      <td>4019.0</td>\n",
              "    </tr>\n",
              "    <tr>\n",
              "      <th>1</th>\n",
              "      <td>2</td>\n",
              "      <td>1035000.0</td>\n",
              "      <td>2.5</td>\n",
              "      <td>2.0</td>\n",
              "      <td>1.0</td>\n",
              "      <td>0.0</td>\n",
              "      <td>156.0</td>\n",
              "      <td>4019.0</td>\n",
              "    </tr>\n",
              "    <tr>\n",
              "      <th>2</th>\n",
              "      <td>3</td>\n",
              "      <td>1465000.0</td>\n",
              "      <td>2.5</td>\n",
              "      <td>3.0</td>\n",
              "      <td>2.0</td>\n",
              "      <td>0.0</td>\n",
              "      <td>134.0</td>\n",
              "      <td>4019.0</td>\n",
              "    </tr>\n",
              "    <tr>\n",
              "      <th>3</th>\n",
              "      <td>3</td>\n",
              "      <td>850000.0</td>\n",
              "      <td>2.5</td>\n",
              "      <td>3.0</td>\n",
              "      <td>2.0</td>\n",
              "      <td>1.0</td>\n",
              "      <td>94.0</td>\n",
              "      <td>4019.0</td>\n",
              "    </tr>\n",
              "    <tr>\n",
              "      <th>4</th>\n",
              "      <td>4</td>\n",
              "      <td>1600000.0</td>\n",
              "      <td>2.5</td>\n",
              "      <td>3.0</td>\n",
              "      <td>1.0</td>\n",
              "      <td>2.0</td>\n",
              "      <td>120.0</td>\n",
              "      <td>4019.0</td>\n",
              "    </tr>\n",
              "    <tr>\n",
              "      <th>...</th>\n",
              "      <td>...</td>\n",
              "      <td>...</td>\n",
              "      <td>...</td>\n",
              "      <td>...</td>\n",
              "      <td>...</td>\n",
              "      <td>...</td>\n",
              "      <td>...</td>\n",
              "      <td>...</td>\n",
              "    </tr>\n",
              "    <tr>\n",
              "      <th>27240</th>\n",
              "      <td>3</td>\n",
              "      <td>570000.0</td>\n",
              "      <td>25.5</td>\n",
              "      <td>3.0</td>\n",
              "      <td>2.0</td>\n",
              "      <td>2.0</td>\n",
              "      <td>404.0</td>\n",
              "      <td>2940.0</td>\n",
              "    </tr>\n",
              "    <tr>\n",
              "      <th>27242</th>\n",
              "      <td>4</td>\n",
              "      <td>1480000.0</td>\n",
              "      <td>6.3</td>\n",
              "      <td>4.0</td>\n",
              "      <td>1.0</td>\n",
              "      <td>3.0</td>\n",
              "      <td>593.0</td>\n",
              "      <td>6543.0</td>\n",
              "    </tr>\n",
              "    <tr>\n",
              "      <th>27243</th>\n",
              "      <td>2</td>\n",
              "      <td>888000.0</td>\n",
              "      <td>6.3</td>\n",
              "      <td>2.0</td>\n",
              "      <td>2.0</td>\n",
              "      <td>1.0</td>\n",
              "      <td>98.0</td>\n",
              "      <td>6543.0</td>\n",
              "    </tr>\n",
              "    <tr>\n",
              "      <th>27244</th>\n",
              "      <td>2</td>\n",
              "      <td>705000.0</td>\n",
              "      <td>6.3</td>\n",
              "      <td>2.0</td>\n",
              "      <td>1.0</td>\n",
              "      <td>2.0</td>\n",
              "      <td>220.0</td>\n",
              "      <td>6543.0</td>\n",
              "    </tr>\n",
              "    <tr>\n",
              "      <th>27246</th>\n",
              "      <td>2</td>\n",
              "      <td>1020000.0</td>\n",
              "      <td>6.3</td>\n",
              "      <td>2.0</td>\n",
              "      <td>1.0</td>\n",
              "      <td>0.0</td>\n",
              "      <td>250.0</td>\n",
              "      <td>6543.0</td>\n",
              "    </tr>\n",
              "  </tbody>\n",
              "</table>\n",
              "<p>17679 rows × 8 columns</p>\n",
              "</div>"
            ],
            "text/plain": [
              "       Rooms      Price  Distance  ...  Car  Landsize  Propertycount\n",
              "0          2  1480000.0       2.5  ...  1.0     202.0         4019.0\n",
              "1          2  1035000.0       2.5  ...  0.0     156.0         4019.0\n",
              "2          3  1465000.0       2.5  ...  0.0     134.0         4019.0\n",
              "3          3   850000.0       2.5  ...  1.0      94.0         4019.0\n",
              "4          4  1600000.0       2.5  ...  2.0     120.0         4019.0\n",
              "...      ...        ...       ...  ...  ...       ...            ...\n",
              "27240      3   570000.0      25.5  ...  2.0     404.0         2940.0\n",
              "27242      4  1480000.0       6.3  ...  3.0     593.0         6543.0\n",
              "27243      2   888000.0       6.3  ...  1.0      98.0         6543.0\n",
              "27244      2   705000.0       6.3  ...  2.0     220.0         6543.0\n",
              "27246      2  1020000.0       6.3  ...  0.0     250.0         6543.0\n",
              "\n",
              "[17679 rows x 8 columns]"
            ]
          },
          "metadata": {
            "tags": []
          },
          "execution_count": 29
        }
      ]
    },
    {
      "cell_type": "code",
      "metadata": {
        "id": "n0mgfPDnJ3SN"
      },
      "source": [
        "outlier_working_df=outlier_working_df[(np.abs(stats.zscore(outlier_working_df[['Rooms','Price','Distance','Bedroom2','Bathroom','Car','Landsize','Propertycount']])) < 3).all(axis=1)]"
      ],
      "execution_count": null,
      "outputs": []
    },
    {
      "cell_type": "code",
      "metadata": {
        "colab": {
          "base_uri": "https://localhost:8080/"
        },
        "id": "Mr2qJEoGIr_j",
        "outputId": "3c4d8c95-41d3-4d72-b6be-c3462736f0ed"
      },
      "source": [
        "outlier_working_df.shape"
      ],
      "execution_count": null,
      "outputs": [
        {
          "output_type": "execute_result",
          "data": {
            "text/plain": [
              "(16091, 20)"
            ]
          },
          "metadata": {
            "tags": []
          },
          "execution_count": 31
        }
      ]
    },
    {
      "cell_type": "markdown",
      "metadata": {
        "id": "sxmJIvrsKtRY"
      },
      "source": [
        "Around 1500 rows of data deleted"
      ]
    },
    {
      "cell_type": "markdown",
      "metadata": {
        "id": "7ewWuRFeBlH-"
      },
      "source": [
        "### Handling categorical outliers"
      ]
    },
    {
      "cell_type": "markdown",
      "metadata": {
        "id": "EHulaTSWCBWx"
      },
      "source": [
        "We will go in detail through each of the categorical features"
      ]
    },
    {
      "cell_type": "markdown",
      "metadata": {
        "id": "QF5laSdFFfs7"
      },
      "source": [
        "Since region name is the most generalised version of the suburb, we will first delete region which are very less in number"
      ]
    },
    {
      "cell_type": "code",
      "metadata": {
        "colab": {
          "base_uri": "https://localhost:8080/"
        },
        "id": "Ld-oVeW2FXBh",
        "outputId": "3b6828d5-fc71-4d0e-b043-e5deca7509b3"
      },
      "source": [
        "(outlier_working_df['Regionname'].value_counts())"
      ],
      "execution_count": null,
      "outputs": [
        {
          "output_type": "execute_result",
          "data": {
            "text/plain": [
              "Southern Metropolitan         5127\n",
              "Northern Metropolitan         4529\n",
              "Western Metropolitan          3712\n",
              "Eastern Metropolitan          2025\n",
              "South-Eastern Metropolitan     583\n",
              "Western Victoria                40\n",
              "Northern Victoria               39\n",
              "Eastern Victoria                36\n",
              "Name: Regionname, dtype: int64"
            ]
          },
          "metadata": {
            "tags": []
          },
          "execution_count": 32
        }
      ]
    },
    {
      "cell_type": "code",
      "metadata": {
        "colab": {
          "base_uri": "https://localhost:8080/"
        },
        "id": "H9xk_HC4SeqU",
        "outputId": "76d1d140-ac61-45ec-a87f-33df5179f4e2"
      },
      "source": [
        "(outlier_working_df['Regionname'].value_counts())"
      ],
      "execution_count": null,
      "outputs": [
        {
          "output_type": "execute_result",
          "data": {
            "text/plain": [
              "Southern Metropolitan         5127\n",
              "Northern Metropolitan         4529\n",
              "Western Metropolitan          3712\n",
              "Eastern Metropolitan          2025\n",
              "South-Eastern Metropolitan     583\n",
              "Western Victoria                40\n",
              "Northern Victoria               39\n",
              "Eastern Victoria                36\n",
              "Name: Regionname, dtype: int64"
            ]
          },
          "metadata": {
            "tags": []
          },
          "execution_count": 33
        }
      ]
    },
    {
      "cell_type": "code",
      "metadata": {
        "id": "uQwMeJbUTHFD"
      },
      "source": [
        "outlier_working_df=outlier_working_df[(outlier_working_df.groupby('Regionname').Regionname.transform('count')>50)].copy()"
      ],
      "execution_count": null,
      "outputs": []
    },
    {
      "cell_type": "code",
      "metadata": {
        "colab": {
          "base_uri": "https://localhost:8080/"
        },
        "id": "NaQVRvmyTsZR",
        "outputId": "97016f9e-1b32-496a-846f-f7a0d6b54186"
      },
      "source": [
        "outlier_working_df.shape"
      ],
      "execution_count": null,
      "outputs": [
        {
          "output_type": "execute_result",
          "data": {
            "text/plain": [
              "(15976, 20)"
            ]
          },
          "metadata": {
            "tags": []
          },
          "execution_count": 35
        }
      ]
    },
    {
      "cell_type": "code",
      "metadata": {
        "colab": {
          "base_uri": "https://localhost:8080/"
        },
        "id": "LRKLX3QMFcfX",
        "outputId": "883cf1f4-eb69-4213-86a1-f1096b6b9ab0"
      },
      "source": [
        "(outlier_working_df['CouncilArea'].value_counts())"
      ],
      "execution_count": null,
      "outputs": [
        {
          "output_type": "execute_result",
          "data": {
            "text/plain": [
              "Boroondara City Council           1480\n",
              "Moreland City Council             1158\n",
              "Darebin City Council              1092\n",
              "Moonee Valley City Council        1067\n",
              "Glen Eira City Council            1020\n",
              "Melbourne City Council             919\n",
              "Banyule City Council               873\n",
              "Maribyrnong City Council           841\n",
              "Brimbank City Council              828\n",
              "Bayside City Council               752\n",
              "Monash City Council                595\n",
              "Port Phillip City Council          587\n",
              "Hume City Council                  577\n",
              "Yarra City Council                 576\n",
              "Hobsons Bay City Council           543\n",
              "Manningham City Council            528\n",
              "Stonnington City Council           512\n",
              "Whittlesea City Council            460\n",
              "Kingston City Council              399\n",
              "Wyndham City Council               290\n",
              "Whitehorse City Council            287\n",
              "Maroondah City Council             205\n",
              "Knox City Council                  191\n",
              "Greater Dandenong City Council     111\n",
              "Melton City Council                 60\n",
              "Casey City Council                  21\n",
              "Nillumbik Shire Council              4\n",
              "Name: CouncilArea, dtype: int64"
            ]
          },
          "metadata": {
            "tags": []
          },
          "execution_count": 36
        }
      ]
    },
    {
      "cell_type": "markdown",
      "metadata": {
        "id": "WflXjWRoVpna"
      },
      "source": [
        "Deleting council areas with count less than 100"
      ]
    },
    {
      "cell_type": "code",
      "metadata": {
        "id": "9fgF-z4WVsrM"
      },
      "source": [
        "outlier_working_df=outlier_working_df[(outlier_working_df.groupby('CouncilArea').Regionname.transform('count')>50)].copy()"
      ],
      "execution_count": null,
      "outputs": []
    },
    {
      "cell_type": "code",
      "metadata": {
        "colab": {
          "base_uri": "https://localhost:8080/"
        },
        "id": "27TKxgluBolf",
        "outputId": "edc328f3-6fdd-448a-9d55-7d40eeaf1b49"
      },
      "source": [
        "outlier_working_df.head(1)"
      ],
      "execution_count": null,
      "outputs": [
        {
          "output_type": "execute_result",
          "data": {
            "text/html": [
              "<div>\n",
              "<style scoped>\n",
              "    .dataframe tbody tr th:only-of-type {\n",
              "        vertical-align: middle;\n",
              "    }\n",
              "\n",
              "    .dataframe tbody tr th {\n",
              "        vertical-align: top;\n",
              "    }\n",
              "\n",
              "    .dataframe thead th {\n",
              "        text-align: right;\n",
              "    }\n",
              "</style>\n",
              "<table border=\"1\" class=\"dataframe\">\n",
              "  <thead>\n",
              "    <tr style=\"text-align: right;\">\n",
              "      <th></th>\n",
              "      <th>index</th>\n",
              "      <th>Suburb</th>\n",
              "      <th>Address</th>\n",
              "      <th>Rooms</th>\n",
              "      <th>Type</th>\n",
              "      <th>Price</th>\n",
              "      <th>Method</th>\n",
              "      <th>SellerG</th>\n",
              "      <th>Date</th>\n",
              "      <th>Distance</th>\n",
              "      <th>Postcode</th>\n",
              "      <th>Bedroom2</th>\n",
              "      <th>Bathroom</th>\n",
              "      <th>Car</th>\n",
              "      <th>Landsize</th>\n",
              "      <th>CouncilArea</th>\n",
              "      <th>Lattitude</th>\n",
              "      <th>Longtitude</th>\n",
              "      <th>Regionname</th>\n",
              "      <th>Propertycount</th>\n",
              "    </tr>\n",
              "  </thead>\n",
              "  <tbody>\n",
              "    <tr>\n",
              "      <th>0</th>\n",
              "      <td>1</td>\n",
              "      <td>Abbotsford</td>\n",
              "      <td>85 Turner St</td>\n",
              "      <td>2</td>\n",
              "      <td>h</td>\n",
              "      <td>1480000.0</td>\n",
              "      <td>S</td>\n",
              "      <td>Biggin</td>\n",
              "      <td>3/12/2016</td>\n",
              "      <td>2.5</td>\n",
              "      <td>3067.0</td>\n",
              "      <td>2.0</td>\n",
              "      <td>1.0</td>\n",
              "      <td>1.0</td>\n",
              "      <td>202.0</td>\n",
              "      <td>Yarra City Council</td>\n",
              "      <td>-37.7996</td>\n",
              "      <td>144.9984</td>\n",
              "      <td>Northern Metropolitan</td>\n",
              "      <td>4019.0</td>\n",
              "    </tr>\n",
              "  </tbody>\n",
              "</table>\n",
              "</div>"
            ],
            "text/plain": [
              "   index      Suburb  ...             Regionname  Propertycount\n",
              "0      1  Abbotsford  ...  Northern Metropolitan         4019.0\n",
              "\n",
              "[1 rows x 20 columns]"
            ]
          },
          "metadata": {
            "tags": []
          },
          "execution_count": 38
        }
      ]
    },
    {
      "cell_type": "code",
      "metadata": {
        "id": "FGLAvjyGCOKK"
      },
      "source": [
        "temp_count=outlier_working_df['Suburb'].value_counts()"
      ],
      "execution_count": null,
      "outputs": []
    },
    {
      "cell_type": "code",
      "metadata": {
        "colab": {
          "base_uri": "https://localhost:8080/"
        },
        "id": "OERwX35jC8Zt",
        "outputId": "fb35e319-ffe2-497a-cd1e-c4ac164397c1"
      },
      "source": [
        "list(temp_count)"
      ],
      "execution_count": null,
      "outputs": [
        {
          "output_type": "execute_result",
          "data": {
            "text/plain": [
              "[289,\n",
              " 282,\n",
              " 277,\n",
              " 253,\n",
              " 244,\n",
              " 236,\n",
              " 224,\n",
              " 204,\n",
              " 203,\n",
              " 201,\n",
              " 200,\n",
              " 192,\n",
              " 191,\n",
              " 184,\n",
              " 183,\n",
              " 178,\n",
              " 174,\n",
              " 171,\n",
              " 169,\n",
              " 169,\n",
              " 163,\n",
              " 162,\n",
              " 158,\n",
              " 155,\n",
              " 152,\n",
              " 152,\n",
              " 151,\n",
              " 150,\n",
              " 143,\n",
              " 142,\n",
              " 140,\n",
              " 134,\n",
              " 134,\n",
              " 131,\n",
              " 130,\n",
              " 130,\n",
              " 128,\n",
              " 128,\n",
              " 127,\n",
              " 126,\n",
              " 123,\n",
              " 120,\n",
              " 109,\n",
              " 109,\n",
              " 106,\n",
              " 106,\n",
              " 106,\n",
              " 104,\n",
              " 104,\n",
              " 103,\n",
              " 101,\n",
              " 100,\n",
              " 100,\n",
              " 98,\n",
              " 95,\n",
              " 94,\n",
              " 91,\n",
              " 91,\n",
              " 90,\n",
              " 89,\n",
              " 89,\n",
              " 89,\n",
              " 88,\n",
              " 86,\n",
              " 86,\n",
              " 84,\n",
              " 82,\n",
              " 82,\n",
              " 81,\n",
              " 81,\n",
              " 81,\n",
              " 80,\n",
              " 78,\n",
              " 77,\n",
              " 74,\n",
              " 71,\n",
              " 71,\n",
              " 71,\n",
              " 70,\n",
              " 70,\n",
              " 70,\n",
              " 69,\n",
              " 69,\n",
              " 68,\n",
              " 67,\n",
              " 67,\n",
              " 66,\n",
              " 66,\n",
              " 66,\n",
              " 66,\n",
              " 65,\n",
              " 63,\n",
              " 62,\n",
              " 62,\n",
              " 62,\n",
              " 62,\n",
              " 61,\n",
              " 60,\n",
              " 59,\n",
              " 59,\n",
              " 56,\n",
              " 55,\n",
              " 53,\n",
              " 53,\n",
              " 53,\n",
              " 52,\n",
              " 52,\n",
              " 51,\n",
              " 51,\n",
              " 51,\n",
              " 50,\n",
              " 50,\n",
              " 49,\n",
              " 48,\n",
              " 48,\n",
              " 48,\n",
              " 47,\n",
              " 47,\n",
              " 46,\n",
              " 46,\n",
              " 46,\n",
              " 45,\n",
              " 45,\n",
              " 45,\n",
              " 45,\n",
              " 44,\n",
              " 43,\n",
              " 42,\n",
              " 41,\n",
              " 41,\n",
              " 41,\n",
              " 40,\n",
              " 40,\n",
              " 40,\n",
              " 39,\n",
              " 39,\n",
              " 39,\n",
              " 37,\n",
              " 37,\n",
              " 36,\n",
              " 36,\n",
              " 36,\n",
              " 35,\n",
              " 35,\n",
              " 35,\n",
              " 35,\n",
              " 35,\n",
              " 34,\n",
              " 34,\n",
              " 34,\n",
              " 33,\n",
              " 33,\n",
              " 33,\n",
              " 32,\n",
              " 31,\n",
              " 30,\n",
              " 29,\n",
              " 28,\n",
              " 28,\n",
              " 28,\n",
              " 28,\n",
              " 28,\n",
              " 27,\n",
              " 27,\n",
              " 27,\n",
              " 27,\n",
              " 26,\n",
              " 26,\n",
              " 25,\n",
              " 25,\n",
              " 25,\n",
              " 25,\n",
              " 25,\n",
              " 24,\n",
              " 24,\n",
              " 23,\n",
              " 23,\n",
              " 23,\n",
              " 23,\n",
              " 22,\n",
              " 22,\n",
              " 22,\n",
              " 22,\n",
              " 21,\n",
              " 21,\n",
              " 20,\n",
              " 20,\n",
              " 20,\n",
              " 20,\n",
              " 19,\n",
              " 19,\n",
              " 19,\n",
              " 19,\n",
              " 19,\n",
              " 19,\n",
              " 19,\n",
              " 18,\n",
              " 18,\n",
              " 18,\n",
              " 18,\n",
              " 18,\n",
              " 18,\n",
              " 18,\n",
              " 15,\n",
              " 15,\n",
              " 14,\n",
              " 14,\n",
              " 14,\n",
              " 14,\n",
              " 14,\n",
              " 13,\n",
              " 13,\n",
              " 13,\n",
              " 12,\n",
              " 12,\n",
              " 12,\n",
              " 12,\n",
              " 11,\n",
              " 11,\n",
              " 11,\n",
              " 10,\n",
              " 10,\n",
              " 10,\n",
              " 10,\n",
              " 10,\n",
              " 10,\n",
              " 10,\n",
              " 10,\n",
              " 9,\n",
              " 9,\n",
              " 9,\n",
              " 9,\n",
              " 9,\n",
              " 9,\n",
              " 9,\n",
              " 9,\n",
              " 8,\n",
              " 8,\n",
              " 8,\n",
              " 8,\n",
              " 8,\n",
              " 8,\n",
              " 8,\n",
              " 8,\n",
              " 7,\n",
              " 7,\n",
              " 7,\n",
              " 7,\n",
              " 6,\n",
              " 6,\n",
              " 6,\n",
              " 6,\n",
              " 5,\n",
              " 5,\n",
              " 5,\n",
              " 5,\n",
              " 4,\n",
              " 3,\n",
              " 3,\n",
              " 3,\n",
              " 3,\n",
              " 2,\n",
              " 2,\n",
              " 2,\n",
              " 1,\n",
              " 1,\n",
              " 1,\n",
              " 1,\n",
              " 1,\n",
              " 1,\n",
              " 1]"
            ]
          },
          "metadata": {
            "tags": []
          },
          "execution_count": 40
        }
      ]
    },
    {
      "cell_type": "code",
      "metadata": {
        "id": "szdk56JuCggC"
      },
      "source": [
        "#To see all the count\n",
        "#list(temp_count)"
      ],
      "execution_count": null,
      "outputs": []
    },
    {
      "cell_type": "code",
      "metadata": {
        "id": "ZoJyc-8cYOK6"
      },
      "source": [
        "outlier_working_df=outlier_working_df[(outlier_working_df.groupby('Suburb').Regionname.transform('count')>15)].copy()"
      ],
      "execution_count": null,
      "outputs": []
    },
    {
      "cell_type": "code",
      "metadata": {
        "colab": {
          "base_uri": "https://localhost:8080/"
        },
        "id": "oeYOeQinDHq0",
        "outputId": "9fc8e119-aea0-43e0-be36-10fc1fc060fb"
      },
      "source": [
        "outlier_working_df['Type'].value_counts()"
      ],
      "execution_count": null,
      "outputs": [
        {
          "output_type": "execute_result",
          "data": {
            "text/plain": [
              "h    11313\n",
              "u     2877\n",
              "t     1224\n",
              "Name: Type, dtype: int64"
            ]
          },
          "metadata": {
            "tags": []
          },
          "execution_count": 43
        }
      ]
    },
    {
      "cell_type": "code",
      "metadata": {
        "colab": {
          "base_uri": "https://localhost:8080/"
        },
        "id": "OAejxrPxDMok",
        "outputId": "324a625b-743d-4a2f-fe04-460b4226e32c"
      },
      "source": [
        "outlier_working_df['Method'].value_counts()"
      ],
      "execution_count": null,
      "outputs": [
        {
          "output_type": "execute_result",
          "data": {
            "text/plain": [
              "S     10099\n",
              "SP     1936\n",
              "PI     1811\n",
              "VB     1467\n",
              "SA      101\n",
              "Name: Method, dtype: int64"
            ]
          },
          "metadata": {
            "tags": []
          },
          "execution_count": 44
        }
      ]
    },
    {
      "cell_type": "code",
      "metadata": {
        "colab": {
          "base_uri": "https://localhost:8080/"
        },
        "id": "2LNAQPQFYdqi",
        "outputId": "9e1a7ee5-6182-4c85-dd62-469597e28583"
      },
      "source": [
        "outlier_working_df.head(1)"
      ],
      "execution_count": null,
      "outputs": [
        {
          "output_type": "execute_result",
          "data": {
            "text/html": [
              "<div>\n",
              "<style scoped>\n",
              "    .dataframe tbody tr th:only-of-type {\n",
              "        vertical-align: middle;\n",
              "    }\n",
              "\n",
              "    .dataframe tbody tr th {\n",
              "        vertical-align: top;\n",
              "    }\n",
              "\n",
              "    .dataframe thead th {\n",
              "        text-align: right;\n",
              "    }\n",
              "</style>\n",
              "<table border=\"1\" class=\"dataframe\">\n",
              "  <thead>\n",
              "    <tr style=\"text-align: right;\">\n",
              "      <th></th>\n",
              "      <th>index</th>\n",
              "      <th>Suburb</th>\n",
              "      <th>Address</th>\n",
              "      <th>Rooms</th>\n",
              "      <th>Type</th>\n",
              "      <th>Price</th>\n",
              "      <th>Method</th>\n",
              "      <th>SellerG</th>\n",
              "      <th>Date</th>\n",
              "      <th>Distance</th>\n",
              "      <th>Postcode</th>\n",
              "      <th>Bedroom2</th>\n",
              "      <th>Bathroom</th>\n",
              "      <th>Car</th>\n",
              "      <th>Landsize</th>\n",
              "      <th>CouncilArea</th>\n",
              "      <th>Lattitude</th>\n",
              "      <th>Longtitude</th>\n",
              "      <th>Regionname</th>\n",
              "      <th>Propertycount</th>\n",
              "    </tr>\n",
              "  </thead>\n",
              "  <tbody>\n",
              "    <tr>\n",
              "      <th>0</th>\n",
              "      <td>1</td>\n",
              "      <td>Abbotsford</td>\n",
              "      <td>85 Turner St</td>\n",
              "      <td>2</td>\n",
              "      <td>h</td>\n",
              "      <td>1480000.0</td>\n",
              "      <td>S</td>\n",
              "      <td>Biggin</td>\n",
              "      <td>3/12/2016</td>\n",
              "      <td>2.5</td>\n",
              "      <td>3067.0</td>\n",
              "      <td>2.0</td>\n",
              "      <td>1.0</td>\n",
              "      <td>1.0</td>\n",
              "      <td>202.0</td>\n",
              "      <td>Yarra City Council</td>\n",
              "      <td>-37.7996</td>\n",
              "      <td>144.9984</td>\n",
              "      <td>Northern Metropolitan</td>\n",
              "      <td>4019.0</td>\n",
              "    </tr>\n",
              "  </tbody>\n",
              "</table>\n",
              "</div>"
            ],
            "text/plain": [
              "   index      Suburb  ...             Regionname  Propertycount\n",
              "0      1  Abbotsford  ...  Northern Metropolitan         4019.0\n",
              "\n",
              "[1 rows x 20 columns]"
            ]
          },
          "metadata": {
            "tags": []
          },
          "execution_count": 45
        }
      ]
    },
    {
      "cell_type": "code",
      "metadata": {
        "colab": {
          "base_uri": "https://localhost:8080/"
        },
        "id": "qM9Dn4HQDYO4",
        "outputId": "bd4433df-2f2d-4c80-abb8-bdcdbb5713be"
      },
      "source": [
        "(outlier_working_df['Postcode'].value_counts())"
      ],
      "execution_count": null,
      "outputs": [
        {
          "output_type": "execute_result",
          "data": {
            "text/plain": [
              "3020.0    351\n",
              "3046.0    344\n",
              "3040.0    322\n",
              "3058.0    307\n",
              "3121.0    305\n",
              "         ... \n",
              "3028.0     18\n",
              "3171.0     18\n",
              "3002.0     18\n",
              "3168.0     18\n",
              "3178.0     18\n",
              "Name: Postcode, Length: 144, dtype: int64"
            ]
          },
          "metadata": {
            "tags": []
          },
          "execution_count": 46
        }
      ]
    },
    {
      "cell_type": "code",
      "metadata": {
        "colab": {
          "base_uri": "https://localhost:8080/"
        },
        "id": "ozMsmHq3Y83t",
        "outputId": "5434f9da-8cba-4695-86d1-1d888e84760e"
      },
      "source": [
        "outlier_working_df.shape"
      ],
      "execution_count": null,
      "outputs": [
        {
          "output_type": "execute_result",
          "data": {
            "text/plain": [
              "(15414, 20)"
            ]
          },
          "metadata": {
            "tags": []
          },
          "execution_count": 47
        }
      ]
    },
    {
      "cell_type": "markdown",
      "metadata": {
        "id": "iKzgL8IVLi_e"
      },
      "source": [
        "### Merging values"
      ]
    },
    {
      "cell_type": "code",
      "metadata": {
        "id": "IuCByoiLLnxL"
      },
      "source": [
        "working_df=outlier_working_df"
      ],
      "execution_count": null,
      "outputs": []
    },
    {
      "cell_type": "markdown",
      "metadata": {
        "id": "H3TAyZUWLccl"
      },
      "source": [
        "# Feature Selection: Primary EDA"
      ]
    },
    {
      "cell_type": "markdown",
      "metadata": {
        "id": "2iofpitgOEPG"
      },
      "source": [
        "## Correlation Based"
      ]
    },
    {
      "cell_type": "code",
      "metadata": {
        "colab": {
          "base_uri": "https://localhost:8080/"
        },
        "id": "2c7v_jVyIs2n",
        "outputId": "34ce3ddd-99dc-4032-d9de-a4a00da5138b"
      },
      "source": [
        "import matplotlib.pyplot as plt\n",
        "import seaborn as sns\n",
        "\n",
        "corr=working_df.corr()\n",
        "fig, ax = plt.subplots(figsize=(10,10)) \n",
        "sns.heatmap(corr,annot=True,ax=ax)\n"
      ],
      "execution_count": null,
      "outputs": [
        {
          "output_type": "execute_result",
          "data": {
            "text/plain": [
              "<matplotlib.axes._subplots.AxesSubplot at 0x7ffaf82d5750>"
            ]
          },
          "metadata": {
            "tags": []
          },
          "execution_count": 49
        },
        {
          "output_type": "display_data",
          "data": {
            "image/png": "[encoded data removed]",
            "text/plain": [
              "<Figure size 720x720 with 2 Axes>"
            ]
          },
          "metadata": {
            "tags": [],
            "needs_background": "light"
          }
        }
      ]
    },
    {
      "cell_type": "code",
      "metadata": {
        "colab": {
          "base_uri": "https://localhost:8080/"
        },
        "id": "1fZ2m4kdMSnw",
        "outputId": "a3ed3da1-8178-4e11-b4ad-c2a492744c75"
      },
      "source": [
        "corr"
      ],
      "execution_count": null,
      "outputs": [
        {
          "output_type": "execute_result",
          "data": {
            "text/html": [
              "<div>\n",
              "<style scoped>\n",
              "    .dataframe tbody tr th:only-of-type {\n",
              "        vertical-align: middle;\n",
              "    }\n",
              "\n",
              "    .dataframe tbody tr th {\n",
              "        vertical-align: top;\n",
              "    }\n",
              "\n",
              "    .dataframe thead th {\n",
              "        text-align: right;\n",
              "    }\n",
              "</style>\n",
              "<table border=\"1\" class=\"dataframe\">\n",
              "  <thead>\n",
              "    <tr style=\"text-align: right;\">\n",
              "      <th></th>\n",
              "      <th>index</th>\n",
              "      <th>Rooms</th>\n",
              "      <th>Price</th>\n",
              "      <th>Distance</th>\n",
              "      <th>Postcode</th>\n",
              "      <th>Bedroom2</th>\n",
              "      <th>Bathroom</th>\n",
              "      <th>Car</th>\n",
              "      <th>Landsize</th>\n",
              "      <th>Lattitude</th>\n",
              "      <th>Longtitude</th>\n",
              "      <th>Propertycount</th>\n",
              "    </tr>\n",
              "  </thead>\n",
              "  <tbody>\n",
              "    <tr>\n",
              "      <th>index</th>\n",
              "      <td>1.000000</td>\n",
              "      <td>0.235082</td>\n",
              "      <td>0.047358</td>\n",
              "      <td>0.315348</td>\n",
              "      <td>0.064092</td>\n",
              "      <td>0.252080</td>\n",
              "      <td>0.127461</td>\n",
              "      <td>0.170014</td>\n",
              "      <td>0.118820</td>\n",
              "      <td>0.101966</td>\n",
              "      <td>0.047290</td>\n",
              "      <td>0.041602</td>\n",
              "    </tr>\n",
              "    <tr>\n",
              "      <th>Rooms</th>\n",
              "      <td>0.235082</td>\n",
              "      <td>1.000000</td>\n",
              "      <td>0.470726</td>\n",
              "      <td>0.347374</td>\n",
              "      <td>0.046922</td>\n",
              "      <td>0.967676</td>\n",
              "      <td>0.572683</td>\n",
              "      <td>0.404087</td>\n",
              "      <td>0.170972</td>\n",
              "      <td>0.052026</td>\n",
              "      <td>0.100200</td>\n",
              "      <td>-0.060387</td>\n",
              "    </tr>\n",
              "    <tr>\n",
              "      <th>Price</th>\n",
              "      <td>0.047358</td>\n",
              "      <td>0.470726</td>\n",
              "      <td>1.000000</td>\n",
              "      <td>-0.176188</td>\n",
              "      <td>0.154764</td>\n",
              "      <td>0.460048</td>\n",
              "      <td>0.387801</td>\n",
              "      <td>0.205051</td>\n",
              "      <td>0.111907</td>\n",
              "      <td>-0.273653</td>\n",
              "      <td>0.247509</td>\n",
              "      <td>-0.015915</td>\n",
              "    </tr>\n",
              "    <tr>\n",
              "      <th>Distance</th>\n",
              "      <td>0.315348</td>\n",
              "      <td>0.347374</td>\n",
              "      <td>-0.176188</td>\n",
              "      <td>1.000000</td>\n",
              "      <td>0.291557</td>\n",
              "      <td>0.353448</td>\n",
              "      <td>0.175686</td>\n",
              "      <td>0.305510</td>\n",
              "      <td>0.152291</td>\n",
              "      <td>0.006836</td>\n",
              "      <td>0.267088</td>\n",
              "      <td>-0.045436</td>\n",
              "    </tr>\n",
              "    <tr>\n",
              "      <th>Postcode</th>\n",
              "      <td>0.064092</td>\n",
              "      <td>0.046922</td>\n",
              "      <td>0.154764</td>\n",
              "      <td>0.291557</td>\n",
              "      <td>1.000000</td>\n",
              "      <td>0.051028</td>\n",
              "      <td>0.124199</td>\n",
              "      <td>0.047211</td>\n",
              "      <td>0.011310</td>\n",
              "      <td>-0.278007</td>\n",
              "      <td>0.492292</td>\n",
              "      <td>0.054860</td>\n",
              "    </tr>\n",
              "    <tr>\n",
              "      <th>Bedroom2</th>\n",
              "      <td>0.252080</td>\n",
              "      <td>0.967676</td>\n",
              "      <td>0.460048</td>\n",
              "      <td>0.353448</td>\n",
              "      <td>0.051028</td>\n",
              "      <td>1.000000</td>\n",
              "      <td>0.567914</td>\n",
              "      <td>0.405366</td>\n",
              "      <td>0.170049</td>\n",
              "      <td>0.053712</td>\n",
              "      <td>0.103879</td>\n",
              "      <td>-0.057829</td>\n",
              "    </tr>\n",
              "    <tr>\n",
              "      <th>Bathroom</th>\n",
              "      <td>0.127461</td>\n",
              "      <td>0.572683</td>\n",
              "      <td>0.387801</td>\n",
              "      <td>0.175686</td>\n",
              "      <td>0.124199</td>\n",
              "      <td>0.567914</td>\n",
              "      <td>1.000000</td>\n",
              "      <td>0.300603</td>\n",
              "      <td>0.083935</td>\n",
              "      <td>-0.041352</td>\n",
              "      <td>0.111365</td>\n",
              "      <td>-0.015882</td>\n",
              "    </tr>\n",
              "    <tr>\n",
              "      <th>Car</th>\n",
              "      <td>0.170014</td>\n",
              "      <td>0.404087</td>\n",
              "      <td>0.205051</td>\n",
              "      <td>0.305510</td>\n",
              "      <td>0.047211</td>\n",
              "      <td>0.405366</td>\n",
              "      <td>0.300603</td>\n",
              "      <td>1.000000</td>\n",
              "      <td>0.170688</td>\n",
              "      <td>0.007941</td>\n",
              "      <td>0.071181</td>\n",
              "      <td>-0.037740</td>\n",
              "    </tr>\n",
              "    <tr>\n",
              "      <th>Landsize</th>\n",
              "      <td>0.118820</td>\n",
              "      <td>0.170972</td>\n",
              "      <td>0.111907</td>\n",
              "      <td>0.152291</td>\n",
              "      <td>0.011310</td>\n",
              "      <td>0.170049</td>\n",
              "      <td>0.083935</td>\n",
              "      <td>0.170688</td>\n",
              "      <td>1.000000</td>\n",
              "      <td>0.008525</td>\n",
              "      <td>0.082601</td>\n",
              "      <td>-0.017315</td>\n",
              "    </tr>\n",
              "    <tr>\n",
              "      <th>Lattitude</th>\n",
              "      <td>0.101966</td>\n",
              "      <td>0.052026</td>\n",
              "      <td>-0.273653</td>\n",
              "      <td>0.006836</td>\n",
              "      <td>-0.278007</td>\n",
              "      <td>0.053712</td>\n",
              "      <td>-0.041352</td>\n",
              "      <td>0.007941</td>\n",
              "      <td>0.008525</td>\n",
              "      <td>1.000000</td>\n",
              "      <td>-0.249815</td>\n",
              "      <td>-0.050560</td>\n",
              "    </tr>\n",
              "    <tr>\n",
              "      <th>Longtitude</th>\n",
              "      <td>0.047290</td>\n",
              "      <td>0.100200</td>\n",
              "      <td>0.247509</td>\n",
              "      <td>0.267088</td>\n",
              "      <td>0.492292</td>\n",
              "      <td>0.103879</td>\n",
              "      <td>0.111365</td>\n",
              "      <td>0.071181</td>\n",
              "      <td>0.082601</td>\n",
              "      <td>-0.249815</td>\n",
              "      <td>1.000000</td>\n",
              "      <td>0.020220</td>\n",
              "    </tr>\n",
              "    <tr>\n",
              "      <th>Propertycount</th>\n",
              "      <td>0.041602</td>\n",
              "      <td>-0.060387</td>\n",
              "      <td>-0.015915</td>\n",
              "      <td>-0.045436</td>\n",
              "      <td>0.054860</td>\n",
              "      <td>-0.057829</td>\n",
              "      <td>-0.015882</td>\n",
              "      <td>-0.037740</td>\n",
              "      <td>-0.017315</td>\n",
              "      <td>-0.050560</td>\n",
              "      <td>0.020220</td>\n",
              "      <td>1.000000</td>\n",
              "    </tr>\n",
              "  </tbody>\n",
              "</table>\n",
              "</div>"
            ],
            "text/plain": [
              "                  index     Rooms  ...  Longtitude  Propertycount\n",
              "index          1.000000  0.235082  ...    0.047290       0.041602\n",
              "Rooms          0.235082  1.000000  ...    0.100200      -0.060387\n",
              "Price          0.047358  0.470726  ...    0.247509      -0.015915\n",
              "Distance       0.315348  0.347374  ...    0.267088      -0.045436\n",
              "Postcode       0.064092  0.046922  ...    0.492292       0.054860\n",
              "Bedroom2       0.252080  0.967676  ...    0.103879      -0.057829\n",
              "Bathroom       0.127461  0.572683  ...    0.111365      -0.015882\n",
              "Car            0.170014  0.404087  ...    0.071181      -0.037740\n",
              "Landsize       0.118820  0.170972  ...    0.082601      -0.017315\n",
              "Lattitude      0.101966  0.052026  ...   -0.249815      -0.050560\n",
              "Longtitude     0.047290  0.100200  ...    1.000000       0.020220\n",
              "Propertycount  0.041602 -0.060387  ...    0.020220       1.000000\n",
              "\n",
              "[12 rows x 12 columns]"
            ]
          },
          "metadata": {
            "tags": []
          },
          "execution_count": 50
        }
      ]
    },
    {
      "cell_type": "markdown",
      "metadata": {
        "id": "YsmiWNkHMatN"
      },
      "source": [
        "As expected correlation between:\n",
        "\n",
        "*   Bedroom2 and Rooms (More than 0.9)\n",
        "*   Price and Bedroom2 (around 0.5)\n",
        "*   Bathroom and rooms (around 0.5)\n",
        "\n",
        "One of the attributes Bedroom2 or Room can be deleted as this can lead to mulitcollinearity\n",
        "\n",
        "\n",
        "\n"
      ]
    },
    {
      "cell_type": "code",
      "metadata": {
        "id": "BhU82ZonMZL3"
      },
      "source": [
        "working_df=working_df.drop(['Bedroom2'],axis=1).copy()"
      ],
      "execution_count": null,
      "outputs": []
    },
    {
      "cell_type": "markdown",
      "metadata": {
        "id": "7LlZ6Vm_OGrJ"
      },
      "source": [
        "## Data characteristics based"
      ]
    },
    {
      "cell_type": "markdown",
      "metadata": {
        "id": "IcxGZO5eOSKT"
      },
      "source": [
        "During intensive exploring of the dataset we found that the address could be too sparse and thus we will remove this from the set of features. Additionally, the suburb contains the generalised information regarding the street. We will also be removing the sellerG which is the name of the seller as this won't be count toward the properties of the house"
      ]
    },
    {
      "cell_type": "code",
      "metadata": {
        "colab": {
          "base_uri": "https://localhost:8080/"
        },
        "id": "Qol96ldoOLW7",
        "outputId": "bd81faa7-404d-427e-c9b6-ae5a1ee65cd5"
      },
      "source": [
        "working_df.head()"
      ],
      "execution_count": null,
      "outputs": [
        {
          "output_type": "execute_result",
          "data": {
            "text/html": [
              "<div>\n",
              "<style scoped>\n",
              "    .dataframe tbody tr th:only-of-type {\n",
              "        vertical-align: middle;\n",
              "    }\n",
              "\n",
              "    .dataframe tbody tr th {\n",
              "        vertical-align: top;\n",
              "    }\n",
              "\n",
              "    .dataframe thead th {\n",
              "        text-align: right;\n",
              "    }\n",
              "</style>\n",
              "<table border=\"1\" class=\"dataframe\">\n",
              "  <thead>\n",
              "    <tr style=\"text-align: right;\">\n",
              "      <th></th>\n",
              "      <th>index</th>\n",
              "      <th>Suburb</th>\n",
              "      <th>Address</th>\n",
              "      <th>Rooms</th>\n",
              "      <th>Type</th>\n",
              "      <th>Price</th>\n",
              "      <th>Method</th>\n",
              "      <th>SellerG</th>\n",
              "      <th>Date</th>\n",
              "      <th>Distance</th>\n",
              "      <th>Postcode</th>\n",
              "      <th>Bathroom</th>\n",
              "      <th>Car</th>\n",
              "      <th>Landsize</th>\n",
              "      <th>CouncilArea</th>\n",
              "      <th>Lattitude</th>\n",
              "      <th>Longtitude</th>\n",
              "      <th>Regionname</th>\n",
              "      <th>Propertycount</th>\n",
              "    </tr>\n",
              "  </thead>\n",
              "  <tbody>\n",
              "    <tr>\n",
              "      <th>0</th>\n",
              "      <td>1</td>\n",
              "      <td>Abbotsford</td>\n",
              "      <td>85 Turner St</td>\n",
              "      <td>2</td>\n",
              "      <td>h</td>\n",
              "      <td>1480000.0</td>\n",
              "      <td>S</td>\n",
              "      <td>Biggin</td>\n",
              "      <td>3/12/2016</td>\n",
              "      <td>2.5</td>\n",
              "      <td>3067.0</td>\n",
              "      <td>1.0</td>\n",
              "      <td>1.0</td>\n",
              "      <td>202.0</td>\n",
              "      <td>Yarra City Council</td>\n",
              "      <td>-37.7996</td>\n",
              "      <td>144.9984</td>\n",
              "      <td>Northern Metropolitan</td>\n",
              "      <td>4019.0</td>\n",
              "    </tr>\n",
              "    <tr>\n",
              "      <th>1</th>\n",
              "      <td>2</td>\n",
              "      <td>Abbotsford</td>\n",
              "      <td>25 Bloomburg St</td>\n",
              "      <td>2</td>\n",
              "      <td>h</td>\n",
              "      <td>1035000.0</td>\n",
              "      <td>S</td>\n",
              "      <td>Biggin</td>\n",
              "      <td>4/02/2016</td>\n",
              "      <td>2.5</td>\n",
              "      <td>3067.0</td>\n",
              "      <td>1.0</td>\n",
              "      <td>0.0</td>\n",
              "      <td>156.0</td>\n",
              "      <td>Yarra City Council</td>\n",
              "      <td>-37.8079</td>\n",
              "      <td>144.9934</td>\n",
              "      <td>Northern Metropolitan</td>\n",
              "      <td>4019.0</td>\n",
              "    </tr>\n",
              "    <tr>\n",
              "      <th>2</th>\n",
              "      <td>4</td>\n",
              "      <td>Abbotsford</td>\n",
              "      <td>5 Charles St</td>\n",
              "      <td>3</td>\n",
              "      <td>h</td>\n",
              "      <td>1465000.0</td>\n",
              "      <td>SP</td>\n",
              "      <td>Biggin</td>\n",
              "      <td>4/03/2017</td>\n",
              "      <td>2.5</td>\n",
              "      <td>3067.0</td>\n",
              "      <td>2.0</td>\n",
              "      <td>0.0</td>\n",
              "      <td>134.0</td>\n",
              "      <td>Yarra City Council</td>\n",
              "      <td>-37.8093</td>\n",
              "      <td>144.9944</td>\n",
              "      <td>Northern Metropolitan</td>\n",
              "      <td>4019.0</td>\n",
              "    </tr>\n",
              "    <tr>\n",
              "      <th>3</th>\n",
              "      <td>5</td>\n",
              "      <td>Abbotsford</td>\n",
              "      <td>40 Federation La</td>\n",
              "      <td>3</td>\n",
              "      <td>h</td>\n",
              "      <td>850000.0</td>\n",
              "      <td>PI</td>\n",
              "      <td>Biggin</td>\n",
              "      <td>4/03/2017</td>\n",
              "      <td>2.5</td>\n",
              "      <td>3067.0</td>\n",
              "      <td>2.0</td>\n",
              "      <td>1.0</td>\n",
              "      <td>94.0</td>\n",
              "      <td>Yarra City Council</td>\n",
              "      <td>-37.7969</td>\n",
              "      <td>144.9969</td>\n",
              "      <td>Northern Metropolitan</td>\n",
              "      <td>4019.0</td>\n",
              "    </tr>\n",
              "    <tr>\n",
              "      <th>4</th>\n",
              "      <td>6</td>\n",
              "      <td>Abbotsford</td>\n",
              "      <td>55a Park St</td>\n",
              "      <td>4</td>\n",
              "      <td>h</td>\n",
              "      <td>1600000.0</td>\n",
              "      <td>VB</td>\n",
              "      <td>Nelson</td>\n",
              "      <td>4/06/2016</td>\n",
              "      <td>2.5</td>\n",
              "      <td>3067.0</td>\n",
              "      <td>1.0</td>\n",
              "      <td>2.0</td>\n",
              "      <td>120.0</td>\n",
              "      <td>Yarra City Council</td>\n",
              "      <td>-37.8072</td>\n",
              "      <td>144.9941</td>\n",
              "      <td>Northern Metropolitan</td>\n",
              "      <td>4019.0</td>\n",
              "    </tr>\n",
              "  </tbody>\n",
              "</table>\n",
              "</div>"
            ],
            "text/plain": [
              "   index      Suburb  ...             Regionname  Propertycount\n",
              "0      1  Abbotsford  ...  Northern Metropolitan         4019.0\n",
              "1      2  Abbotsford  ...  Northern Metropolitan         4019.0\n",
              "2      4  Abbotsford  ...  Northern Metropolitan         4019.0\n",
              "3      5  Abbotsford  ...  Northern Metropolitan         4019.0\n",
              "4      6  Abbotsford  ...  Northern Metropolitan         4019.0\n",
              "\n",
              "[5 rows x 19 columns]"
            ]
          },
          "metadata": {
            "tags": []
          },
          "execution_count": 52
        }
      ]
    },
    {
      "cell_type": "code",
      "metadata": {
        "id": "vrAycWPkPKOr"
      },
      "source": [
        "#working_df.drop(['Address','SellerG','index'],axis=1,inplace=True)\n",
        "working_df.drop(['Address','SellerG','index','Suburb','Postcode'],axis=1,inplace=True)"
      ],
      "execution_count": null,
      "outputs": []
    },
    {
      "cell_type": "code",
      "metadata": {
        "colab": {
          "base_uri": "https://localhost:8080/"
        },
        "id": "qN2dGgRlPfoA",
        "outputId": "dd7345d6-297c-4a48-cb84-d116d6910a9b"
      },
      "source": [
        "working_df.shape"
      ],
      "execution_count": null,
      "outputs": [
        {
          "output_type": "execute_result",
          "data": {
            "text/plain": [
              "(15414, 14)"
            ]
          },
          "metadata": {
            "tags": []
          },
          "execution_count": 54
        }
      ]
    },
    {
      "cell_type": "code",
      "metadata": {
        "colab": {
          "base_uri": "https://localhost:8080/"
        },
        "id": "2nEiiNwXoE30",
        "outputId": "9bb7c4e1-8f1f-46ac-bd78-db7a2e40ced1"
      },
      "source": [
        "working_df.head(3)"
      ],
      "execution_count": null,
      "outputs": [
        {
          "output_type": "execute_result",
          "data": {
            "text/html": [
              "<div>\n",
              "<style scoped>\n",
              "    .dataframe tbody tr th:only-of-type {\n",
              "        vertical-align: middle;\n",
              "    }\n",
              "\n",
              "    .dataframe tbody tr th {\n",
              "        vertical-align: top;\n",
              "    }\n",
              "\n",
              "    .dataframe thead th {\n",
              "        text-align: right;\n",
              "    }\n",
              "</style>\n",
              "<table border=\"1\" class=\"dataframe\">\n",
              "  <thead>\n",
              "    <tr style=\"text-align: right;\">\n",
              "      <th></th>\n",
              "      <th>Rooms</th>\n",
              "      <th>Type</th>\n",
              "      <th>Price</th>\n",
              "      <th>Method</th>\n",
              "      <th>Date</th>\n",
              "      <th>Distance</th>\n",
              "      <th>Bathroom</th>\n",
              "      <th>Car</th>\n",
              "      <th>Landsize</th>\n",
              "      <th>CouncilArea</th>\n",
              "      <th>Lattitude</th>\n",
              "      <th>Longtitude</th>\n",
              "      <th>Regionname</th>\n",
              "      <th>Propertycount</th>\n",
              "    </tr>\n",
              "  </thead>\n",
              "  <tbody>\n",
              "    <tr>\n",
              "      <th>0</th>\n",
              "      <td>2</td>\n",
              "      <td>h</td>\n",
              "      <td>1480000.0</td>\n",
              "      <td>S</td>\n",
              "      <td>3/12/2016</td>\n",
              "      <td>2.5</td>\n",
              "      <td>1.0</td>\n",
              "      <td>1.0</td>\n",
              "      <td>202.0</td>\n",
              "      <td>Yarra City Council</td>\n",
              "      <td>-37.7996</td>\n",
              "      <td>144.9984</td>\n",
              "      <td>Northern Metropolitan</td>\n",
              "      <td>4019.0</td>\n",
              "    </tr>\n",
              "    <tr>\n",
              "      <th>1</th>\n",
              "      <td>2</td>\n",
              "      <td>h</td>\n",
              "      <td>1035000.0</td>\n",
              "      <td>S</td>\n",
              "      <td>4/02/2016</td>\n",
              "      <td>2.5</td>\n",
              "      <td>1.0</td>\n",
              "      <td>0.0</td>\n",
              "      <td>156.0</td>\n",
              "      <td>Yarra City Council</td>\n",
              "      <td>-37.8079</td>\n",
              "      <td>144.9934</td>\n",
              "      <td>Northern Metropolitan</td>\n",
              "      <td>4019.0</td>\n",
              "    </tr>\n",
              "    <tr>\n",
              "      <th>2</th>\n",
              "      <td>3</td>\n",
              "      <td>h</td>\n",
              "      <td>1465000.0</td>\n",
              "      <td>SP</td>\n",
              "      <td>4/03/2017</td>\n",
              "      <td>2.5</td>\n",
              "      <td>2.0</td>\n",
              "      <td>0.0</td>\n",
              "      <td>134.0</td>\n",
              "      <td>Yarra City Council</td>\n",
              "      <td>-37.8093</td>\n",
              "      <td>144.9944</td>\n",
              "      <td>Northern Metropolitan</td>\n",
              "      <td>4019.0</td>\n",
              "    </tr>\n",
              "  </tbody>\n",
              "</table>\n",
              "</div>"
            ],
            "text/plain": [
              "   Rooms Type      Price  ... Longtitude             Regionname  Propertycount\n",
              "0      2    h  1480000.0  ...   144.9984  Northern Metropolitan         4019.0\n",
              "1      2    h  1035000.0  ...   144.9934  Northern Metropolitan         4019.0\n",
              "2      3    h  1465000.0  ...   144.9944  Northern Metropolitan         4019.0\n",
              "\n",
              "[3 rows x 14 columns]"
            ]
          },
          "metadata": {
            "tags": []
          },
          "execution_count": 55
        }
      ]
    },
    {
      "cell_type": "markdown",
      "metadata": {
        "id": "9Hh-tP2fNES5"
      },
      "source": [
        "# Feature Engineering"
      ]
    },
    {
      "cell_type": "markdown",
      "metadata": {
        "id": "0J5BzAF5NOQN"
      },
      "source": [
        "## Extract Month, Day and Year"
      ]
    },
    {
      "cell_type": "code",
      "metadata": {
        "id": "owUGlhITPy3R"
      },
      "source": [
        "#Add this in data cleaning part\n",
        "working_df['Date']=pd.to_datetime(working_df['Date']).copy()"
      ],
      "execution_count": null,
      "outputs": []
    },
    {
      "cell_type": "code",
      "metadata": {
        "id": "4XLSQE2Us9Ot"
      },
      "source": [
        "working_df.reset_index(drop=True,inplace=True)"
      ],
      "execution_count": null,
      "outputs": []
    },
    {
      "cell_type": "code",
      "metadata": {
        "colab": {
          "base_uri": "https://localhost:8080/"
        },
        "id": "DZIauPGBuRad",
        "outputId": "894c6656-1f8a-4d26-f205-2c000baec666"
      },
      "source": [
        "working_df.head(1)"
      ],
      "execution_count": null,
      "outputs": [
        {
          "output_type": "execute_result",
          "data": {
            "text/html": [
              "<div>\n",
              "<style scoped>\n",
              "    .dataframe tbody tr th:only-of-type {\n",
              "        vertical-align: middle;\n",
              "    }\n",
              "\n",
              "    .dataframe tbody tr th {\n",
              "        vertical-align: top;\n",
              "    }\n",
              "\n",
              "    .dataframe thead th {\n",
              "        text-align: right;\n",
              "    }\n",
              "</style>\n",
              "<table border=\"1\" class=\"dataframe\">\n",
              "  <thead>\n",
              "    <tr style=\"text-align: right;\">\n",
              "      <th></th>\n",
              "      <th>Rooms</th>\n",
              "      <th>Type</th>\n",
              "      <th>Price</th>\n",
              "      <th>Method</th>\n",
              "      <th>Date</th>\n",
              "      <th>Distance</th>\n",
              "      <th>Bathroom</th>\n",
              "      <th>Car</th>\n",
              "      <th>Landsize</th>\n",
              "      <th>CouncilArea</th>\n",
              "      <th>Lattitude</th>\n",
              "      <th>Longtitude</th>\n",
              "      <th>Regionname</th>\n",
              "      <th>Propertycount</th>\n",
              "    </tr>\n",
              "  </thead>\n",
              "  <tbody>\n",
              "    <tr>\n",
              "      <th>0</th>\n",
              "      <td>2</td>\n",
              "      <td>h</td>\n",
              "      <td>1480000.0</td>\n",
              "      <td>S</td>\n",
              "      <td>2016-03-12</td>\n",
              "      <td>2.5</td>\n",
              "      <td>1.0</td>\n",
              "      <td>1.0</td>\n",
              "      <td>202.0</td>\n",
              "      <td>Yarra City Council</td>\n",
              "      <td>-37.7996</td>\n",
              "      <td>144.9984</td>\n",
              "      <td>Northern Metropolitan</td>\n",
              "      <td>4019.0</td>\n",
              "    </tr>\n",
              "  </tbody>\n",
              "</table>\n",
              "</div>"
            ],
            "text/plain": [
              "   Rooms Type      Price  ... Longtitude             Regionname  Propertycount\n",
              "0      2    h  1480000.0  ...   144.9984  Northern Metropolitan         4019.0\n",
              "\n",
              "[1 rows x 14 columns]"
            ]
          },
          "metadata": {
            "tags": []
          },
          "execution_count": 58
        }
      ]
    },
    {
      "cell_type": "code",
      "metadata": {
        "id": "1NiuVTeHuXky"
      },
      "source": [
        "working_df['day']=working_df['Date'].dt.day"
      ],
      "execution_count": null,
      "outputs": []
    },
    {
      "cell_type": "code",
      "metadata": {
        "id": "48LY2n_but6l"
      },
      "source": [
        "working_df['month']=working_df['Date'].dt.month"
      ],
      "execution_count": null,
      "outputs": []
    },
    {
      "cell_type": "code",
      "metadata": {
        "id": "hoRcOurSuyBR"
      },
      "source": [
        "working_df['year']=working_df['Date'].dt.year"
      ],
      "execution_count": null,
      "outputs": []
    },
    {
      "cell_type": "code",
      "metadata": {
        "colab": {
          "base_uri": "https://localhost:8080/"
        },
        "id": "13bQC4i8J74x",
        "outputId": "ca64b14b-14f4-4765-92ef-fb0ab5c8ca57"
      },
      "source": [
        "working_df"
      ],
      "execution_count": null,
      "outputs": [
        {
          "output_type": "execute_result",
          "data": {
            "text/html": [
              "<div>\n",
              "<style scoped>\n",
              "    .dataframe tbody tr th:only-of-type {\n",
              "        vertical-align: middle;\n",
              "    }\n",
              "\n",
              "    .dataframe tbody tr th {\n",
              "        vertical-align: top;\n",
              "    }\n",
              "\n",
              "    .dataframe thead th {\n",
              "        text-align: right;\n",
              "    }\n",
              "</style>\n",
              "<table border=\"1\" class=\"dataframe\">\n",
              "  <thead>\n",
              "    <tr style=\"text-align: right;\">\n",
              "      <th></th>\n",
              "      <th>Rooms</th>\n",
              "      <th>Type</th>\n",
              "      <th>Price</th>\n",
              "      <th>Method</th>\n",
              "      <th>Date</th>\n",
              "      <th>Distance</th>\n",
              "      <th>Bathroom</th>\n",
              "      <th>Car</th>\n",
              "      <th>Landsize</th>\n",
              "      <th>CouncilArea</th>\n",
              "      <th>Lattitude</th>\n",
              "      <th>Longtitude</th>\n",
              "      <th>Regionname</th>\n",
              "      <th>Propertycount</th>\n",
              "      <th>day</th>\n",
              "      <th>month</th>\n",
              "      <th>year</th>\n",
              "    </tr>\n",
              "  </thead>\n",
              "  <tbody>\n",
              "    <tr>\n",
              "      <th>0</th>\n",
              "      <td>2</td>\n",
              "      <td>h</td>\n",
              "      <td>1480000.0</td>\n",
              "      <td>S</td>\n",
              "      <td>2016-03-12</td>\n",
              "      <td>2.5</td>\n",
              "      <td>1.0</td>\n",
              "      <td>1.0</td>\n",
              "      <td>202.0</td>\n",
              "      <td>Yarra City Council</td>\n",
              "      <td>-37.79960</td>\n",
              "      <td>144.99840</td>\n",
              "      <td>Northern Metropolitan</td>\n",
              "      <td>4019.0</td>\n",
              "      <td>12</td>\n",
              "      <td>3</td>\n",
              "      <td>2016</td>\n",
              "    </tr>\n",
              "    <tr>\n",
              "      <th>1</th>\n",
              "      <td>2</td>\n",
              "      <td>h</td>\n",
              "      <td>1035000.0</td>\n",
              "      <td>S</td>\n",
              "      <td>2016-04-02</td>\n",
              "      <td>2.5</td>\n",
              "      <td>1.0</td>\n",
              "      <td>0.0</td>\n",
              "      <td>156.0</td>\n",
              "      <td>Yarra City Council</td>\n",
              "      <td>-37.80790</td>\n",
              "      <td>144.99340</td>\n",
              "      <td>Northern Metropolitan</td>\n",
              "      <td>4019.0</td>\n",
              "      <td>2</td>\n",
              "      <td>4</td>\n",
              "      <td>2016</td>\n",
              "    </tr>\n",
              "    <tr>\n",
              "      <th>2</th>\n",
              "      <td>3</td>\n",
              "      <td>h</td>\n",
              "      <td>1465000.0</td>\n",
              "      <td>SP</td>\n",
              "      <td>2017-04-03</td>\n",
              "      <td>2.5</td>\n",
              "      <td>2.0</td>\n",
              "      <td>0.0</td>\n",
              "      <td>134.0</td>\n",
              "      <td>Yarra City Council</td>\n",
              "      <td>-37.80930</td>\n",
              "      <td>144.99440</td>\n",
              "      <td>Northern Metropolitan</td>\n",
              "      <td>4019.0</td>\n",
              "      <td>3</td>\n",
              "      <td>4</td>\n",
              "      <td>2017</td>\n",
              "    </tr>\n",
              "    <tr>\n",
              "      <th>3</th>\n",
              "      <td>3</td>\n",
              "      <td>h</td>\n",
              "      <td>850000.0</td>\n",
              "      <td>PI</td>\n",
              "      <td>2017-04-03</td>\n",
              "      <td>2.5</td>\n",
              "      <td>2.0</td>\n",
              "      <td>1.0</td>\n",
              "      <td>94.0</td>\n",
              "      <td>Yarra City Council</td>\n",
              "      <td>-37.79690</td>\n",
              "      <td>144.99690</td>\n",
              "      <td>Northern Metropolitan</td>\n",
              "      <td>4019.0</td>\n",
              "      <td>3</td>\n",
              "      <td>4</td>\n",
              "      <td>2017</td>\n",
              "    </tr>\n",
              "    <tr>\n",
              "      <th>4</th>\n",
              "      <td>4</td>\n",
              "      <td>h</td>\n",
              "      <td>1600000.0</td>\n",
              "      <td>VB</td>\n",
              "      <td>2016-04-06</td>\n",
              "      <td>2.5</td>\n",
              "      <td>1.0</td>\n",
              "      <td>2.0</td>\n",
              "      <td>120.0</td>\n",
              "      <td>Yarra City Council</td>\n",
              "      <td>-37.80720</td>\n",
              "      <td>144.99410</td>\n",
              "      <td>Northern Metropolitan</td>\n",
              "      <td>4019.0</td>\n",
              "      <td>6</td>\n",
              "      <td>4</td>\n",
              "      <td>2016</td>\n",
              "    </tr>\n",
              "    <tr>\n",
              "      <th>...</th>\n",
              "      <td>...</td>\n",
              "      <td>...</td>\n",
              "      <td>...</td>\n",
              "      <td>...</td>\n",
              "      <td>...</td>\n",
              "      <td>...</td>\n",
              "      <td>...</td>\n",
              "      <td>...</td>\n",
              "      <td>...</td>\n",
              "      <td>...</td>\n",
              "      <td>...</td>\n",
              "      <td>...</td>\n",
              "      <td>...</td>\n",
              "      <td>...</td>\n",
              "      <td>...</td>\n",
              "      <td>...</td>\n",
              "      <td>...</td>\n",
              "    </tr>\n",
              "    <tr>\n",
              "      <th>15409</th>\n",
              "      <td>3</td>\n",
              "      <td>h</td>\n",
              "      <td>570000.0</td>\n",
              "      <td>SP</td>\n",
              "      <td>2018-02-24</td>\n",
              "      <td>25.5</td>\n",
              "      <td>2.0</td>\n",
              "      <td>2.0</td>\n",
              "      <td>404.0</td>\n",
              "      <td>Whittlesea City Council</td>\n",
              "      <td>-37.61031</td>\n",
              "      <td>145.03393</td>\n",
              "      <td>Northern Metropolitan</td>\n",
              "      <td>2940.0</td>\n",
              "      <td>24</td>\n",
              "      <td>2</td>\n",
              "      <td>2018</td>\n",
              "    </tr>\n",
              "    <tr>\n",
              "      <th>15410</th>\n",
              "      <td>4</td>\n",
              "      <td>h</td>\n",
              "      <td>1480000.0</td>\n",
              "      <td>PI</td>\n",
              "      <td>2018-02-24</td>\n",
              "      <td>6.3</td>\n",
              "      <td>1.0</td>\n",
              "      <td>3.0</td>\n",
              "      <td>593.0</td>\n",
              "      <td>Maribyrnong City Council</td>\n",
              "      <td>-37.81053</td>\n",
              "      <td>144.88467</td>\n",
              "      <td>Western Metropolitan</td>\n",
              "      <td>6543.0</td>\n",
              "      <td>24</td>\n",
              "      <td>2</td>\n",
              "      <td>2018</td>\n",
              "    </tr>\n",
              "    <tr>\n",
              "      <th>15411</th>\n",
              "      <td>2</td>\n",
              "      <td>h</td>\n",
              "      <td>888000.0</td>\n",
              "      <td>SP</td>\n",
              "      <td>2018-02-24</td>\n",
              "      <td>6.3</td>\n",
              "      <td>2.0</td>\n",
              "      <td>1.0</td>\n",
              "      <td>98.0</td>\n",
              "      <td>Maribyrnong City Council</td>\n",
              "      <td>-37.81551</td>\n",
              "      <td>144.88826</td>\n",
              "      <td>Western Metropolitan</td>\n",
              "      <td>6543.0</td>\n",
              "      <td>24</td>\n",
              "      <td>2</td>\n",
              "      <td>2018</td>\n",
              "    </tr>\n",
              "    <tr>\n",
              "      <th>15412</th>\n",
              "      <td>2</td>\n",
              "      <td>t</td>\n",
              "      <td>705000.0</td>\n",
              "      <td>S</td>\n",
              "      <td>2018-02-24</td>\n",
              "      <td>6.3</td>\n",
              "      <td>1.0</td>\n",
              "      <td>2.0</td>\n",
              "      <td>220.0</td>\n",
              "      <td>Maribyrnong City Council</td>\n",
              "      <td>-37.82286</td>\n",
              "      <td>144.87856</td>\n",
              "      <td>Western Metropolitan</td>\n",
              "      <td>6543.0</td>\n",
              "      <td>24</td>\n",
              "      <td>2</td>\n",
              "      <td>2018</td>\n",
              "    </tr>\n",
              "    <tr>\n",
              "      <th>15413</th>\n",
              "      <td>2</td>\n",
              "      <td>h</td>\n",
              "      <td>1020000.0</td>\n",
              "      <td>PI</td>\n",
              "      <td>2018-02-24</td>\n",
              "      <td>6.3</td>\n",
              "      <td>1.0</td>\n",
              "      <td>0.0</td>\n",
              "      <td>250.0</td>\n",
              "      <td>Maribyrnong City Council</td>\n",
              "      <td>-37.81810</td>\n",
              "      <td>144.89351</td>\n",
              "      <td>Western Metropolitan</td>\n",
              "      <td>6543.0</td>\n",
              "      <td>24</td>\n",
              "      <td>2</td>\n",
              "      <td>2018</td>\n",
              "    </tr>\n",
              "  </tbody>\n",
              "</table>\n",
              "<p>15414 rows × 17 columns</p>\n",
              "</div>"
            ],
            "text/plain": [
              "       Rooms Type      Price Method  ... Propertycount  day  month  year\n",
              "0          2    h  1480000.0      S  ...        4019.0   12      3  2016\n",
              "1          2    h  1035000.0      S  ...        4019.0    2      4  2016\n",
              "2          3    h  1465000.0     SP  ...        4019.0    3      4  2017\n",
              "3          3    h   850000.0     PI  ...        4019.0    3      4  2017\n",
              "4          4    h  1600000.0     VB  ...        4019.0    6      4  2016\n",
              "...      ...  ...        ...    ...  ...           ...  ...    ...   ...\n",
              "15409      3    h   570000.0     SP  ...        2940.0   24      2  2018\n",
              "15410      4    h  1480000.0     PI  ...        6543.0   24      2  2018\n",
              "15411      2    h   888000.0     SP  ...        6543.0   24      2  2018\n",
              "15412      2    t   705000.0      S  ...        6543.0   24      2  2018\n",
              "15413      2    h  1020000.0     PI  ...        6543.0   24      2  2018\n",
              "\n",
              "[15414 rows x 17 columns]"
            ]
          },
          "metadata": {
            "tags": []
          },
          "execution_count": 62
        }
      ]
    },
    {
      "cell_type": "markdown",
      "metadata": {
        "id": "b_dxAqD-u0eL"
      },
      "source": [
        "Just plotting correlation matrix after new features"
      ]
    },
    {
      "cell_type": "code",
      "metadata": {
        "colab": {
          "base_uri": "https://localhost:8080/"
        },
        "id": "IolA9W8cu3hi",
        "outputId": "051cafda-184f-4ef3-b028-d5bc051e1414"
      },
      "source": [
        "#import matplotlib.pyplot as plt\n",
        "#import seaborn as sns\n",
        "\n",
        "corr=working_df.corr()\n",
        "fig, ax = plt.subplots(figsize=(10,10)) \n",
        "sns.heatmap(corr,annot=True,ax=ax)"
      ],
      "execution_count": null,
      "outputs": [
        {
          "output_type": "execute_result",
          "data": {
            "text/plain": [
              "<matplotlib.axes._subplots.AxesSubplot at 0x7ffaef84a410>"
            ]
          },
          "metadata": {
            "tags": []
          },
          "execution_count": 63
        },
        {
          "output_type": "display_data",
          "data": {
            "image/png": "[encoded data removed]",
            "text/plain": [
              "<Figure size 720x720 with 2 Axes>"
            ]
          },
          "metadata": {
            "tags": [],
            "needs_background": "light"
          }
        }
      ]
    },
    {
      "cell_type": "code",
      "metadata": {
        "colab": {
          "base_uri": "https://localhost:8080/"
        },
        "id": "k02mi_EkvBFn",
        "outputId": "45d34c9d-6e4b-4301-8529-f65bfad9a051"
      },
      "source": [
        "corr"
      ],
      "execution_count": null,
      "outputs": [
        {
          "output_type": "execute_result",
          "data": {
            "text/html": [
              "<div>\n",
              "<style scoped>\n",
              "    .dataframe tbody tr th:only-of-type {\n",
              "        vertical-align: middle;\n",
              "    }\n",
              "\n",
              "    .dataframe tbody tr th {\n",
              "        vertical-align: top;\n",
              "    }\n",
              "\n",
              "    .dataframe thead th {\n",
              "        text-align: right;\n",
              "    }\n",
              "</style>\n",
              "<table border=\"1\" class=\"dataframe\">\n",
              "  <thead>\n",
              "    <tr style=\"text-align: right;\">\n",
              "      <th></th>\n",
              "      <th>Rooms</th>\n",
              "      <th>Price</th>\n",
              "      <th>Distance</th>\n",
              "      <th>Bathroom</th>\n",
              "      <th>Car</th>\n",
              "      <th>Landsize</th>\n",
              "      <th>Lattitude</th>\n",
              "      <th>Longtitude</th>\n",
              "      <th>Propertycount</th>\n",
              "      <th>day</th>\n",
              "      <th>month</th>\n",
              "      <th>year</th>\n",
              "    </tr>\n",
              "  </thead>\n",
              "  <tbody>\n",
              "    <tr>\n",
              "      <th>Rooms</th>\n",
              "      <td>1.000000</td>\n",
              "      <td>0.470726</td>\n",
              "      <td>0.347374</td>\n",
              "      <td>0.572683</td>\n",
              "      <td>0.404087</td>\n",
              "      <td>0.170972</td>\n",
              "      <td>0.052026</td>\n",
              "      <td>0.100200</td>\n",
              "      <td>-0.060387</td>\n",
              "      <td>0.003398</td>\n",
              "      <td>0.014176</td>\n",
              "      <td>0.196078</td>\n",
              "    </tr>\n",
              "    <tr>\n",
              "      <th>Price</th>\n",
              "      <td>0.470726</td>\n",
              "      <td>1.000000</td>\n",
              "      <td>-0.176188</td>\n",
              "      <td>0.387801</td>\n",
              "      <td>0.205051</td>\n",
              "      <td>0.111907</td>\n",
              "      <td>-0.273653</td>\n",
              "      <td>0.247509</td>\n",
              "      <td>-0.015915</td>\n",
              "      <td>0.003262</td>\n",
              "      <td>0.003063</td>\n",
              "      <td>0.063681</td>\n",
              "    </tr>\n",
              "    <tr>\n",
              "      <th>Distance</th>\n",
              "      <td>0.347374</td>\n",
              "      <td>-0.176188</td>\n",
              "      <td>1.000000</td>\n",
              "      <td>0.175686</td>\n",
              "      <td>0.305510</td>\n",
              "      <td>0.152291</td>\n",
              "      <td>0.006836</td>\n",
              "      <td>0.267088</td>\n",
              "      <td>-0.045436</td>\n",
              "      <td>-0.016211</td>\n",
              "      <td>0.016329</td>\n",
              "      <td>0.274664</td>\n",
              "    </tr>\n",
              "    <tr>\n",
              "      <th>Bathroom</th>\n",
              "      <td>0.572683</td>\n",
              "      <td>0.387801</td>\n",
              "      <td>0.175686</td>\n",
              "      <td>1.000000</td>\n",
              "      <td>0.300603</td>\n",
              "      <td>0.083935</td>\n",
              "      <td>-0.041352</td>\n",
              "      <td>0.111365</td>\n",
              "      <td>-0.015882</td>\n",
              "      <td>-0.015932</td>\n",
              "      <td>0.013755</td>\n",
              "      <td>0.106776</td>\n",
              "    </tr>\n",
              "    <tr>\n",
              "      <th>Car</th>\n",
              "      <td>0.404087</td>\n",
              "      <td>0.205051</td>\n",
              "      <td>0.305510</td>\n",
              "      <td>0.300603</td>\n",
              "      <td>1.000000</td>\n",
              "      <td>0.170688</td>\n",
              "      <td>0.007941</td>\n",
              "      <td>0.071181</td>\n",
              "      <td>-0.037740</td>\n",
              "      <td>-0.006088</td>\n",
              "      <td>0.014937</td>\n",
              "      <td>0.146075</td>\n",
              "    </tr>\n",
              "    <tr>\n",
              "      <th>Landsize</th>\n",
              "      <td>0.170972</td>\n",
              "      <td>0.111907</td>\n",
              "      <td>0.152291</td>\n",
              "      <td>0.083935</td>\n",
              "      <td>0.170688</td>\n",
              "      <td>1.000000</td>\n",
              "      <td>0.008525</td>\n",
              "      <td>0.082601</td>\n",
              "      <td>-0.017315</td>\n",
              "      <td>-0.031891</td>\n",
              "      <td>0.003702</td>\n",
              "      <td>0.125093</td>\n",
              "    </tr>\n",
              "    <tr>\n",
              "      <th>Lattitude</th>\n",
              "      <td>0.052026</td>\n",
              "      <td>-0.273653</td>\n",
              "      <td>0.006836</td>\n",
              "      <td>-0.041352</td>\n",
              "      <td>0.007941</td>\n",
              "      <td>0.008525</td>\n",
              "      <td>1.000000</td>\n",
              "      <td>-0.249815</td>\n",
              "      <td>-0.050560</td>\n",
              "      <td>-0.002627</td>\n",
              "      <td>0.007519</td>\n",
              "      <td>0.069938</td>\n",
              "    </tr>\n",
              "    <tr>\n",
              "      <th>Longtitude</th>\n",
              "      <td>0.100200</td>\n",
              "      <td>0.247509</td>\n",
              "      <td>0.267088</td>\n",
              "      <td>0.111365</td>\n",
              "      <td>0.071181</td>\n",
              "      <td>0.082601</td>\n",
              "      <td>-0.249815</td>\n",
              "      <td>1.000000</td>\n",
              "      <td>0.020220</td>\n",
              "      <td>0.004787</td>\n",
              "      <td>0.008472</td>\n",
              "      <td>0.054503</td>\n",
              "    </tr>\n",
              "    <tr>\n",
              "      <th>Propertycount</th>\n",
              "      <td>-0.060387</td>\n",
              "      <td>-0.015915</td>\n",
              "      <td>-0.045436</td>\n",
              "      <td>-0.015882</td>\n",
              "      <td>-0.037740</td>\n",
              "      <td>-0.017315</td>\n",
              "      <td>-0.050560</td>\n",
              "      <td>0.020220</td>\n",
              "      <td>1.000000</td>\n",
              "      <td>0.001277</td>\n",
              "      <td>-0.004064</td>\n",
              "      <td>0.044234</td>\n",
              "    </tr>\n",
              "    <tr>\n",
              "      <th>day</th>\n",
              "      <td>0.003398</td>\n",
              "      <td>0.003262</td>\n",
              "      <td>-0.016211</td>\n",
              "      <td>-0.015932</td>\n",
              "      <td>-0.006088</td>\n",
              "      <td>-0.031891</td>\n",
              "      <td>-0.002627</td>\n",
              "      <td>0.004787</td>\n",
              "      <td>0.001277</td>\n",
              "      <td>1.000000</td>\n",
              "      <td>0.019256</td>\n",
              "      <td>-0.128995</td>\n",
              "    </tr>\n",
              "    <tr>\n",
              "      <th>month</th>\n",
              "      <td>0.014176</td>\n",
              "      <td>0.003063</td>\n",
              "      <td>0.016329</td>\n",
              "      <td>0.013755</td>\n",
              "      <td>0.014937</td>\n",
              "      <td>0.003702</td>\n",
              "      <td>0.007519</td>\n",
              "      <td>0.008472</td>\n",
              "      <td>-0.004064</td>\n",
              "      <td>0.019256</td>\n",
              "      <td>1.000000</td>\n",
              "      <td>-0.345143</td>\n",
              "    </tr>\n",
              "    <tr>\n",
              "      <th>year</th>\n",
              "      <td>0.196078</td>\n",
              "      <td>0.063681</td>\n",
              "      <td>0.274664</td>\n",
              "      <td>0.106776</td>\n",
              "      <td>0.146075</td>\n",
              "      <td>0.125093</td>\n",
              "      <td>0.069938</td>\n",
              "      <td>0.054503</td>\n",
              "      <td>0.044234</td>\n",
              "      <td>-0.128995</td>\n",
              "      <td>-0.345143</td>\n",
              "      <td>1.000000</td>\n",
              "    </tr>\n",
              "  </tbody>\n",
              "</table>\n",
              "</div>"
            ],
            "text/plain": [
              "                  Rooms     Price  Distance  ...       day     month      year\n",
              "Rooms          1.000000  0.470726  0.347374  ...  0.003398  0.014176  0.196078\n",
              "Price          0.470726  1.000000 -0.176188  ...  0.003262  0.003063  0.063681\n",
              "Distance       0.347374 -0.176188  1.000000  ... -0.016211  0.016329  0.274664\n",
              "Bathroom       0.572683  0.387801  0.175686  ... -0.015932  0.013755  0.106776\n",
              "Car            0.404087  0.205051  0.305510  ... -0.006088  0.014937  0.146075\n",
              "Landsize       0.170972  0.111907  0.152291  ... -0.031891  0.003702  0.125093\n",
              "Lattitude      0.052026 -0.273653  0.006836  ... -0.002627  0.007519  0.069938\n",
              "Longtitude     0.100200  0.247509  0.267088  ...  0.004787  0.008472  0.054503\n",
              "Propertycount -0.060387 -0.015915 -0.045436  ...  0.001277 -0.004064  0.044234\n",
              "day            0.003398  0.003262 -0.016211  ...  1.000000  0.019256 -0.128995\n",
              "month          0.014176  0.003063  0.016329  ...  0.019256  1.000000 -0.345143\n",
              "year           0.196078  0.063681  0.274664  ... -0.128995 -0.345143  1.000000\n",
              "\n",
              "[12 rows x 12 columns]"
            ]
          },
          "metadata": {
            "tags": []
          },
          "execution_count": 64
        }
      ]
    },
    {
      "cell_type": "markdown",
      "metadata": {
        "id": "VEalE05tQGIL"
      },
      "source": [
        "# Train Test Split"
      ]
    },
    {
      "cell_type": "code",
      "metadata": {
        "id": "wdY22gIiRZaB"
      },
      "source": [
        "y=working_df['Price']"
      ],
      "execution_count": null,
      "outputs": []
    },
    {
      "cell_type": "code",
      "metadata": {
        "id": "TA3mC0UxRemP"
      },
      "source": [
        "X=working_df"
      ],
      "execution_count": null,
      "outputs": []
    },
    {
      "cell_type": "code",
      "metadata": {
        "colab": {
          "base_uri": "https://localhost:8080/"
        },
        "id": "32ZATDX6RgUd",
        "outputId": "3a629ea5-3366-4cc6-ec86-664225e5ea17"
      },
      "source": [
        "X.head(3)"
      ],
      "execution_count": null,
      "outputs": [
        {
          "output_type": "execute_result",
          "data": {
            "text/html": [
              "<div>\n",
              "<style scoped>\n",
              "    .dataframe tbody tr th:only-of-type {\n",
              "        vertical-align: middle;\n",
              "    }\n",
              "\n",
              "    .dataframe tbody tr th {\n",
              "        vertical-align: top;\n",
              "    }\n",
              "\n",
              "    .dataframe thead th {\n",
              "        text-align: right;\n",
              "    }\n",
              "</style>\n",
              "<table border=\"1\" class=\"dataframe\">\n",
              "  <thead>\n",
              "    <tr style=\"text-align: right;\">\n",
              "      <th></th>\n",
              "      <th>Rooms</th>\n",
              "      <th>Type</th>\n",
              "      <th>Price</th>\n",
              "      <th>Method</th>\n",
              "      <th>Date</th>\n",
              "      <th>Distance</th>\n",
              "      <th>Bathroom</th>\n",
              "      <th>Car</th>\n",
              "      <th>Landsize</th>\n",
              "      <th>CouncilArea</th>\n",
              "      <th>Lattitude</th>\n",
              "      <th>Longtitude</th>\n",
              "      <th>Regionname</th>\n",
              "      <th>Propertycount</th>\n",
              "      <th>day</th>\n",
              "      <th>month</th>\n",
              "      <th>year</th>\n",
              "    </tr>\n",
              "  </thead>\n",
              "  <tbody>\n",
              "    <tr>\n",
              "      <th>0</th>\n",
              "      <td>2</td>\n",
              "      <td>h</td>\n",
              "      <td>1480000.0</td>\n",
              "      <td>S</td>\n",
              "      <td>2016-03-12</td>\n",
              "      <td>2.5</td>\n",
              "      <td>1.0</td>\n",
              "      <td>1.0</td>\n",
              "      <td>202.0</td>\n",
              "      <td>Yarra City Council</td>\n",
              "      <td>-37.7996</td>\n",
              "      <td>144.9984</td>\n",
              "      <td>Northern Metropolitan</td>\n",
              "      <td>4019.0</td>\n",
              "      <td>12</td>\n",
              "      <td>3</td>\n",
              "      <td>2016</td>\n",
              "    </tr>\n",
              "    <tr>\n",
              "      <th>1</th>\n",
              "      <td>2</td>\n",
              "      <td>h</td>\n",
              "      <td>1035000.0</td>\n",
              "      <td>S</td>\n",
              "      <td>2016-04-02</td>\n",
              "      <td>2.5</td>\n",
              "      <td>1.0</td>\n",
              "      <td>0.0</td>\n",
              "      <td>156.0</td>\n",
              "      <td>Yarra City Council</td>\n",
              "      <td>-37.8079</td>\n",
              "      <td>144.9934</td>\n",
              "      <td>Northern Metropolitan</td>\n",
              "      <td>4019.0</td>\n",
              "      <td>2</td>\n",
              "      <td>4</td>\n",
              "      <td>2016</td>\n",
              "    </tr>\n",
              "    <tr>\n",
              "      <th>2</th>\n",
              "      <td>3</td>\n",
              "      <td>h</td>\n",
              "      <td>1465000.0</td>\n",
              "      <td>SP</td>\n",
              "      <td>2017-04-03</td>\n",
              "      <td>2.5</td>\n",
              "      <td>2.0</td>\n",
              "      <td>0.0</td>\n",
              "      <td>134.0</td>\n",
              "      <td>Yarra City Council</td>\n",
              "      <td>-37.8093</td>\n",
              "      <td>144.9944</td>\n",
              "      <td>Northern Metropolitan</td>\n",
              "      <td>4019.0</td>\n",
              "      <td>3</td>\n",
              "      <td>4</td>\n",
              "      <td>2017</td>\n",
              "    </tr>\n",
              "  </tbody>\n",
              "</table>\n",
              "</div>"
            ],
            "text/plain": [
              "   Rooms Type      Price Method  ... Propertycount  day  month  year\n",
              "0      2    h  1480000.0      S  ...        4019.0   12      3  2016\n",
              "1      2    h  1035000.0      S  ...        4019.0    2      4  2016\n",
              "2      3    h  1465000.0     SP  ...        4019.0    3      4  2017\n",
              "\n",
              "[3 rows x 17 columns]"
            ]
          },
          "metadata": {
            "tags": []
          },
          "execution_count": 67
        }
      ]
    },
    {
      "cell_type": "code",
      "metadata": {
        "id": "fZWBR1EJRz2c"
      },
      "source": [
        "X.drop(['Price','Date'],axis=1,inplace=True)"
      ],
      "execution_count": null,
      "outputs": []
    },
    {
      "cell_type": "code",
      "metadata": {
        "id": "R7smXuLvQI0J"
      },
      "source": [
        "from sklearn.model_selection import train_test_split\n",
        "X_train, X_test, y_train, y_test = train_test_split(X, y, test_size=0.25, random_state=42)"
      ],
      "execution_count": null,
      "outputs": []
    },
    {
      "cell_type": "markdown",
      "metadata": {
        "id": "qeqoqhqEKWYG"
      },
      "source": [
        "# Feature Preprocessing Pipeline"
      ]
    },
    {
      "cell_type": "code",
      "metadata": {
        "colab": {
          "base_uri": "https://localhost:8080/"
        },
        "id": "ieDZS1yPKdxM",
        "outputId": "dd718a25-211e-4089-c5a4-14cb5db519f6"
      },
      "source": [
        "X_train.head(2)"
      ],
      "execution_count": null,
      "outputs": [
        {
          "output_type": "execute_result",
          "data": {
            "text/html": [
              "<div>\n",
              "<style scoped>\n",
              "    .dataframe tbody tr th:only-of-type {\n",
              "        vertical-align: middle;\n",
              "    }\n",
              "\n",
              "    .dataframe tbody tr th {\n",
              "        vertical-align: top;\n",
              "    }\n",
              "\n",
              "    .dataframe thead th {\n",
              "        text-align: right;\n",
              "    }\n",
              "</style>\n",
              "<table border=\"1\" class=\"dataframe\">\n",
              "  <thead>\n",
              "    <tr style=\"text-align: right;\">\n",
              "      <th></th>\n",
              "      <th>Rooms</th>\n",
              "      <th>Type</th>\n",
              "      <th>Method</th>\n",
              "      <th>Distance</th>\n",
              "      <th>Bathroom</th>\n",
              "      <th>Car</th>\n",
              "      <th>Landsize</th>\n",
              "      <th>CouncilArea</th>\n",
              "      <th>Lattitude</th>\n",
              "      <th>Longtitude</th>\n",
              "      <th>Regionname</th>\n",
              "      <th>Propertycount</th>\n",
              "      <th>day</th>\n",
              "      <th>month</th>\n",
              "      <th>year</th>\n",
              "    </tr>\n",
              "  </thead>\n",
              "  <tbody>\n",
              "    <tr>\n",
              "      <th>73</th>\n",
              "      <td>4</td>\n",
              "      <td>h</td>\n",
              "      <td>S</td>\n",
              "      <td>13.5</td>\n",
              "      <td>1.0</td>\n",
              "      <td>2.0</td>\n",
              "      <td>509.0</td>\n",
              "      <td>Moonee Valley City Council</td>\n",
              "      <td>-37.72610</td>\n",
              "      <td>144.8785</td>\n",
              "      <td>Western Metropolitan</td>\n",
              "      <td>3464.0</td>\n",
              "      <td>27</td>\n",
              "      <td>11</td>\n",
              "      <td>2016</td>\n",
              "    </tr>\n",
              "    <tr>\n",
              "      <th>13797</th>\n",
              "      <td>3</td>\n",
              "      <td>h</td>\n",
              "      <td>S</td>\n",
              "      <td>17.2</td>\n",
              "      <td>1.0</td>\n",
              "      <td>4.0</td>\n",
              "      <td>711.0</td>\n",
              "      <td>Maroondah City Council</td>\n",
              "      <td>-37.83315</td>\n",
              "      <td>145.2026</td>\n",
              "      <td>Eastern Metropolitan</td>\n",
              "      <td>4181.0</td>\n",
              "      <td>12</td>\n",
              "      <td>9</td>\n",
              "      <td>2017</td>\n",
              "    </tr>\n",
              "  </tbody>\n",
              "</table>\n",
              "</div>"
            ],
            "text/plain": [
              "       Rooms Type Method  Distance  ...  Propertycount  day  month  year\n",
              "73         4    h      S      13.5  ...         3464.0   27     11  2016\n",
              "13797      3    h      S      17.2  ...         4181.0   12      9  2017\n",
              "\n",
              "[2 rows x 15 columns]"
            ]
          },
          "metadata": {
            "tags": []
          },
          "execution_count": 70
        }
      ]
    },
    {
      "cell_type": "code",
      "metadata": {
        "id": "Ev4CWH68Ao9T"
      },
      "source": [
        ""
      ],
      "execution_count": null,
      "outputs": []
    },
    {
      "cell_type": "code",
      "metadata": {
        "colab": {
          "base_uri": "https://localhost:8080/"
        },
        "id": "mkcLhIKH5PyS",
        "outputId": "c6d89cca-df76-436e-d61d-c1209ade151e"
      },
      "source": [
        "y_test"
      ],
      "execution_count": null,
      "outputs": [
        {
          "output_type": "execute_result",
          "data": {
            "text/plain": [
              "4962     1650000.0\n",
              "10811     591000.0\n",
              "12528     612000.0\n",
              "8359     1935000.0\n",
              "1022      575000.0\n",
              "           ...    \n",
              "15115    1035000.0\n",
              "1941      745000.0\n",
              "6335      860000.0\n",
              "1091     1445000.0\n",
              "14210    2610000.0\n",
              "Name: Price, Length: 3854, dtype: float64"
            ]
          },
          "metadata": {
            "tags": []
          },
          "execution_count": 71
        }
      ]
    },
    {
      "cell_type": "code",
      "metadata": {
        "colab": {
          "base_uri": "https://localhost:8080/"
        },
        "id": "tN0CwGihPj8N",
        "outputId": "e0a49998-196c-4279-e016-e4d0ae07d910"
      },
      "source": [
        "X_train.columns"
      ],
      "execution_count": null,
      "outputs": [
        {
          "output_type": "execute_result",
          "data": {
            "text/plain": [
              "Index(['Rooms', 'Type', 'Method', 'Distance', 'Bathroom', 'Car', 'Landsize',\n",
              "       'CouncilArea', 'Lattitude', 'Longtitude', 'Regionname', 'Propertycount',\n",
              "       'day', 'month', 'year'],\n",
              "      dtype='object')"
            ]
          },
          "metadata": {
            "tags": []
          },
          "execution_count": 72
        }
      ]
    },
    {
      "cell_type": "code",
      "metadata": {
        "id": "kEZWxhxOyIqD"
      },
      "source": [
        "from sklearn.pipeline import Pipeline\n",
        "from sklearn.preprocessing import StandardScaler\n",
        "from sklearn.impute import SimpleImputer\n",
        "from sklearn.preprocessing import MinMaxScaler\n",
        "from sklearn.decomposition import PCA\n",
        "\n",
        "\n",
        "num_pipeline = Pipeline([\n",
        "        ('std_scaler', StandardScaler())\n",
        "    ])\n"
      ],
      "execution_count": null,
      "outputs": []
    },
    {
      "cell_type": "code",
      "metadata": {
        "id": "pT2WCGeuNUNq"
      },
      "source": [
        "from sklearn.compose import ColumnTransformer\n",
        "from sklearn.preprocessing import OneHotEncoder\n",
        "\n",
        "\n",
        "num_attribs = ['Rooms', 'Distance', 'Bathroom', 'Car', 'Landsize', 'Lattitude','Longtitude', 'Propertycount', 'day', 'month', 'year']\n",
        "cat_attribs = ['Type','Method','CouncilArea','Regionname']\n",
        "#num_attribs = ['Rooms', 'Distance', 'Bathroom', 'Car', 'Landsize', 'Lattitude','Longtitude', 'Propertycount', 'day', 'month', 'year']\n",
        "#cat_attribs = ['Suburb','Type','Method','Postcode','CouncilArea','Regionname']\n",
        "full_pipeline = ColumnTransformer([\n",
        "        ('num', num_pipeline, num_attribs),\n",
        "        ('cat', OneHotEncoder(handle_unknown='ignore'), cat_attribs)])\n",
        "\n",
        "X_train_sparse = full_pipeline.fit_transform(X_train)"
      ],
      "execution_count": null,
      "outputs": []
    },
    {
      "cell_type": "code",
      "metadata": {
        "colab": {
          "base_uri": "https://localhost:8080/"
        },
        "id": "agcF0TByXhu8",
        "outputId": "57348ed4-c5e2-48a4-96d0-d204b770162e"
      },
      "source": [
        "X_train_sparse.shape"
      ],
      "execution_count": null,
      "outputs": [
        {
          "output_type": "execute_result",
          "data": {
            "text/plain": [
              "(11560, 49)"
            ]
          },
          "metadata": {
            "tags": []
          },
          "execution_count": 75
        }
      ]
    },
    {
      "cell_type": "code",
      "metadata": {
        "colab": {
          "base_uri": "https://localhost:8080/"
        },
        "id": "yMQafARceFe6",
        "outputId": "12a7bf93-467c-4424-f0fc-f0019d89f4ba"
      },
      "source": [
        "full_pipeline.get_feature_names"
      ],
      "execution_count": null,
      "outputs": [
        {
          "output_type": "execute_result",
          "data": {
            "text/plain": [
              "<bound method ColumnTransformer.get_feature_names of ColumnTransformer(n_jobs=None, remainder='drop', sparse_threshold=0.3,\n",
              "                  transformer_weights=None,\n",
              "                  transformers=[('num',\n",
              "                                 Pipeline(memory=None,\n",
              "                                          steps=[('std_scaler',\n",
              "                                                  StandardScaler(copy=True,\n",
              "                                                                 with_mean=True,\n",
              "                                                                 with_std=True))],\n",
              "                                          verbose=False),\n",
              "                                 ['Rooms', 'Distance', 'Bathroom', 'Car',\n",
              "                                  'Landsize', 'Lattitude', 'Longtitude',\n",
              "                                  'Propertycount', 'day', 'month', 'year']),\n",
              "                                ('cat',\n",
              "                                 OneHotEncoder(categories='auto', drop=None,\n",
              "                                               dtype=<class 'numpy.float64'>,\n",
              "                                               handle_unknown='ignore',\n",
              "                                               sparse=True),\n",
              "                                 ['Type', 'Method', 'CouncilArea',\n",
              "                                  'Regionname'])],\n",
              "                  verbose=False)>"
            ]
          },
          "metadata": {
            "tags": []
          },
          "execution_count": 76
        }
      ]
    },
    {
      "cell_type": "code",
      "metadata": {
        "id": "ZnyPTNs-eP8o"
      },
      "source": [
        "#Function to get feature name from preprocessing pipeline\n",
        "from sklearn.feature_extraction.text import _VectorizerMixin\n",
        "from sklearn.feature_selection._base import SelectorMixin\n",
        "from sklearn.feature_selection import SelectKBest\n",
        "from sklearn.feature_extraction.text import CountVectorizer\n",
        "def get_feature_out(estimator, feature_in):\n",
        "    if hasattr(estimator,'get_feature_names'):\n",
        "        if isinstance(estimator, _VectorizerMixin):\n",
        "            # handling all vectorizers\n",
        "            return [f'vec_{f}' \\\n",
        "                for f in estimator.get_feature_names()]\n",
        "        else:\n",
        "            return estimator.get_feature_names(feature_in)\n",
        "    elif isinstance(estimator, SelectorMixin):\n",
        "        return np.array(feature_in)[estimator.get_support()]\n",
        "    else:\n",
        "        return feature_in\n",
        "\n",
        "\n",
        "def get_ct_feature_names(ct):\n",
        "    # handles all estimators, pipelines inside ColumnTransfomer\n",
        "    # doesn't work when remainder =='passthrough'\n",
        "    # which requires the input column names.\n",
        "    output_features = []\n",
        "\n",
        "    for name, estimator, features in ct.transformers_:\n",
        "        if name!='remainder':\n",
        "            if isinstance(estimator, Pipeline):\n",
        "                current_features = features\n",
        "                for step in estimator:\n",
        "                    current_features = get_feature_out(step, current_features)\n",
        "                features_out = current_features\n",
        "            else:\n",
        "                features_out = get_feature_out(estimator, features)\n",
        "            output_features.extend(features_out)\n",
        "        elif estimator=='passthrough':\n",
        "            output_features.extend(ct._feature_names_in[features])\n",
        "                \n",
        "    return output_features"
      ],
      "execution_count": null,
      "outputs": []
    },
    {
      "cell_type": "code",
      "metadata": {
        "colab": {
          "base_uri": "https://localhost:8080/"
        },
        "id": "eMaczXiEeXjv",
        "outputId": "beb89214-05a5-4355-f1ed-3d18cc134bd5"
      },
      "source": [
        "#testing the get feature function\n",
        "get_ct_feature_names(full_pipeline)"
      ],
      "execution_count": null,
      "outputs": [
        {
          "output_type": "execute_result",
          "data": {
            "text/plain": [
              "['Rooms',\n",
              " 'Distance',\n",
              " 'Bathroom',\n",
              " 'Car',\n",
              " 'Landsize',\n",
              " 'Lattitude',\n",
              " 'Longtitude',\n",
              " 'Propertycount',\n",
              " 'day',\n",
              " 'month',\n",
              " 'year',\n",
              " 'Type_h',\n",
              " 'Type_t',\n",
              " 'Type_u',\n",
              " 'Method_PI',\n",
              " 'Method_S',\n",
              " 'Method_SA',\n",
              " 'Method_SP',\n",
              " 'Method_VB',\n",
              " 'CouncilArea_Banyule City Council',\n",
              " 'CouncilArea_Bayside City Council',\n",
              " 'CouncilArea_Boroondara City Council',\n",
              " 'CouncilArea_Brimbank City Council',\n",
              " 'CouncilArea_Darebin City Council',\n",
              " 'CouncilArea_Glen Eira City Council',\n",
              " 'CouncilArea_Greater Dandenong City Council',\n",
              " 'CouncilArea_Hobsons Bay City Council',\n",
              " 'CouncilArea_Hume City Council',\n",
              " 'CouncilArea_Kingston City Council',\n",
              " 'CouncilArea_Knox City Council',\n",
              " 'CouncilArea_Manningham City Council',\n",
              " 'CouncilArea_Maribyrnong City Council',\n",
              " 'CouncilArea_Maroondah City Council',\n",
              " 'CouncilArea_Melbourne City Council',\n",
              " 'CouncilArea_Melton City Council',\n",
              " 'CouncilArea_Monash City Council',\n",
              " 'CouncilArea_Moonee Valley City Council',\n",
              " 'CouncilArea_Moreland City Council',\n",
              " 'CouncilArea_Port Phillip City Council',\n",
              " 'CouncilArea_Stonnington City Council',\n",
              " 'CouncilArea_Whitehorse City Council',\n",
              " 'CouncilArea_Whittlesea City Council',\n",
              " 'CouncilArea_Wyndham City Council',\n",
              " 'CouncilArea_Yarra City Council',\n",
              " 'Regionname_Eastern Metropolitan',\n",
              " 'Regionname_Northern Metropolitan',\n",
              " 'Regionname_South-Eastern Metropolitan',\n",
              " 'Regionname_Southern Metropolitan',\n",
              " 'Regionname_Western Metropolitan']"
            ]
          },
          "metadata": {
            "tags": []
          },
          "execution_count": 78
        }
      ]
    },
    {
      "cell_type": "code",
      "metadata": {
        "id": "pamngEx1fPpH"
      },
      "source": [
        "X_test_sparse = full_pipeline.fit_transform(X_test)"
      ],
      "execution_count": null,
      "outputs": []
    },
    {
      "cell_type": "markdown",
      "metadata": {
        "id": "klZ7V3lHQoY-"
      },
      "source": [
        "# Model"
      ]
    },
    {
      "cell_type": "markdown",
      "metadata": {
        "id": "CljD2um3Qy5N"
      },
      "source": [
        "## (Try) lazy predict"
      ]
    },
    {
      "cell_type": "markdown",
      "metadata": {
        "id": "dFnWXD7SxKfr"
      },
      "source": [
        "If installing the following module the complete notebook need to be restarted and run to make this work.(As there are some dependency issues in lazypredict)"
      ]
    },
    {
      "cell_type": "code",
      "metadata": {
        "colab": {
          "base_uri": "https://localhost:8080/",
          "height": 1000
        },
        "id": "Nk1HP7uANGQW",
        "outputId": "d019badd-9354-4f56-e97d-c8c31fd5c17e"
      },
      "source": [
        "!pip install lazypredict"
      ],
      "execution_count": null,
      "outputs": [
        {
          "output_type": "stream",
          "text": [
            "Collecting lazypredict\n",
            "  Downloading https://files.pythonhosted.org/packages/97/38/cadb2b79268c7f82f6b027bf0b2f68750aafc5c70b6e1bc46b357386e07b/lazypredict-0.2.9-py2.py3-none-any.whl\n",
            "Collecting tqdm==4.56.0\n",
            "\u001b[?25l  Downloading https://files.pythonhosted.org/packages/80/02/8f8880a4fd6625461833abcf679d4c12a44c76f9925f92bf212bb6cefaad/tqdm-4.56.0-py2.py3-none-any.whl (72kB)\n",
            "\u001b[K     |████████████████████████████████| 81kB 9.0MB/s \n",
            "\u001b[?25hCollecting xgboost==1.1.1\n",
            "\u001b[?25l  Downloading https://files.pythonhosted.org/packages/7c/32/a11befbb003e0e6b7e062a77f010dfcec0ec3589be537b02d2eb2ff93b9a/xgboost-1.1.1-py3-none-manylinux2010_x86_64.whl (127.6MB)\n",
            "\u001b[K     |████████████████████████████████| 127.6MB 82kB/s \n",
            "\u001b[?25hRequirement already satisfied: click==7.1.2 in /usr/local/lib/python3.7/dist-packages (from lazypredict) (7.1.2)\n",
            "Collecting scipy==1.5.4\n",
            "\u001b[?25l  Downloading https://files.pythonhosted.org/packages/dc/7e/8f6a79b102ca1ea928bae8998b05bf5dc24a90571db13cd119f275ba6252/scipy-1.5.4-cp37-cp37m-manylinux1_x86_64.whl (25.9MB)\n",
            "\u001b[K     |████████████████████████████████| 25.9MB 112kB/s \n",
            "\u001b[?25hCollecting scikit-learn==0.23.1\n",
            "\u001b[?25l  Downloading https://files.pythonhosted.org/packages/b8/7e/74e707b66490d4eb05f702966ad0990881127acecf9d5cdcef3c95ec6c16/scikit_learn-0.23.1-cp37-cp37m-manylinux1_x86_64.whl (6.8MB)\n",
            "\u001b[K     |████████████████████████████████| 6.8MB 40.3MB/s \n",
            "\u001b[?25hRequirement already satisfied: six==1.15.0 in /usr/local/lib/python3.7/dist-packages (from lazypredict) (1.15.0)\n",
            "Collecting numpy==1.19.1\n",
            "\u001b[?25l  Downloading https://files.pythonhosted.org/packages/50/8f/29d5688614f9bba59931683d5d353d738d4a3007833219ee19c455732753/numpy-1.19.1-cp37-cp37m-manylinux2010_x86_64.whl (14.5MB)\n",
            "\u001b[K     |████████████████████████████████| 14.5MB 214kB/s \n",
            "\u001b[?25hCollecting joblib==1.0.0\n",
            "\u001b[?25l  Downloading https://files.pythonhosted.org/packages/34/5b/bd0f0fb5564183884d8e35b81d06d7ec06a20d1a0c8b4c407f1554691dce/joblib-1.0.0-py3-none-any.whl (302kB)\n",
            "\u001b[K     |████████████████████████████████| 307kB 57.3MB/s \n",
            "\u001b[?25hCollecting pandas==1.0.5\n",
            "\u001b[?25l  Downloading https://files.pythonhosted.org/packages/af/f3/683bf2547a3eaeec15b39cef86f61e921b3b187f250fcd2b5c5fb4386369/pandas-1.0.5-cp37-cp37m-manylinux1_x86_64.whl (10.1MB)\n",
            "\u001b[K     |████████████████████████████████| 10.1MB 54.5MB/s \n",
            "\u001b[?25hCollecting PyYAML==5.3.1\n",
            "\u001b[?25l  Downloading https://files.pythonhosted.org/packages/64/c2/b80047c7ac2478f9501676c988a5411ed5572f35d1beff9cae07d321512c/PyYAML-5.3.1.tar.gz (269kB)\n",
            "\u001b[K     |████████████████████████████████| 276kB 48.6MB/s \n",
            "\u001b[?25hCollecting lightgbm==2.3.1\n",
            "\u001b[?25l  Downloading https://files.pythonhosted.org/packages/0b/9d/ddcb2f43aca194987f1a99e27edf41cf9bc39ea750c3371c2a62698c509a/lightgbm-2.3.1-py2.py3-none-manylinux1_x86_64.whl (1.2MB)\n",
            "\u001b[K     |████████████████████████████████| 1.2MB 32.6MB/s \n",
            "\u001b[?25hCollecting pytest==5.4.3\n",
            "\u001b[?25l  Downloading https://files.pythonhosted.org/packages/9f/f3/0a83558da436a081344aa6c8b85ea5b5f05071214106036ce341b7769b0b/pytest-5.4.3-py3-none-any.whl (248kB)\n",
            "\u001b[K     |████████████████████████████████| 256kB 47.8MB/s \n",
            "\u001b[?25hCollecting threadpoolctl>=2.0.0\n",
            "  Downloading https://files.pythonhosted.org/packages/f7/12/ec3f2e203afa394a149911729357aa48affc59c20e2c1c8297a60f33f133/threadpoolctl-2.1.0-py3-none-any.whl\n",
            "Requirement already satisfied: pytz>=2017.2 in /usr/local/lib/python3.7/dist-packages (from pandas==1.0.5->lazypredict) (2018.9)\n",
            "Requirement already satisfied: python-dateutil>=2.6.1 in /usr/local/lib/python3.7/dist-packages (from pandas==1.0.5->lazypredict) (2.8.1)\n",
            "Requirement already satisfied: more-itertools>=4.0.0 in /usr/local/lib/python3.7/dist-packages (from pytest==5.4.3->lazypredict) (8.8.0)\n",
            "Requirement already satisfied: py>=1.5.0 in /usr/local/lib/python3.7/dist-packages (from pytest==5.4.3->lazypredict) (1.10.0)\n",
            "Requirement already satisfied: wcwidth in /usr/local/lib/python3.7/dist-packages (from pytest==5.4.3->lazypredict) (0.2.5)\n",
            "Requirement already satisfied: attrs>=17.4.0 in /usr/local/lib/python3.7/dist-packages (from pytest==5.4.3->lazypredict) (21.2.0)\n",
            "Requirement already satisfied: importlib-metadata>=0.12; python_version < \"3.8\" in /usr/local/lib/python3.7/dist-packages (from pytest==5.4.3->lazypredict) (4.5.0)\n",
            "Collecting pluggy<1.0,>=0.12\n",
            "  Downloading https://files.pythonhosted.org/packages/a0/28/85c7aa31b80d150b772fbe4a229487bc6644da9ccb7e427dd8cc60cb8a62/pluggy-0.13.1-py2.py3-none-any.whl\n",
            "Requirement already satisfied: packaging in /usr/local/lib/python3.7/dist-packages (from pytest==5.4.3->lazypredict) (20.9)\n",
            "Requirement already satisfied: typing-extensions>=3.6.4; python_version < \"3.8\" in /usr/local/lib/python3.7/dist-packages (from importlib-metadata>=0.12; python_version < \"3.8\"->pytest==5.4.3->lazypredict) (3.7.4.3)\n",
            "Requirement already satisfied: zipp>=0.5 in /usr/local/lib/python3.7/dist-packages (from importlib-metadata>=0.12; python_version < \"3.8\"->pytest==5.4.3->lazypredict) (3.4.1)\n",
            "Requirement already satisfied: pyparsing>=2.0.2 in /usr/local/lib/python3.7/dist-packages (from packaging->pytest==5.4.3->lazypredict) (2.4.7)\n",
            "Building wheels for collected packages: PyYAML\n",
            "  Building wheel for PyYAML (setup.py) ... \u001b[?25l\u001b[?25hdone\n",
            "  Created wheel for PyYAML: filename=PyYAML-5.3.1-cp37-cp37m-linux_x86_64.whl size=44636 sha256=fb035abd725c03908b6a8da6bde146721a953284d437096101e50b244322b45d\n",
            "  Stored in directory: /root/.cache/pip/wheels/a7/c1/ea/cf5bd31012e735dc1dfea3131a2d5eae7978b251083d6247bd\n",
            "Successfully built PyYAML\n",
            "\u001b[31mERROR: tensorflow 2.5.0 has requirement numpy~=1.19.2, but you'll have numpy 1.19.1 which is incompatible.\u001b[0m\n",
            "\u001b[31mERROR: google-colab 1.0.0 has requirement pandas~=1.1.0; python_version >= \"3.0\", but you'll have pandas 1.0.5 which is incompatible.\u001b[0m\n",
            "\u001b[31mERROR: datascience 0.10.6 has requirement folium==0.2.1, but you'll have folium 0.8.3 which is incompatible.\u001b[0m\n",
            "\u001b[31mERROR: albumentations 0.1.12 has requirement imgaug<0.2.7,>=0.2.5, but you'll have imgaug 0.2.9 which is incompatible.\u001b[0m\n",
            "Installing collected packages: tqdm, numpy, scipy, xgboost, threadpoolctl, joblib, scikit-learn, pandas, PyYAML, lightgbm, pluggy, pytest, lazypredict\n",
            "  Found existing installation: tqdm 4.41.1\n",
            "    Uninstalling tqdm-4.41.1:\n",
            "      Successfully uninstalled tqdm-4.41.1\n",
            "  Found existing installation: numpy 1.19.5\n",
            "    Uninstalling numpy-1.19.5:\n",
            "      Successfully uninstalled numpy-1.19.5\n",
            "  Found existing installation: scipy 1.4.1\n",
            "    Uninstalling scipy-1.4.1:\n",
            "      Successfully uninstalled scipy-1.4.1\n",
            "  Found existing installation: xgboost 0.90\n",
            "    Uninstalling xgboost-0.90:\n",
            "      Successfully uninstalled xgboost-0.90\n",
            "  Found existing installation: joblib 1.0.1\n",
            "    Uninstalling joblib-1.0.1:\n",
            "      Successfully uninstalled joblib-1.0.1\n",
            "  Found existing installation: scikit-learn 0.22.2.post1\n",
            "    Uninstalling scikit-learn-0.22.2.post1:\n",
            "      Successfully uninstalled scikit-learn-0.22.2.post1\n",
            "  Found existing installation: pandas 1.1.5\n",
            "    Uninstalling pandas-1.1.5:\n",
            "      Successfully uninstalled pandas-1.1.5\n",
            "  Found existing installation: PyYAML 3.13\n",
            "    Uninstalling PyYAML-3.13:\n",
            "      Successfully uninstalled PyYAML-3.13\n",
            "  Found existing installation: lightgbm 2.2.3\n",
            "    Uninstalling lightgbm-2.2.3:\n",
            "      Successfully uninstalled lightgbm-2.2.3\n",
            "  Found existing installation: pluggy 0.7.1\n",
            "    Uninstalling pluggy-0.7.1:\n",
            "      Successfully uninstalled pluggy-0.7.1\n",
            "  Found existing installation: pytest 3.6.4\n",
            "    Uninstalling pytest-3.6.4:\n",
            "      Successfully uninstalled pytest-3.6.4\n",
            "Successfully installed PyYAML-5.3.1 joblib-1.0.0 lazypredict-0.2.9 lightgbm-2.3.1 numpy-1.19.1 pandas-1.0.5 pluggy-0.13.1 pytest-5.4.3 scikit-learn-0.23.1 scipy-1.5.4 threadpoolctl-2.1.0 tqdm-4.56.0 xgboost-1.1.1\n"
          ],
          "name": "stdout"
        },
        {
          "output_type": "display_data",
          "data": {
            "application/vnd.colab-display-data+json": {
              "pip_warning": {
                "packages": [
                  "joblib",
                  "numpy",
                  "pandas",
                  "scipy",
                  "sklearn"
                ]
              }
            }
          },
          "metadata": {
            "tags": []
          }
        }
      ]
    },
    {
      "cell_type": "code",
      "metadata": {
        "id": "wMjO37nHRtam"
      },
      "source": [
        "from sklearn.model_selection import train_test_split\n",
        "X_train, X_test, y_train, y_test = train_test_split(X, y, test_size=0.33, random_state=42)"
      ],
      "execution_count": null,
      "outputs": []
    },
    {
      "cell_type": "code",
      "metadata": {
        "colab": {
          "base_uri": "https://localhost:8080/"
        },
        "id": "5BdQVjmVRy16",
        "outputId": "cb5c621b-449f-4eba-dd33-9763a5fb9884"
      },
      "source": [
        "from lazypredict.Supervised import LazyRegressor\n",
        "reg = LazyRegressor(verbose=0, ignore_warnings=False, custom_metric=None)\n",
        "models, predictions = reg.fit(X_train, X_test, y_train, y_test)"
      ],
      "execution_count": null,
      "outputs": [
        {
          "output_type": "stream",
          "text": [
            "100%|██████████| 42/42 [02:15<00:00,  3.22s/it]\n"
          ],
          "name": "stderr"
        }
      ]
    },
    {
      "cell_type": "code",
      "metadata": {
        "colab": {
          "base_uri": "https://localhost:8080/",
          "height": 1000
        },
        "id": "EHSmsguW7BrT",
        "outputId": "4e6ee815-1fd8-4988-f48e-6558efcc74c6"
      },
      "source": [
        "models"
      ],
      "execution_count": null,
      "outputs": [
        {
          "output_type": "execute_result",
          "data": {
            "text/html": [
              "<div>\n",
              "<style scoped>\n",
              "    .dataframe tbody tr th:only-of-type {\n",
              "        vertical-align: middle;\n",
              "    }\n",
              "\n",
              "    .dataframe tbody tr th {\n",
              "        vertical-align: top;\n",
              "    }\n",
              "\n",
              "    .dataframe thead th {\n",
              "        text-align: right;\n",
              "    }\n",
              "</style>\n",
              "<table border=\"1\" class=\"dataframe\">\n",
              "  <thead>\n",
              "    <tr style=\"text-align: right;\">\n",
              "      <th></th>\n",
              "      <th>Adjusted R-Squared</th>\n",
              "      <th>R-Squared</th>\n",
              "      <th>RMSE</th>\n",
              "      <th>Time Taken</th>\n",
              "    </tr>\n",
              "    <tr>\n",
              "      <th>Model</th>\n",
              "      <th></th>\n",
              "      <th></th>\n",
              "      <th></th>\n",
              "      <th></th>\n",
              "    </tr>\n",
              "  </thead>\n",
              "  <tbody>\n",
              "    <tr>\n",
              "      <th>LGBMRegressor</th>\n",
              "      <td>0.84</td>\n",
              "      <td>0.84</td>\n",
              "      <td>212037.02</td>\n",
              "      <td>0.33</td>\n",
              "    </tr>\n",
              "    <tr>\n",
              "      <th>HistGradientBoostingRegressor</th>\n",
              "      <td>0.83</td>\n",
              "      <td>0.83</td>\n",
              "      <td>214002.41</td>\n",
              "      <td>0.97</td>\n",
              "    </tr>\n",
              "    <tr>\n",
              "      <th>XGBRegressor</th>\n",
              "      <td>0.83</td>\n",
              "      <td>0.83</td>\n",
              "      <td>217203.40</td>\n",
              "      <td>1.53</td>\n",
              "    </tr>\n",
              "    <tr>\n",
              "      <th>RandomForestRegressor</th>\n",
              "      <td>0.82</td>\n",
              "      <td>0.82</td>\n",
              "      <td>224069.90</td>\n",
              "      <td>7.69</td>\n",
              "    </tr>\n",
              "    <tr>\n",
              "      <th>ExtraTreesRegressor</th>\n",
              "      <td>0.81</td>\n",
              "      <td>0.81</td>\n",
              "      <td>229377.98</td>\n",
              "      <td>4.84</td>\n",
              "    </tr>\n",
              "    <tr>\n",
              "      <th>BaggingRegressor</th>\n",
              "      <td>0.79</td>\n",
              "      <td>0.79</td>\n",
              "      <td>237996.92</td>\n",
              "      <td>0.85</td>\n",
              "    </tr>\n",
              "    <tr>\n",
              "      <th>GradientBoostingRegressor</th>\n",
              "      <td>0.79</td>\n",
              "      <td>0.79</td>\n",
              "      <td>238168.92</td>\n",
              "      <td>2.39</td>\n",
              "    </tr>\n",
              "    <tr>\n",
              "      <th>KNeighborsRegressor</th>\n",
              "      <td>0.69</td>\n",
              "      <td>0.69</td>\n",
              "      <td>292583.79</td>\n",
              "      <td>0.56</td>\n",
              "    </tr>\n",
              "    <tr>\n",
              "      <th>PoissonRegressor</th>\n",
              "      <td>0.68</td>\n",
              "      <td>0.69</td>\n",
              "      <td>294218.61</td>\n",
              "      <td>0.35</td>\n",
              "    </tr>\n",
              "    <tr>\n",
              "      <th>LassoCV</th>\n",
              "      <td>0.65</td>\n",
              "      <td>0.65</td>\n",
              "      <td>311709.53</td>\n",
              "      <td>0.33</td>\n",
              "    </tr>\n",
              "    <tr>\n",
              "      <th>LassoLarsIC</th>\n",
              "      <td>0.65</td>\n",
              "      <td>0.65</td>\n",
              "      <td>311733.36</td>\n",
              "      <td>0.10</td>\n",
              "    </tr>\n",
              "    <tr>\n",
              "      <th>LassoLarsCV</th>\n",
              "      <td>0.65</td>\n",
              "      <td>0.65</td>\n",
              "      <td>311788.22</td>\n",
              "      <td>0.20</td>\n",
              "    </tr>\n",
              "    <tr>\n",
              "      <th>LarsCV</th>\n",
              "      <td>0.65</td>\n",
              "      <td>0.65</td>\n",
              "      <td>311788.22</td>\n",
              "      <td>0.20</td>\n",
              "    </tr>\n",
              "    <tr>\n",
              "      <th>RidgeCV</th>\n",
              "      <td>0.64</td>\n",
              "      <td>0.65</td>\n",
              "      <td>312141.67</td>\n",
              "      <td>0.10</td>\n",
              "    </tr>\n",
              "    <tr>\n",
              "      <th>BayesianRidge</th>\n",
              "      <td>0.64</td>\n",
              "      <td>0.65</td>\n",
              "      <td>312161.62</td>\n",
              "      <td>0.08</td>\n",
              "    </tr>\n",
              "    <tr>\n",
              "      <th>LassoLars</th>\n",
              "      <td>0.64</td>\n",
              "      <td>0.65</td>\n",
              "      <td>312167.94</td>\n",
              "      <td>0.10</td>\n",
              "    </tr>\n",
              "    <tr>\n",
              "      <th>Ridge</th>\n",
              "      <td>0.64</td>\n",
              "      <td>0.65</td>\n",
              "      <td>312199.29</td>\n",
              "      <td>0.07</td>\n",
              "    </tr>\n",
              "    <tr>\n",
              "      <th>Lasso</th>\n",
              "      <td>0.64</td>\n",
              "      <td>0.65</td>\n",
              "      <td>312205.12</td>\n",
              "      <td>0.51</td>\n",
              "    </tr>\n",
              "    <tr>\n",
              "      <th>Lars</th>\n",
              "      <td>0.64</td>\n",
              "      <td>0.65</td>\n",
              "      <td>312206.14</td>\n",
              "      <td>0.09</td>\n",
              "    </tr>\n",
              "    <tr>\n",
              "      <th>TransformedTargetRegressor</th>\n",
              "      <td>0.64</td>\n",
              "      <td>0.65</td>\n",
              "      <td>312206.14</td>\n",
              "      <td>0.07</td>\n",
              "    </tr>\n",
              "    <tr>\n",
              "      <th>LinearRegression</th>\n",
              "      <td>0.64</td>\n",
              "      <td>0.65</td>\n",
              "      <td>312206.14</td>\n",
              "      <td>0.09</td>\n",
              "    </tr>\n",
              "    <tr>\n",
              "      <th>KernelRidge</th>\n",
              "      <td>0.64</td>\n",
              "      <td>0.65</td>\n",
              "      <td>312211.96</td>\n",
              "      <td>22.60</td>\n",
              "    </tr>\n",
              "    <tr>\n",
              "      <th>SGDRegressor</th>\n",
              "      <td>0.64</td>\n",
              "      <td>0.64</td>\n",
              "      <td>312773.08</td>\n",
              "      <td>0.16</td>\n",
              "    </tr>\n",
              "    <tr>\n",
              "      <th>HuberRegressor</th>\n",
              "      <td>0.64</td>\n",
              "      <td>0.64</td>\n",
              "      <td>314241.73</td>\n",
              "      <td>0.58</td>\n",
              "    </tr>\n",
              "    <tr>\n",
              "      <th>PassiveAggressiveRegressor</th>\n",
              "      <td>0.63</td>\n",
              "      <td>0.63</td>\n",
              "      <td>317960.07</td>\n",
              "      <td>0.65</td>\n",
              "    </tr>\n",
              "    <tr>\n",
              "      <th>DecisionTreeRegressor</th>\n",
              "      <td>0.62</td>\n",
              "      <td>0.62</td>\n",
              "      <td>321587.57</td>\n",
              "      <td>0.21</td>\n",
              "    </tr>\n",
              "    <tr>\n",
              "      <th>ExtraTreeRegressor</th>\n",
              "      <td>0.61</td>\n",
              "      <td>0.61</td>\n",
              "      <td>328936.48</td>\n",
              "      <td>0.14</td>\n",
              "    </tr>\n",
              "    <tr>\n",
              "      <th>OrthogonalMatchingPursuitCV</th>\n",
              "      <td>0.59</td>\n",
              "      <td>0.60</td>\n",
              "      <td>333791.48</td>\n",
              "      <td>0.12</td>\n",
              "    </tr>\n",
              "    <tr>\n",
              "      <th>RANSACRegressor</th>\n",
              "      <td>0.56</td>\n",
              "      <td>0.56</td>\n",
              "      <td>348735.83</td>\n",
              "      <td>0.27</td>\n",
              "    </tr>\n",
              "    <tr>\n",
              "      <th>ElasticNet</th>\n",
              "      <td>0.54</td>\n",
              "      <td>0.54</td>\n",
              "      <td>356746.76</td>\n",
              "      <td>0.07</td>\n",
              "    </tr>\n",
              "    <tr>\n",
              "      <th>GammaRegressor</th>\n",
              "      <td>0.45</td>\n",
              "      <td>0.45</td>\n",
              "      <td>389256.96</td>\n",
              "      <td>0.14</td>\n",
              "    </tr>\n",
              "    <tr>\n",
              "      <th>TweedieRegressor</th>\n",
              "      <td>0.45</td>\n",
              "      <td>0.45</td>\n",
              "      <td>389620.00</td>\n",
              "      <td>0.12</td>\n",
              "    </tr>\n",
              "    <tr>\n",
              "      <th>GeneralizedLinearRegressor</th>\n",
              "      <td>0.45</td>\n",
              "      <td>0.45</td>\n",
              "      <td>389620.00</td>\n",
              "      <td>0.12</td>\n",
              "    </tr>\n",
              "    <tr>\n",
              "      <th>AdaBoostRegressor</th>\n",
              "      <td>0.43</td>\n",
              "      <td>0.43</td>\n",
              "      <td>396209.89</td>\n",
              "      <td>1.16</td>\n",
              "    </tr>\n",
              "    <tr>\n",
              "      <th>OrthogonalMatchingPursuit</th>\n",
              "      <td>0.38</td>\n",
              "      <td>0.38</td>\n",
              "      <td>413346.09</td>\n",
              "      <td>0.07</td>\n",
              "    </tr>\n",
              "    <tr>\n",
              "      <th>GaussianProcessRegressor</th>\n",
              "      <td>0.14</td>\n",
              "      <td>0.15</td>\n",
              "      <td>484055.22</td>\n",
              "      <td>49.45</td>\n",
              "    </tr>\n",
              "    <tr>\n",
              "      <th>ElasticNetCV</th>\n",
              "      <td>0.00</td>\n",
              "      <td>0.00</td>\n",
              "      <td>523293.65</td>\n",
              "      <td>0.28</td>\n",
              "    </tr>\n",
              "    <tr>\n",
              "      <th>DummyRegressor</th>\n",
              "      <td>-0.01</td>\n",
              "      <td>-0.00</td>\n",
              "      <td>524896.45</td>\n",
              "      <td>0.05</td>\n",
              "    </tr>\n",
              "    <tr>\n",
              "      <th>NuSVR</th>\n",
              "      <td>-0.01</td>\n",
              "      <td>-0.00</td>\n",
              "      <td>525696.84</td>\n",
              "      <td>11.66</td>\n",
              "    </tr>\n",
              "    <tr>\n",
              "      <th>SVR</th>\n",
              "      <td>-0.06</td>\n",
              "      <td>-0.05</td>\n",
              "      <td>537788.88</td>\n",
              "      <td>14.43</td>\n",
              "    </tr>\n",
              "    <tr>\n",
              "      <th>LinearSVR</th>\n",
              "      <td>-1.73</td>\n",
              "      <td>-1.71</td>\n",
              "      <td>864203.16</td>\n",
              "      <td>0.10</td>\n",
              "    </tr>\n",
              "    <tr>\n",
              "      <th>MLPRegressor</th>\n",
              "      <td>-2.65</td>\n",
              "      <td>-2.63</td>\n",
              "      <td>999976.91</td>\n",
              "      <td>11.19</td>\n",
              "    </tr>\n",
              "  </tbody>\n",
              "</table>\n",
              "</div>"
            ],
            "text/plain": [
              "                               Adjusted R-Squared  ...  Time Taken\n",
              "Model                                              ...            \n",
              "LGBMRegressor                                0.84  ...        0.33\n",
              "HistGradientBoostingRegressor                0.83  ...        0.97\n",
              "XGBRegressor                                 0.83  ...        1.53\n",
              "RandomForestRegressor                        0.82  ...        7.69\n",
              "ExtraTreesRegressor                          0.81  ...        4.84\n",
              "BaggingRegressor                             0.79  ...        0.85\n",
              "GradientBoostingRegressor                    0.79  ...        2.39\n",
              "KNeighborsRegressor                          0.69  ...        0.56\n",
              "PoissonRegressor                             0.68  ...        0.35\n",
              "LassoCV                                      0.65  ...        0.33\n",
              "LassoLarsIC                                  0.65  ...        0.10\n",
              "LassoLarsCV                                  0.65  ...        0.20\n",
              "LarsCV                                       0.65  ...        0.20\n",
              "RidgeCV                                      0.64  ...        0.10\n",
              "BayesianRidge                                0.64  ...        0.08\n",
              "LassoLars                                    0.64  ...        0.10\n",
              "Ridge                                        0.64  ...        0.07\n",
              "Lasso                                        0.64  ...        0.51\n",
              "Lars                                         0.64  ...        0.09\n",
              "TransformedTargetRegressor                   0.64  ...        0.07\n",
              "LinearRegression                             0.64  ...        0.09\n",
              "KernelRidge                                  0.64  ...       22.60\n",
              "SGDRegressor                                 0.64  ...        0.16\n",
              "HuberRegressor                               0.64  ...        0.58\n",
              "PassiveAggressiveRegressor                   0.63  ...        0.65\n",
              "DecisionTreeRegressor                        0.62  ...        0.21\n",
              "ExtraTreeRegressor                           0.61  ...        0.14\n",
              "OrthogonalMatchingPursuitCV                  0.59  ...        0.12\n",
              "RANSACRegressor                              0.56  ...        0.27\n",
              "ElasticNet                                   0.54  ...        0.07\n",
              "GammaRegressor                               0.45  ...        0.14\n",
              "TweedieRegressor                             0.45  ...        0.12\n",
              "GeneralizedLinearRegressor                   0.45  ...        0.12\n",
              "AdaBoostRegressor                            0.43  ...        1.16\n",
              "OrthogonalMatchingPursuit                    0.38  ...        0.07\n",
              "GaussianProcessRegressor                     0.14  ...       49.45\n",
              "ElasticNetCV                                 0.00  ...        0.28\n",
              "DummyRegressor                              -0.01  ...        0.05\n",
              "NuSVR                                       -0.01  ...       11.66\n",
              "SVR                                         -0.06  ...       14.43\n",
              "LinearSVR                                   -1.73  ...        0.10\n",
              "MLPRegressor                                -2.65  ...       11.19\n",
              "\n",
              "[42 rows x 4 columns]"
            ]
          },
          "metadata": {
            "tags": []
          },
          "execution_count": 215
        }
      ]
    },
    {
      "cell_type": "code",
      "metadata": {
        "colab": {
          "base_uri": "https://localhost:8080/",
          "height": 1000
        },
        "id": "DwlXuKGRVT-S",
        "outputId": "6b67d141-741e-4dad-f67f-d575442cefbb"
      },
      "source": [
        "predictions"
      ],
      "execution_count": null,
      "outputs": [
        {
          "output_type": "execute_result",
          "data": {
            "text/html": [
              "<div>\n",
              "<style scoped>\n",
              "    .dataframe tbody tr th:only-of-type {\n",
              "        vertical-align: middle;\n",
              "    }\n",
              "\n",
              "    .dataframe tbody tr th {\n",
              "        vertical-align: top;\n",
              "    }\n",
              "\n",
              "    .dataframe thead th {\n",
              "        text-align: right;\n",
              "    }\n",
              "</style>\n",
              "<table border=\"1\" class=\"dataframe\">\n",
              "  <thead>\n",
              "    <tr style=\"text-align: right;\">\n",
              "      <th></th>\n",
              "      <th>Adjusted R-Squared</th>\n",
              "      <th>R-Squared</th>\n",
              "      <th>RMSE</th>\n",
              "      <th>Time Taken</th>\n",
              "    </tr>\n",
              "    <tr>\n",
              "      <th>Model</th>\n",
              "      <th></th>\n",
              "      <th></th>\n",
              "      <th></th>\n",
              "      <th></th>\n",
              "    </tr>\n",
              "  </thead>\n",
              "  <tbody>\n",
              "    <tr>\n",
              "      <th>LGBMRegressor</th>\n",
              "      <td>0.84</td>\n",
              "      <td>0.84</td>\n",
              "      <td>212037.02</td>\n",
              "      <td>0.33</td>\n",
              "    </tr>\n",
              "    <tr>\n",
              "      <th>HistGradientBoostingRegressor</th>\n",
              "      <td>0.83</td>\n",
              "      <td>0.83</td>\n",
              "      <td>214002.41</td>\n",
              "      <td>0.97</td>\n",
              "    </tr>\n",
              "    <tr>\n",
              "      <th>XGBRegressor</th>\n",
              "      <td>0.83</td>\n",
              "      <td>0.83</td>\n",
              "      <td>217203.40</td>\n",
              "      <td>1.53</td>\n",
              "    </tr>\n",
              "    <tr>\n",
              "      <th>RandomForestRegressor</th>\n",
              "      <td>0.82</td>\n",
              "      <td>0.82</td>\n",
              "      <td>224069.90</td>\n",
              "      <td>7.69</td>\n",
              "    </tr>\n",
              "    <tr>\n",
              "      <th>ExtraTreesRegressor</th>\n",
              "      <td>0.81</td>\n",
              "      <td>0.81</td>\n",
              "      <td>229377.98</td>\n",
              "      <td>4.84</td>\n",
              "    </tr>\n",
              "    <tr>\n",
              "      <th>BaggingRegressor</th>\n",
              "      <td>0.79</td>\n",
              "      <td>0.79</td>\n",
              "      <td>237996.92</td>\n",
              "      <td>0.85</td>\n",
              "    </tr>\n",
              "    <tr>\n",
              "      <th>GradientBoostingRegressor</th>\n",
              "      <td>0.79</td>\n",
              "      <td>0.79</td>\n",
              "      <td>238168.92</td>\n",
              "      <td>2.39</td>\n",
              "    </tr>\n",
              "    <tr>\n",
              "      <th>KNeighborsRegressor</th>\n",
              "      <td>0.69</td>\n",
              "      <td>0.69</td>\n",
              "      <td>292583.79</td>\n",
              "      <td>0.56</td>\n",
              "    </tr>\n",
              "    <tr>\n",
              "      <th>PoissonRegressor</th>\n",
              "      <td>0.68</td>\n",
              "      <td>0.69</td>\n",
              "      <td>294218.61</td>\n",
              "      <td>0.35</td>\n",
              "    </tr>\n",
              "    <tr>\n",
              "      <th>LassoCV</th>\n",
              "      <td>0.65</td>\n",
              "      <td>0.65</td>\n",
              "      <td>311709.53</td>\n",
              "      <td>0.33</td>\n",
              "    </tr>\n",
              "    <tr>\n",
              "      <th>LassoLarsIC</th>\n",
              "      <td>0.65</td>\n",
              "      <td>0.65</td>\n",
              "      <td>311733.36</td>\n",
              "      <td>0.10</td>\n",
              "    </tr>\n",
              "    <tr>\n",
              "      <th>LassoLarsCV</th>\n",
              "      <td>0.65</td>\n",
              "      <td>0.65</td>\n",
              "      <td>311788.22</td>\n",
              "      <td>0.20</td>\n",
              "    </tr>\n",
              "    <tr>\n",
              "      <th>LarsCV</th>\n",
              "      <td>0.65</td>\n",
              "      <td>0.65</td>\n",
              "      <td>311788.22</td>\n",
              "      <td>0.20</td>\n",
              "    </tr>\n",
              "    <tr>\n",
              "      <th>RidgeCV</th>\n",
              "      <td>0.64</td>\n",
              "      <td>0.65</td>\n",
              "      <td>312141.67</td>\n",
              "      <td>0.10</td>\n",
              "    </tr>\n",
              "    <tr>\n",
              "      <th>BayesianRidge</th>\n",
              "      <td>0.64</td>\n",
              "      <td>0.65</td>\n",
              "      <td>312161.62</td>\n",
              "      <td>0.08</td>\n",
              "    </tr>\n",
              "    <tr>\n",
              "      <th>LassoLars</th>\n",
              "      <td>0.64</td>\n",
              "      <td>0.65</td>\n",
              "      <td>312167.94</td>\n",
              "      <td>0.10</td>\n",
              "    </tr>\n",
              "    <tr>\n",
              "      <th>Ridge</th>\n",
              "      <td>0.64</td>\n",
              "      <td>0.65</td>\n",
              "      <td>312199.29</td>\n",
              "      <td>0.07</td>\n",
              "    </tr>\n",
              "    <tr>\n",
              "      <th>Lasso</th>\n",
              "      <td>0.64</td>\n",
              "      <td>0.65</td>\n",
              "      <td>312205.12</td>\n",
              "      <td>0.51</td>\n",
              "    </tr>\n",
              "    <tr>\n",
              "      <th>Lars</th>\n",
              "      <td>0.64</td>\n",
              "      <td>0.65</td>\n",
              "      <td>312206.14</td>\n",
              "      <td>0.09</td>\n",
              "    </tr>\n",
              "    <tr>\n",
              "      <th>TransformedTargetRegressor</th>\n",
              "      <td>0.64</td>\n",
              "      <td>0.65</td>\n",
              "      <td>312206.14</td>\n",
              "      <td>0.07</td>\n",
              "    </tr>\n",
              "    <tr>\n",
              "      <th>LinearRegression</th>\n",
              "      <td>0.64</td>\n",
              "      <td>0.65</td>\n",
              "      <td>312206.14</td>\n",
              "      <td>0.09</td>\n",
              "    </tr>\n",
              "    <tr>\n",
              "      <th>KernelRidge</th>\n",
              "      <td>0.64</td>\n",
              "      <td>0.65</td>\n",
              "      <td>312211.96</td>\n",
              "      <td>22.60</td>\n",
              "    </tr>\n",
              "    <tr>\n",
              "      <th>SGDRegressor</th>\n",
              "      <td>0.64</td>\n",
              "      <td>0.64</td>\n",
              "      <td>312773.08</td>\n",
              "      <td>0.16</td>\n",
              "    </tr>\n",
              "    <tr>\n",
              "      <th>HuberRegressor</th>\n",
              "      <td>0.64</td>\n",
              "      <td>0.64</td>\n",
              "      <td>314241.73</td>\n",
              "      <td>0.58</td>\n",
              "    </tr>\n",
              "    <tr>\n",
              "      <th>PassiveAggressiveRegressor</th>\n",
              "      <td>0.63</td>\n",
              "      <td>0.63</td>\n",
              "      <td>317960.07</td>\n",
              "      <td>0.65</td>\n",
              "    </tr>\n",
              "    <tr>\n",
              "      <th>DecisionTreeRegressor</th>\n",
              "      <td>0.62</td>\n",
              "      <td>0.62</td>\n",
              "      <td>321587.57</td>\n",
              "      <td>0.21</td>\n",
              "    </tr>\n",
              "    <tr>\n",
              "      <th>ExtraTreeRegressor</th>\n",
              "      <td>0.61</td>\n",
              "      <td>0.61</td>\n",
              "      <td>328936.48</td>\n",
              "      <td>0.14</td>\n",
              "    </tr>\n",
              "    <tr>\n",
              "      <th>OrthogonalMatchingPursuitCV</th>\n",
              "      <td>0.59</td>\n",
              "      <td>0.60</td>\n",
              "      <td>333791.48</td>\n",
              "      <td>0.12</td>\n",
              "    </tr>\n",
              "    <tr>\n",
              "      <th>RANSACRegressor</th>\n",
              "      <td>0.56</td>\n",
              "      <td>0.56</td>\n",
              "      <td>348735.83</td>\n",
              "      <td>0.27</td>\n",
              "    </tr>\n",
              "    <tr>\n",
              "      <th>ElasticNet</th>\n",
              "      <td>0.54</td>\n",
              "      <td>0.54</td>\n",
              "      <td>356746.76</td>\n",
              "      <td>0.07</td>\n",
              "    </tr>\n",
              "    <tr>\n",
              "      <th>GammaRegressor</th>\n",
              "      <td>0.45</td>\n",
              "      <td>0.45</td>\n",
              "      <td>389256.96</td>\n",
              "      <td>0.14</td>\n",
              "    </tr>\n",
              "    <tr>\n",
              "      <th>TweedieRegressor</th>\n",
              "      <td>0.45</td>\n",
              "      <td>0.45</td>\n",
              "      <td>389620.00</td>\n",
              "      <td>0.12</td>\n",
              "    </tr>\n",
              "    <tr>\n",
              "      <th>GeneralizedLinearRegressor</th>\n",
              "      <td>0.45</td>\n",
              "      <td>0.45</td>\n",
              "      <td>389620.00</td>\n",
              "      <td>0.12</td>\n",
              "    </tr>\n",
              "    <tr>\n",
              "      <th>AdaBoostRegressor</th>\n",
              "      <td>0.43</td>\n",
              "      <td>0.43</td>\n",
              "      <td>396209.89</td>\n",
              "      <td>1.16</td>\n",
              "    </tr>\n",
              "    <tr>\n",
              "      <th>OrthogonalMatchingPursuit</th>\n",
              "      <td>0.38</td>\n",
              "      <td>0.38</td>\n",
              "      <td>413346.09</td>\n",
              "      <td>0.07</td>\n",
              "    </tr>\n",
              "    <tr>\n",
              "      <th>GaussianProcessRegressor</th>\n",
              "      <td>0.14</td>\n",
              "      <td>0.15</td>\n",
              "      <td>484055.22</td>\n",
              "      <td>49.45</td>\n",
              "    </tr>\n",
              "    <tr>\n",
              "      <th>ElasticNetCV</th>\n",
              "      <td>0.00</td>\n",
              "      <td>0.00</td>\n",
              "      <td>523293.65</td>\n",
              "      <td>0.28</td>\n",
              "    </tr>\n",
              "    <tr>\n",
              "      <th>DummyRegressor</th>\n",
              "      <td>-0.01</td>\n",
              "      <td>-0.00</td>\n",
              "      <td>524896.45</td>\n",
              "      <td>0.05</td>\n",
              "    </tr>\n",
              "    <tr>\n",
              "      <th>NuSVR</th>\n",
              "      <td>-0.01</td>\n",
              "      <td>-0.00</td>\n",
              "      <td>525696.84</td>\n",
              "      <td>11.66</td>\n",
              "    </tr>\n",
              "    <tr>\n",
              "      <th>SVR</th>\n",
              "      <td>-0.06</td>\n",
              "      <td>-0.05</td>\n",
              "      <td>537788.88</td>\n",
              "      <td>14.43</td>\n",
              "    </tr>\n",
              "    <tr>\n",
              "      <th>LinearSVR</th>\n",
              "      <td>-1.73</td>\n",
              "      <td>-1.71</td>\n",
              "      <td>864203.16</td>\n",
              "      <td>0.10</td>\n",
              "    </tr>\n",
              "    <tr>\n",
              "      <th>MLPRegressor</th>\n",
              "      <td>-2.65</td>\n",
              "      <td>-2.63</td>\n",
              "      <td>999976.91</td>\n",
              "      <td>11.19</td>\n",
              "    </tr>\n",
              "  </tbody>\n",
              "</table>\n",
              "</div>"
            ],
            "text/plain": [
              "                               Adjusted R-Squared  ...  Time Taken\n",
              "Model                                              ...            \n",
              "LGBMRegressor                                0.84  ...        0.33\n",
              "HistGradientBoostingRegressor                0.83  ...        0.97\n",
              "XGBRegressor                                 0.83  ...        1.53\n",
              "RandomForestRegressor                        0.82  ...        7.69\n",
              "ExtraTreesRegressor                          0.81  ...        4.84\n",
              "BaggingRegressor                             0.79  ...        0.85\n",
              "GradientBoostingRegressor                    0.79  ...        2.39\n",
              "KNeighborsRegressor                          0.69  ...        0.56\n",
              "PoissonRegressor                             0.68  ...        0.35\n",
              "LassoCV                                      0.65  ...        0.33\n",
              "LassoLarsIC                                  0.65  ...        0.10\n",
              "LassoLarsCV                                  0.65  ...        0.20\n",
              "LarsCV                                       0.65  ...        0.20\n",
              "RidgeCV                                      0.64  ...        0.10\n",
              "BayesianRidge                                0.64  ...        0.08\n",
              "LassoLars                                    0.64  ...        0.10\n",
              "Ridge                                        0.64  ...        0.07\n",
              "Lasso                                        0.64  ...        0.51\n",
              "Lars                                         0.64  ...        0.09\n",
              "TransformedTargetRegressor                   0.64  ...        0.07\n",
              "LinearRegression                             0.64  ...        0.09\n",
              "KernelRidge                                  0.64  ...       22.60\n",
              "SGDRegressor                                 0.64  ...        0.16\n",
              "HuberRegressor                               0.64  ...        0.58\n",
              "PassiveAggressiveRegressor                   0.63  ...        0.65\n",
              "DecisionTreeRegressor                        0.62  ...        0.21\n",
              "ExtraTreeRegressor                           0.61  ...        0.14\n",
              "OrthogonalMatchingPursuitCV                  0.59  ...        0.12\n",
              "RANSACRegressor                              0.56  ...        0.27\n",
              "ElasticNet                                   0.54  ...        0.07\n",
              "GammaRegressor                               0.45  ...        0.14\n",
              "TweedieRegressor                             0.45  ...        0.12\n",
              "GeneralizedLinearRegressor                   0.45  ...        0.12\n",
              "AdaBoostRegressor                            0.43  ...        1.16\n",
              "OrthogonalMatchingPursuit                    0.38  ...        0.07\n",
              "GaussianProcessRegressor                     0.14  ...       49.45\n",
              "ElasticNetCV                                 0.00  ...        0.28\n",
              "DummyRegressor                              -0.01  ...        0.05\n",
              "NuSVR                                       -0.01  ...       11.66\n",
              "SVR                                         -0.06  ...       14.43\n",
              "LinearSVR                                   -1.73  ...        0.10\n",
              "MLPRegressor                                -2.65  ...       11.19\n",
              "\n",
              "[42 rows x 4 columns]"
            ]
          },
          "metadata": {
            "tags": []
          },
          "execution_count": 217
        }
      ]
    },
    {
      "cell_type": "markdown",
      "metadata": {
        "id": "uUL62eMyAunC"
      },
      "source": [
        "## (Try) Random Forest"
      ]
    },
    {
      "cell_type": "code",
      "metadata": {
        "id": "ouvDhNovAunN"
      },
      "source": [
        "\n",
        "from sklearn.model_selection import GridSearchCV\n",
        "# Create the parameter grid based on the results of random search \n",
        "param_grid = {\n",
        "    'bootstrap': [True],\n",
        "    'max_depth': [600],\n",
        "    'max_features': [5,6,7,8],\n",
        "#    'max_features':['auto', 'sqrt'],\n",
        "\n",
        "    'min_samples_leaf': [2,4,8,10,15],\n",
        "    'min_samples_split': [10,20,40,50],\n",
        "    'n_estimators': [25,50,100,200,300]\n",
        "}"
      ],
      "execution_count": null,
      "outputs": []
    },
    {
      "cell_type": "code",
      "metadata": {
        "colab": {
          "base_uri": "https://localhost:8080/"
        },
        "id": "Yl82-viqAunO",
        "outputId": "e64f77b8-edc6-4d3d-e16b-ba20cbc95f49"
      },
      "source": [
        "from sklearn.ensemble import RandomForestRegressor\n",
        "rf = RandomForestRegressor()\n",
        "# Instantiate the grid search model\n",
        "grid_search = GridSearchCV(estimator = rf, param_grid = param_grid, \n",
        "                          cv = 3, n_jobs = -1, verbose = 3)\n",
        "grid_search.fit(X_train_sparse, y_train)"
      ],
      "execution_count": null,
      "outputs": [
        {
          "output_type": "stream",
          "text": [
            "Fitting 3 folds for each of 400 candidates, totalling 1200 fits\n"
          ],
          "name": "stdout"
        },
        {
          "output_type": "stream",
          "text": [
            "[Parallel(n_jobs=-1)]: Using backend LokyBackend with 2 concurrent workers.\n",
            "[Parallel(n_jobs=-1)]: Done  28 tasks      | elapsed:   38.0s\n",
            "[Parallel(n_jobs=-1)]: Done 124 tasks      | elapsed:  2.0min\n",
            "[Parallel(n_jobs=-1)]: Done 284 tasks      | elapsed:  3.4min\n",
            "[Parallel(n_jobs=-1)]: Done 508 tasks      | elapsed:  6.5min\n",
            "[Parallel(n_jobs=-1)]: Done 796 tasks      | elapsed: 10.4min\n",
            "[Parallel(n_jobs=-1)]: Done 1148 tasks      | elapsed: 15.1min\n",
            "[Parallel(n_jobs=-1)]: Done 1200 out of 1200 | elapsed: 15.6min finished\n"
          ],
          "name": "stderr"
        },
        {
          "output_type": "execute_result",
          "data": {
            "text/plain": [
              "GridSearchCV(cv=3, estimator=RandomForestRegressor(), n_jobs=-1,\n",
              "             param_grid={'bootstrap': [True], 'max_depth': [600],\n",
              "                         'max_features': [5, 6, 7, 8],\n",
              "                         'min_samples_leaf': [2, 4, 8, 10, 15],\n",
              "                         'min_samples_split': [10, 20, 40, 50],\n",
              "                         'n_estimators': [25, 50, 100, 200, 300]},\n",
              "             verbose=3)"
            ]
          },
          "metadata": {
            "tags": []
          },
          "execution_count": 214
        }
      ]
    },
    {
      "cell_type": "code",
      "metadata": {
        "id": "lcziBhMMjV4y"
      },
      "source": [
        "model=grid_search.best_estimator_"
      ],
      "execution_count": null,
      "outputs": []
    },
    {
      "cell_type": "code",
      "metadata": {
        "colab": {
          "base_uri": "https://localhost:8080/"
        },
        "id": "yM5lap4qjXYr",
        "outputId": "981666d3-8981-466c-d5bf-0cbbe454d3cb"
      },
      "source": [
        "grid_search.best_score_"
      ],
      "execution_count": null,
      "outputs": [
        {
          "output_type": "execute_result",
          "data": {
            "text/plain": [
              "0.7407060069903083"
            ]
          },
          "metadata": {
            "tags": []
          },
          "execution_count": 216
        }
      ]
    },
    {
      "cell_type": "code",
      "metadata": {
        "id": "1APCwQECjikR"
      },
      "source": [
        "y_train_predict=model.predict(X_train_sparse)"
      ],
      "execution_count": null,
      "outputs": []
    },
    {
      "cell_type": "code",
      "metadata": {
        "colab": {
          "base_uri": "https://localhost:8080/"
        },
        "id": "W0KG1ErHjJgd",
        "outputId": "dae8ece1-b694-434c-9657-b64ef71db326"
      },
      "source": [
        "from sklearn.metrics import r2_score\n",
        "r2_score(y_train_predict,y_train)"
      ],
      "execution_count": null,
      "outputs": [
        {
          "output_type": "execute_result",
          "data": {
            "text/plain": [
              "0.6578937706433671"
            ]
          },
          "metadata": {
            "tags": []
          },
          "execution_count": 218
        }
      ]
    },
    {
      "cell_type": "markdown",
      "metadata": {
        "id": "DXoZXnq6j9LH"
      },
      "source": [
        "Random"
      ]
    },
    {
      "cell_type": "code",
      "metadata": {
        "id": "LRWErXCBj-Y9"
      },
      "source": [
        "from sklearn.model_selection import RandomizedSearchCV\n",
        "from sklearn.ensemble import RandomForestRegressor\n",
        "\n",
        "# Number of trees in random forest\n",
        "n_estimators = [int(x) for x in np.linspace(start = 200, stop = 2000, num = 3)]\n",
        "# Number of features to consider at every split\n",
        "max_features = ['auto', 'sqrt']\n",
        "# Maximum number of levels in tree\n",
        "max_depth = [int(x) for x in np.linspace(10, 110, num = 3)]\n",
        "max_depth.append(None)\n",
        "# Minimum number of samples required to split a node\n",
        "min_samples_split = [2, 5, 10]\n",
        "# Minimum number of samples required at each leaf node\n",
        "min_samples_leaf = [1, 2, 4]\n",
        "# Method of selecting samples for training each tree\n",
        "bootstrap = [True, False]\n",
        "# Create the random grid\n",
        "random_grid = {'n_estimators': n_estimators,\n",
        "               'max_features': max_features,\n",
        "               'max_depth': max_depth,\n",
        "               'min_samples_split': min_samples_split,\n",
        "               'min_samples_leaf': min_samples_leaf,\n",
        "               'bootstrap': bootstrap}"
      ],
      "execution_count": null,
      "outputs": []
    },
    {
      "cell_type": "code",
      "metadata": {
        "colab": {
          "base_uri": "https://localhost:8080/"
        },
        "id": "akGF6fxvkJPc",
        "outputId": "3c4ad69e-2791-4d01-9cdb-432f2173457a"
      },
      "source": [
        "# Use the random grid to search for best hyperparameters\n",
        "# First create the base model to tune\n",
        "rf = RandomForestRegressor()\n",
        "# Random search of parameters, using 3 fold cross validation, \n",
        "# search across 100 different combinations, and use all available cores\n",
        "rf_random = RandomizedSearchCV(estimator = rf, param_distributions = random_grid, n_iter = 5, cv = 3, verbose=2, random_state=42, n_jobs = -1)\n",
        "# Fit the random search model\n",
        "rf_random.fit(X_train_sparse, y_train)"
      ],
      "execution_count": null,
      "outputs": [
        {
          "output_type": "stream",
          "text": [
            "Fitting 3 folds for each of 5 candidates, totalling 15 fits\n"
          ],
          "name": "stdout"
        },
        {
          "output_type": "stream",
          "text": [
            "[Parallel(n_jobs=-1)]: Using backend LokyBackend with 2 concurrent workers.\n",
            "/usr/local/lib/python3.7/dist-packages/joblib/externals/loky/process_executor.py:691: UserWarning: A worker stopped while some jobs were given to the executor. This can be caused by a too short worker timeout or by a memory leak.\n",
            "  \"timeout or by a memory leak.\", UserWarning\n",
            "[Parallel(n_jobs=-1)]: Done  15 out of  15 | elapsed:  7.5min finished\n"
          ],
          "name": "stderr"
        },
        {
          "output_type": "execute_result",
          "data": {
            "text/plain": [
              "RandomizedSearchCV(cv=3, error_score=nan,\n",
              "                   estimator=RandomForestRegressor(bootstrap=True,\n",
              "                                                   ccp_alpha=0.0,\n",
              "                                                   criterion='mse',\n",
              "                                                   max_depth=None,\n",
              "                                                   max_features='auto',\n",
              "                                                   max_leaf_nodes=None,\n",
              "                                                   max_samples=None,\n",
              "                                                   min_impurity_decrease=0.0,\n",
              "                                                   min_impurity_split=None,\n",
              "                                                   min_samples_leaf=1,\n",
              "                                                   min_samples_split=2,\n",
              "                                                   min_weight_fraction_leaf=0.0,\n",
              "                                                   n_estimators=100,\n",
              "                                                   n_jobs=None, oob_score=False,\n",
              "                                                   random_state=None, verbose=0,\n",
              "                                                   warm_start=False),\n",
              "                   iid='deprecated', n_iter=5, n_jobs=-1,\n",
              "                   param_distributions={'bootstrap': [True, False],\n",
              "                                        'max_depth': [10, 60, 110, None],\n",
              "                                        'max_features': ['auto', 'sqrt'],\n",
              "                                        'min_samples_leaf': [1, 2, 4],\n",
              "                                        'min_samples_split': [2, 5, 10],\n",
              "                                        'n_estimators': [200, 1100, 2000]},\n",
              "                   pre_dispatch='2*n_jobs', random_state=42, refit=True,\n",
              "                   return_train_score=False, scoring=None, verbose=2)"
            ]
          },
          "metadata": {
            "tags": []
          },
          "execution_count": 233
        }
      ]
    },
    {
      "cell_type": "code",
      "metadata": {
        "id": "JCGTbX40nrR-"
      },
      "source": [
        "y_train_predict=rf_random.predict(X_train_sparse)"
      ],
      "execution_count": null,
      "outputs": []
    },
    {
      "cell_type": "code",
      "metadata": {
        "colab": {
          "base_uri": "https://localhost:8080/"
        },
        "id": "Ezio7WF6nwfM",
        "outputId": "1207af1f-c8c3-461a-d913-1084caa01e9e"
      },
      "source": [
        "from sklearn.metrics import r2_score\n",
        "r2_score(y_train_predict,y_train)"
      ],
      "execution_count": null,
      "outputs": [
        {
          "output_type": "execute_result",
          "data": {
            "text/plain": [
              "0.9150711337651354"
            ]
          },
          "metadata": {
            "tags": []
          },
          "execution_count": 235
        }
      ]
    },
    {
      "cell_type": "code",
      "metadata": {
        "id": "CzD5X2ern1rJ"
      },
      "source": [
        "y_test_predict=rf_random.predict(X_test_sparse)"
      ],
      "execution_count": null,
      "outputs": []
    },
    {
      "cell_type": "code",
      "metadata": {
        "colab": {
          "base_uri": "https://localhost:8080/"
        },
        "id": "FqTiTuBRn6SW",
        "outputId": "46d8d160-26fb-46a3-a72a-2e1a94470d9a"
      },
      "source": [
        "from sklearn.metrics import r2_score\n",
        "r2_score(y_test_predict,y_test)"
      ],
      "execution_count": null,
      "outputs": [
        {
          "output_type": "execute_result",
          "data": {
            "text/plain": [
              "0.7723731194505961"
            ]
          },
          "metadata": {
            "tags": []
          },
          "execution_count": 237
        }
      ]
    },
    {
      "cell_type": "markdown",
      "metadata": {
        "id": "G7Zw60LmM8_-"
      },
      "source": [
        "Trying old random forest"
      ]
    },
    {
      "cell_type": "code",
      "metadata": {
        "colab": {
          "base_uri": "https://localhost:8080/"
        },
        "id": "hGUG1MfWM_WV",
        "outputId": "9a977b77-67ff-4034-e6c8-9ed7624f3724"
      },
      "source": [
        "%%time\n",
        "from sklearn.ensemble import RandomForestRegressor\n",
        "\n",
        "rf = RandomForestRegressor()\n",
        "rf.fit(X_train_sparse, y_train)"
      ],
      "execution_count": null,
      "outputs": [
        {
          "output_type": "stream",
          "text": [
            "CPU times: user 8.8 s, sys: 35.1 ms, total: 8.84 s\n",
            "Wall time: 8.8 s\n"
          ],
          "name": "stdout"
        }
      ]
    },
    {
      "cell_type": "code",
      "metadata": {
        "colab": {
          "base_uri": "https://localhost:8080/"
        },
        "id": "xakh_yViNHvf",
        "outputId": "b6541d5c-990c-432b-c1ac-d7c5df91e438"
      },
      "source": [
        "y_train_predict=rf.predict(X_train_sparse)\n",
        "from sklearn.metrics import r2_score\n",
        "r2_score(y_train_predict,y_train)"
      ],
      "execution_count": null,
      "outputs": [
        {
          "output_type": "execute_result",
          "data": {
            "text/plain": [
              "0.9728892373091398"
            ]
          },
          "metadata": {
            "tags": []
          },
          "execution_count": 239
        }
      ]
    },
    {
      "cell_type": "code",
      "metadata": {
        "colab": {
          "base_uri": "https://localhost:8080/"
        },
        "id": "kzAhMszaNfws",
        "outputId": "f8666e9f-3416-4982-c7e7-649c200e79ba"
      },
      "source": [
        "y_test_predict=rf.predict(X_test_sparse)\n",
        "from sklearn.metrics import r2_score\n",
        "r2_score(y_test_predict,y_test)"
      ],
      "execution_count": null,
      "outputs": [
        {
          "output_type": "execute_result",
          "data": {
            "text/plain": [
              "0.7738669655397643"
            ]
          },
          "metadata": {
            "tags": []
          },
          "execution_count": 240
        }
      ]
    },
    {
      "cell_type": "code",
      "metadata": {
        "id": "QU2VdBWTqPw3"
      },
      "source": [
        "feature_imp_df=[]\n",
        "for name, score in zip(get_ct_feature_names(full_pipeline), rf.feature_importances_):\n",
        "  d={'name':name,'score':score}\n",
        "  feature_imp_df.append(d)\n",
        "\n",
        "feature_imp_df=pd.DataFrame(feature_imp_df)"
      ],
      "execution_count": null,
      "outputs": []
    },
    {
      "cell_type": "code",
      "metadata": {
        "id": "sgPNkHzJqvXg"
      },
      "source": [
        "feature_imp_df=feature_imp_df.sort_values(by='score',ascending=False)"
      ],
      "execution_count": null,
      "outputs": []
    },
    {
      "cell_type": "markdown",
      "metadata": {
        "id": "8b2I5v_Asme9"
      },
      "source": [
        "Visuaising the feature importance plot"
      ]
    },
    {
      "cell_type": "code",
      "metadata": {
        "colab": {
          "base_uri": "https://localhost:8080/",
          "height": 465
        },
        "id": "xj5ZvcBarlEM",
        "outputId": "9af91325-51b5-4e9f-cd1a-5e3a83007c61"
      },
      "source": [
        "feature_imp_df.round(3)[:15].set_index('name').plot.bar()"
      ],
      "execution_count": null,
      "outputs": [
        {
          "output_type": "execute_result",
          "data": {
            "text/plain": [
              "<matplotlib.axes._subplots.AxesSubplot at 0x7fc6a4811ed0>"
            ]
          },
          "metadata": {
            "tags": []
          },
          "execution_count": 243
        },
        {
          "output_type": "display_data",
          "data": {
            "image/png": "[encoded data removed]",
            "text/plain": [
              "<Figure size 432x288 with 1 Axes>"
            ]
          },
          "metadata": {
            "tags": []
          }
        }
      ]
    },
    {
      "cell_type": "markdown",
      "metadata": {
        "id": "O_gbQq5Gspwx"
      },
      "source": [
        "Clearly we can see that pincode or suburb are not contributing much. One change that could be made is to delete the whole suburb and pincode and then recreate the model"
      ]
    },
    {
      "cell_type": "code",
      "metadata": {
        "colab": {
          "base_uri": "https://localhost:8080/",
          "height": 1000
        },
        "id": "fARo2COfhdlS",
        "outputId": "5b1d59a9-39be-4f79-e189-0ec49de5d076"
      },
      "source": [
        "feature_imp_df"
      ],
      "execution_count": null,
      "outputs": [
        {
          "output_type": "execute_result",
          "data": {
            "text/html": [
              "<div>\n",
              "<style scoped>\n",
              "    .dataframe tbody tr th:only-of-type {\n",
              "        vertical-align: middle;\n",
              "    }\n",
              "\n",
              "    .dataframe tbody tr th {\n",
              "        vertical-align: top;\n",
              "    }\n",
              "\n",
              "    .dataframe thead th {\n",
              "        text-align: right;\n",
              "    }\n",
              "</style>\n",
              "<table border=\"1\" class=\"dataframe\">\n",
              "  <thead>\n",
              "    <tr style=\"text-align: right;\">\n",
              "      <th></th>\n",
              "      <th>name</th>\n",
              "      <th>score</th>\n",
              "    </tr>\n",
              "  </thead>\n",
              "  <tbody>\n",
              "    <tr>\n",
              "      <th>47</th>\n",
              "      <td>Regionname_Southern Metropolitan</td>\n",
              "      <td>0.225730</td>\n",
              "    </tr>\n",
              "    <tr>\n",
              "      <th>13</th>\n",
              "      <td>Type_u</td>\n",
              "      <td>0.148032</td>\n",
              "    </tr>\n",
              "    <tr>\n",
              "      <th>1</th>\n",
              "      <td>Distance</td>\n",
              "      <td>0.111985</td>\n",
              "    </tr>\n",
              "    <tr>\n",
              "      <th>0</th>\n",
              "      <td>Rooms</td>\n",
              "      <td>0.099092</td>\n",
              "    </tr>\n",
              "    <tr>\n",
              "      <th>4</th>\n",
              "      <td>Landsize</td>\n",
              "      <td>0.092400</td>\n",
              "    </tr>\n",
              "    <tr>\n",
              "      <th>6</th>\n",
              "      <td>Longtitude</td>\n",
              "      <td>0.090678</td>\n",
              "    </tr>\n",
              "    <tr>\n",
              "      <th>5</th>\n",
              "      <td>Lattitude</td>\n",
              "      <td>0.072519</td>\n",
              "    </tr>\n",
              "    <tr>\n",
              "      <th>2</th>\n",
              "      <td>Bathroom</td>\n",
              "      <td>0.023889</td>\n",
              "    </tr>\n",
              "    <tr>\n",
              "      <th>7</th>\n",
              "      <td>Propertycount</td>\n",
              "      <td>0.022562</td>\n",
              "    </tr>\n",
              "    <tr>\n",
              "      <th>8</th>\n",
              "      <td>day</td>\n",
              "      <td>0.018420</td>\n",
              "    </tr>\n",
              "    <tr>\n",
              "      <th>11</th>\n",
              "      <td>Type_h</td>\n",
              "      <td>0.018158</td>\n",
              "    </tr>\n",
              "    <tr>\n",
              "      <th>44</th>\n",
              "      <td>Regionname_Eastern Metropolitan</td>\n",
              "      <td>0.015606</td>\n",
              "    </tr>\n",
              "    <tr>\n",
              "      <th>9</th>\n",
              "      <td>month</td>\n",
              "      <td>0.014048</td>\n",
              "    </tr>\n",
              "    <tr>\n",
              "      <th>3</th>\n",
              "      <td>Car</td>\n",
              "      <td>0.009641</td>\n",
              "    </tr>\n",
              "    <tr>\n",
              "      <th>10</th>\n",
              "      <td>year</td>\n",
              "      <td>0.005493</td>\n",
              "    </tr>\n",
              "    <tr>\n",
              "      <th>15</th>\n",
              "      <td>Method_S</td>\n",
              "      <td>0.003764</td>\n",
              "    </tr>\n",
              "    <tr>\n",
              "      <th>12</th>\n",
              "      <td>Type_t</td>\n",
              "      <td>0.003734</td>\n",
              "    </tr>\n",
              "    <tr>\n",
              "      <th>46</th>\n",
              "      <td>Regionname_South-Eastern Metropolitan</td>\n",
              "      <td>0.003215</td>\n",
              "    </tr>\n",
              "    <tr>\n",
              "      <th>14</th>\n",
              "      <td>Method_PI</td>\n",
              "      <td>0.002539</td>\n",
              "    </tr>\n",
              "    <tr>\n",
              "      <th>18</th>\n",
              "      <td>Method_VB</td>\n",
              "      <td>0.002174</td>\n",
              "    </tr>\n",
              "    <tr>\n",
              "      <th>21</th>\n",
              "      <td>CouncilArea_Boroondara City Council</td>\n",
              "      <td>0.001711</td>\n",
              "    </tr>\n",
              "    <tr>\n",
              "      <th>36</th>\n",
              "      <td>CouncilArea_Moonee Valley City Council</td>\n",
              "      <td>0.001653</td>\n",
              "    </tr>\n",
              "    <tr>\n",
              "      <th>17</th>\n",
              "      <td>Method_SP</td>\n",
              "      <td>0.001629</td>\n",
              "    </tr>\n",
              "    <tr>\n",
              "      <th>19</th>\n",
              "      <td>CouncilArea_Banyule City Council</td>\n",
              "      <td>0.001451</td>\n",
              "    </tr>\n",
              "    <tr>\n",
              "      <th>31</th>\n",
              "      <td>CouncilArea_Maribyrnong City Council</td>\n",
              "      <td>0.001416</td>\n",
              "    </tr>\n",
              "    <tr>\n",
              "      <th>33</th>\n",
              "      <td>CouncilArea_Melbourne City Council</td>\n",
              "      <td>0.001145</td>\n",
              "    </tr>\n",
              "    <tr>\n",
              "      <th>39</th>\n",
              "      <td>CouncilArea_Stonnington City Council</td>\n",
              "      <td>0.000951</td>\n",
              "    </tr>\n",
              "    <tr>\n",
              "      <th>35</th>\n",
              "      <td>CouncilArea_Monash City Council</td>\n",
              "      <td>0.000772</td>\n",
              "    </tr>\n",
              "    <tr>\n",
              "      <th>24</th>\n",
              "      <td>CouncilArea_Glen Eira City Council</td>\n",
              "      <td>0.000719</td>\n",
              "    </tr>\n",
              "    <tr>\n",
              "      <th>26</th>\n",
              "      <td>CouncilArea_Hobsons Bay City Council</td>\n",
              "      <td>0.000684</td>\n",
              "    </tr>\n",
              "    <tr>\n",
              "      <th>23</th>\n",
              "      <td>CouncilArea_Darebin City Council</td>\n",
              "      <td>0.000551</td>\n",
              "    </tr>\n",
              "    <tr>\n",
              "      <th>38</th>\n",
              "      <td>CouncilArea_Port Phillip City Council</td>\n",
              "      <td>0.000465</td>\n",
              "    </tr>\n",
              "    <tr>\n",
              "      <th>45</th>\n",
              "      <td>Regionname_Northern Metropolitan</td>\n",
              "      <td>0.000424</td>\n",
              "    </tr>\n",
              "    <tr>\n",
              "      <th>20</th>\n",
              "      <td>CouncilArea_Bayside City Council</td>\n",
              "      <td>0.000354</td>\n",
              "    </tr>\n",
              "    <tr>\n",
              "      <th>40</th>\n",
              "      <td>CouncilArea_Whitehorse City Council</td>\n",
              "      <td>0.000340</td>\n",
              "    </tr>\n",
              "    <tr>\n",
              "      <th>37</th>\n",
              "      <td>CouncilArea_Moreland City Council</td>\n",
              "      <td>0.000338</td>\n",
              "    </tr>\n",
              "    <tr>\n",
              "      <th>30</th>\n",
              "      <td>CouncilArea_Manningham City Council</td>\n",
              "      <td>0.000304</td>\n",
              "    </tr>\n",
              "    <tr>\n",
              "      <th>43</th>\n",
              "      <td>CouncilArea_Yarra City Council</td>\n",
              "      <td>0.000293</td>\n",
              "    </tr>\n",
              "    <tr>\n",
              "      <th>48</th>\n",
              "      <td>Regionname_Western Metropolitan</td>\n",
              "      <td>0.000271</td>\n",
              "    </tr>\n",
              "    <tr>\n",
              "      <th>25</th>\n",
              "      <td>CouncilArea_Greater Dandenong City Council</td>\n",
              "      <td>0.000207</td>\n",
              "    </tr>\n",
              "    <tr>\n",
              "      <th>28</th>\n",
              "      <td>CouncilArea_Kingston City Council</td>\n",
              "      <td>0.000199</td>\n",
              "    </tr>\n",
              "    <tr>\n",
              "      <th>27</th>\n",
              "      <td>CouncilArea_Hume City Council</td>\n",
              "      <td>0.000150</td>\n",
              "    </tr>\n",
              "    <tr>\n",
              "      <th>16</th>\n",
              "      <td>Method_SA</td>\n",
              "      <td>0.000140</td>\n",
              "    </tr>\n",
              "    <tr>\n",
              "      <th>22</th>\n",
              "      <td>CouncilArea_Brimbank City Council</td>\n",
              "      <td>0.000079</td>\n",
              "    </tr>\n",
              "    <tr>\n",
              "      <th>29</th>\n",
              "      <td>CouncilArea_Knox City Council</td>\n",
              "      <td>0.000028</td>\n",
              "    </tr>\n",
              "    <tr>\n",
              "      <th>32</th>\n",
              "      <td>CouncilArea_Maroondah City Council</td>\n",
              "      <td>0.000025</td>\n",
              "    </tr>\n",
              "    <tr>\n",
              "      <th>41</th>\n",
              "      <td>CouncilArea_Whittlesea City Council</td>\n",
              "      <td>0.000016</td>\n",
              "    </tr>\n",
              "    <tr>\n",
              "      <th>42</th>\n",
              "      <td>CouncilArea_Wyndham City Council</td>\n",
              "      <td>0.000003</td>\n",
              "    </tr>\n",
              "    <tr>\n",
              "      <th>34</th>\n",
              "      <td>CouncilArea_Melton City Council</td>\n",
              "      <td>0.000002</td>\n",
              "    </tr>\n",
              "  </tbody>\n",
              "</table>\n",
              "</div>"
            ],
            "text/plain": [
              "                                          name     score\n",
              "47            Regionname_Southern Metropolitan  0.225730\n",
              "13                                      Type_u  0.148032\n",
              "1                                     Distance  0.111985\n",
              "0                                        Rooms  0.099092\n",
              "4                                     Landsize  0.092400\n",
              "6                                   Longtitude  0.090678\n",
              "5                                    Lattitude  0.072519\n",
              "2                                     Bathroom  0.023889\n",
              "7                                Propertycount  0.022562\n",
              "8                                          day  0.018420\n",
              "11                                      Type_h  0.018158\n",
              "44             Regionname_Eastern Metropolitan  0.015606\n",
              "9                                        month  0.014048\n",
              "3                                          Car  0.009641\n",
              "10                                        year  0.005493\n",
              "15                                    Method_S  0.003764\n",
              "12                                      Type_t  0.003734\n",
              "46       Regionname_South-Eastern Metropolitan  0.003215\n",
              "14                                   Method_PI  0.002539\n",
              "18                                   Method_VB  0.002174\n",
              "21         CouncilArea_Boroondara City Council  0.001711\n",
              "36      CouncilArea_Moonee Valley City Council  0.001653\n",
              "17                                   Method_SP  0.001629\n",
              "19            CouncilArea_Banyule City Council  0.001451\n",
              "31        CouncilArea_Maribyrnong City Council  0.001416\n",
              "33          CouncilArea_Melbourne City Council  0.001145\n",
              "39        CouncilArea_Stonnington City Council  0.000951\n",
              "35             CouncilArea_Monash City Council  0.000772\n",
              "24          CouncilArea_Glen Eira City Council  0.000719\n",
              "26        CouncilArea_Hobsons Bay City Council  0.000684\n",
              "23            CouncilArea_Darebin City Council  0.000551\n",
              "38       CouncilArea_Port Phillip City Council  0.000465\n",
              "45            Regionname_Northern Metropolitan  0.000424\n",
              "20            CouncilArea_Bayside City Council  0.000354\n",
              "40         CouncilArea_Whitehorse City Council  0.000340\n",
              "37           CouncilArea_Moreland City Council  0.000338\n",
              "30         CouncilArea_Manningham City Council  0.000304\n",
              "43              CouncilArea_Yarra City Council  0.000293\n",
              "48             Regionname_Western Metropolitan  0.000271\n",
              "25  CouncilArea_Greater Dandenong City Council  0.000207\n",
              "28           CouncilArea_Kingston City Council  0.000199\n",
              "27               CouncilArea_Hume City Council  0.000150\n",
              "16                                   Method_SA  0.000140\n",
              "22           CouncilArea_Brimbank City Council  0.000079\n",
              "29               CouncilArea_Knox City Council  0.000028\n",
              "32          CouncilArea_Maroondah City Council  0.000025\n",
              "41         CouncilArea_Whittlesea City Council  0.000016\n",
              "42            CouncilArea_Wyndham City Council  0.000003\n",
              "34             CouncilArea_Melton City Council  0.000002"
            ]
          },
          "metadata": {
            "tags": []
          },
          "execution_count": 244
        }
      ]
    },
    {
      "cell_type": "markdown",
      "metadata": {
        "id": "Se0phDey3m4S"
      },
      "source": [
        "## (Try) PCA to lazy"
      ]
    },
    {
      "cell_type": "code",
      "metadata": {
        "colab": {
          "base_uri": "https://localhost:8080/",
          "height": 142
        },
        "id": "pBbbmnwv3kUP",
        "outputId": "b5841eb8-4ce4-4de1-9c74-8eb62ef4e499"
      },
      "source": [
        "working_df.head(3)"
      ],
      "execution_count": null,
      "outputs": [
        {
          "output_type": "execute_result",
          "data": {
            "text/html": [
              "<div>\n",
              "<style scoped>\n",
              "    .dataframe tbody tr th:only-of-type {\n",
              "        vertical-align: middle;\n",
              "    }\n",
              "\n",
              "    .dataframe tbody tr th {\n",
              "        vertical-align: top;\n",
              "    }\n",
              "\n",
              "    .dataframe thead th {\n",
              "        text-align: right;\n",
              "    }\n",
              "</style>\n",
              "<table border=\"1\" class=\"dataframe\">\n",
              "  <thead>\n",
              "    <tr style=\"text-align: right;\">\n",
              "      <th></th>\n",
              "      <th>Suburb</th>\n",
              "      <th>Rooms</th>\n",
              "      <th>Type</th>\n",
              "      <th>Method</th>\n",
              "      <th>Distance</th>\n",
              "      <th>Postcode</th>\n",
              "      <th>Bathroom</th>\n",
              "      <th>Car</th>\n",
              "      <th>Landsize</th>\n",
              "      <th>CouncilArea</th>\n",
              "      <th>Lattitude</th>\n",
              "      <th>Longtitude</th>\n",
              "      <th>Regionname</th>\n",
              "      <th>Propertycount</th>\n",
              "      <th>day</th>\n",
              "      <th>month</th>\n",
              "      <th>year</th>\n",
              "    </tr>\n",
              "  </thead>\n",
              "  <tbody>\n",
              "    <tr>\n",
              "      <th>0</th>\n",
              "      <td>Abbotsford</td>\n",
              "      <td>2</td>\n",
              "      <td>h</td>\n",
              "      <td>S</td>\n",
              "      <td>2.50</td>\n",
              "      <td>3067.00</td>\n",
              "      <td>1.00</td>\n",
              "      <td>1.00</td>\n",
              "      <td>202.00</td>\n",
              "      <td>Yarra City Council</td>\n",
              "      <td>-37.80</td>\n",
              "      <td>145.00</td>\n",
              "      <td>Northern Metropolitan</td>\n",
              "      <td>4019.00</td>\n",
              "      <td>12</td>\n",
              "      <td>3</td>\n",
              "      <td>2016</td>\n",
              "    </tr>\n",
              "    <tr>\n",
              "      <th>1</th>\n",
              "      <td>Abbotsford</td>\n",
              "      <td>2</td>\n",
              "      <td>h</td>\n",
              "      <td>S</td>\n",
              "      <td>2.50</td>\n",
              "      <td>3067.00</td>\n",
              "      <td>1.00</td>\n",
              "      <td>0.00</td>\n",
              "      <td>156.00</td>\n",
              "      <td>Yarra City Council</td>\n",
              "      <td>-37.81</td>\n",
              "      <td>144.99</td>\n",
              "      <td>Northern Metropolitan</td>\n",
              "      <td>4019.00</td>\n",
              "      <td>2</td>\n",
              "      <td>4</td>\n",
              "      <td>2016</td>\n",
              "    </tr>\n",
              "    <tr>\n",
              "      <th>2</th>\n",
              "      <td>Abbotsford</td>\n",
              "      <td>3</td>\n",
              "      <td>h</td>\n",
              "      <td>SP</td>\n",
              "      <td>2.50</td>\n",
              "      <td>3067.00</td>\n",
              "      <td>2.00</td>\n",
              "      <td>0.00</td>\n",
              "      <td>134.00</td>\n",
              "      <td>Yarra City Council</td>\n",
              "      <td>-37.81</td>\n",
              "      <td>144.99</td>\n",
              "      <td>Northern Metropolitan</td>\n",
              "      <td>4019.00</td>\n",
              "      <td>3</td>\n",
              "      <td>4</td>\n",
              "      <td>2017</td>\n",
              "    </tr>\n",
              "  </tbody>\n",
              "</table>\n",
              "</div>"
            ],
            "text/plain": [
              "       Suburb  Rooms Type Method  ...  Propertycount  day  month  year\n",
              "0  Abbotsford      2    h      S  ...        4019.00   12      3  2016\n",
              "1  Abbotsford      2    h      S  ...        4019.00    2      4  2016\n",
              "2  Abbotsford      3    h     SP  ...        4019.00    3      4  2017\n",
              "\n",
              "[3 rows x 17 columns]"
            ]
          },
          "metadata": {
            "tags": []
          },
          "execution_count": 96
        }
      ]
    },
    {
      "cell_type": "code",
      "metadata": {
        "id": "GmYUJ0fH6zlS"
      },
      "source": [
        "X_working_df=working_df[['Rooms','Distance','Bathroom','Car','Landsize']]"
      ],
      "execution_count": null,
      "outputs": []
    },
    {
      "cell_type": "markdown",
      "metadata": {
        "id": "dFCBkWhN6owU"
      },
      "source": [
        "### Feature Scaling"
      ]
    },
    {
      "cell_type": "code",
      "metadata": {
        "id": "a4JQ-rx_3nws"
      },
      "source": [
        "from sklearn.preprocessing import StandardScaler\n",
        "\n",
        "\n",
        "\n",
        "X_working_df = StandardScaler().fit_transform(X_working_df)\n"
      ],
      "execution_count": null,
      "outputs": []
    },
    {
      "cell_type": "code",
      "metadata": {
        "colab": {
          "base_uri": "https://localhost:8080/"
        },
        "id": "Q8qaBfT28xqA",
        "outputId": "e4df4a20-dc39-4006-ef5b-26b0e4a0190c"
      },
      "source": [
        "X_working_df"
      ],
      "execution_count": null,
      "outputs": [
        {
          "output_type": "execute_result",
          "data": {
            "text/plain": [
              "array([[-1.09382751, -1.48947412, -0.84877143, -0.70160342, -0.53649264],\n",
              "       [-1.09382751, -1.48947412, -0.84877143, -1.87187884, -0.62448209],\n",
              "       [ 0.02675319, -1.48947412,  0.75946001, -1.87187884, -0.66656401],\n",
              "       ...,\n",
              "       [-1.09382751, -0.75263217,  0.75946001, -0.70160342, -0.73542532],\n",
              "       [-1.09382751, -0.75263217, -0.84877143,  0.468672  , -0.50206198],\n",
              "       [-1.09382751, -0.75263217, -0.84877143, -1.87187884, -0.44467756]])"
            ]
          },
          "metadata": {
            "tags": []
          },
          "execution_count": 118
        }
      ]
    },
    {
      "cell_type": "markdown",
      "metadata": {
        "id": "4X0kIgiXEHvv"
      },
      "source": [
        "PCA"
      ]
    },
    {
      "cell_type": "code",
      "metadata": {
        "id": "iySsvA7Z8yjQ"
      },
      "source": [
        "from sklearn.decomposition import PCA\n",
        "pca = PCA(n_components=5)\n",
        "principalComponents = pca.fit_transform(X_working_df)"
      ],
      "execution_count": null,
      "outputs": []
    },
    {
      "cell_type": "code",
      "metadata": {
        "colab": {
          "base_uri": "https://localhost:8080/"
        },
        "id": "9aPm1UjM85_w",
        "outputId": "524e527e-9b6b-47b5-b7ec-bc6284e508fb"
      },
      "source": [
        "pca.explained_variance_ratio_"
      ],
      "execution_count": null,
      "outputs": [
        {
          "output_type": "execute_result",
          "data": {
            "text/plain": [
              "array([0.42946525, 0.19460637, 0.1643209 , 0.13323369, 0.0783738 ])"
            ]
          },
          "metadata": {
            "tags": []
          },
          "execution_count": 120
        }
      ]
    },
    {
      "cell_type": "markdown",
      "metadata": {
        "id": "hNEZtUB2EJVn"
      },
      "source": [
        "Poor variance explained and no much scope for dimensionality reduction"
      ]
    },
    {
      "cell_type": "code",
      "metadata": {
        "id": "eU1YOzrC899w"
      },
      "source": [
        ""
      ],
      "execution_count": null,
      "outputs": []
    },
    {
      "cell_type": "code",
      "metadata": {
        "id": "FWnP6YcZfYgM"
      },
      "source": [
        ""
      ],
      "execution_count": null,
      "outputs": []
    },
    {
      "cell_type": "markdown",
      "metadata": {
        "id": "OTgpeM4CfaeZ"
      },
      "source": [
        "## (Try) Logistic regression"
      ]
    },
    {
      "cell_type": "code",
      "metadata": {
        "colab": {
          "base_uri": "https://localhost:8080/"
        },
        "id": "ViMLeCq0Yagi",
        "outputId": "13742ee2-9362-4f3b-98cf-eeeed1ba6ee6"
      },
      "source": [
        "from sklearn.linear_model import LogisticRegression\n",
        "\n",
        "clf = LogisticRegression(random_state=0).fit(X_train_sparse, y_train)\n",
        "\n",
        "y_train_predict=clf.predict(X_train_sparse)\n",
        "from sklearn.metrics import r2_score\n",
        "r2_score(y_train_predict,y_train)"
      ],
      "execution_count": null,
      "outputs": [
        {
          "output_type": "stream",
          "text": [
            "/usr/local/lib/python3.7/dist-packages/sklearn/linear_model/_logistic.py:940: ConvergenceWarning: lbfgs failed to converge (status=1):\n",
            "STOP: TOTAL NO. of ITERATIONS REACHED LIMIT.\n",
            "\n",
            "Increase the number of iterations (max_iter) or scale the data as shown in:\n",
            "    https://scikit-learn.org/stable/modules/preprocessing.html\n",
            "Please also refer to the documentation for alternative solver options:\n",
            "    https://scikit-learn.org/stable/modules/linear_model.html#logistic-regression\n",
            "  extra_warning_msg=_LOGISTIC_SOLVER_CONVERGENCE_MSG)\n"
          ],
          "name": "stderr"
        },
        {
          "output_type": "execute_result",
          "data": {
            "text/plain": [
              "0.5763314818171718"
            ]
          },
          "metadata": {
            "tags": []
          },
          "execution_count": 245
        }
      ]
    },
    {
      "cell_type": "code",
      "metadata": {
        "colab": {
          "base_uri": "https://localhost:8080/"
        },
        "id": "QcayivTcby-v",
        "outputId": "2028b181-cf65-4c33-d95a-9a00c6c76877"
      },
      "source": [
        "y_test_predict=clf.predict(X_test_sparse)\n",
        "from sklearn.metrics import r2_score\n",
        "r2_score(y_test_predict,y_test)"
      ],
      "execution_count": null,
      "outputs": [
        {
          "output_type": "execute_result",
          "data": {
            "text/plain": [
              "0.5395379457522987"
            ]
          },
          "metadata": {
            "tags": []
          },
          "execution_count": 246
        }
      ]
    },
    {
      "cell_type": "code",
      "metadata": {
        "id": "musIIzGPawa0"
      },
      "source": [
        ""
      ],
      "execution_count": null,
      "outputs": []
    },
    {
      "cell_type": "code",
      "metadata": {
        "id": "-D77XLglfT8C"
      },
      "source": [
        ""
      ],
      "execution_count": null,
      "outputs": []
    },
    {
      "cell_type": "markdown",
      "metadata": {
        "id": "vICLDdKofUq-"
      },
      "source": [
        "## Light GBM"
      ]
    },
    {
      "cell_type": "code",
      "metadata": {
        "colab": {
          "base_uri": "https://localhost:8080/"
        },
        "id": "2vx-orcufVwP",
        "outputId": "06ebb934-33d5-44f6-fb81-cf4ab75bbd30"
      },
      "source": [
        "!pip install lightgbm"
      ],
      "execution_count": null,
      "outputs": [
        {
          "output_type": "stream",
          "text": [
            "Requirement already satisfied: lightgbm in /usr/local/lib/python3.7/dist-packages (2.2.3)\n",
            "Requirement already satisfied: scipy in /usr/local/lib/python3.7/dist-packages (from lightgbm) (1.4.1)\n",
            "Requirement already satisfied: numpy in /usr/local/lib/python3.7/dist-packages (from lightgbm) (1.19.5)\n",
            "Requirement already satisfied: scikit-learn in /usr/local/lib/python3.7/dist-packages (from lightgbm) (0.22.2.post1)\n",
            "Requirement already satisfied: joblib>=0.11 in /usr/local/lib/python3.7/dist-packages (from scikit-learn->lightgbm) (1.0.1)\n"
          ],
          "name": "stdout"
        }
      ]
    },
    {
      "cell_type": "markdown",
      "metadata": {
        "id": "3UY9NjGKES6e"
      },
      "source": [
        "Trying a model with default parameter"
      ]
    },
    {
      "cell_type": "code",
      "metadata": {
        "colab": {
          "base_uri": "https://localhost:8080/"
        },
        "id": "TAsjBKBMxSx6",
        "outputId": "6d97b715-899c-4569-8f1e-120064671edb"
      },
      "source": [
        "%%time\n",
        "from lightgbm import LGBMRegressor\n",
        "lgbm_model = LGBMRegressor()\n",
        "lgbm_model.fit(X_train_sparse, y_train)"
      ],
      "execution_count": null,
      "outputs": [
        {
          "output_type": "stream",
          "text": [
            "CPU times: user 504 ms, sys: 17.6 ms, total: 522 ms\n",
            "Wall time: 324 ms\n"
          ],
          "name": "stdout"
        }
      ]
    },
    {
      "cell_type": "code",
      "metadata": {
        "colab": {
          "base_uri": "https://localhost:8080/"
        },
        "id": "BFHvkKm-xk12",
        "outputId": "5f0d29dc-52a2-4fad-c55e-e7763454e4b6"
      },
      "source": [
        "y_train_predict=lgbm_model.predict(X_train_sparse)\n",
        "from sklearn.metrics import r2_score\n",
        "r2_score(y_train_predict,y_train)"
      ],
      "execution_count": null,
      "outputs": [
        {
          "output_type": "execute_result",
          "data": {
            "text/plain": [
              "0.868801945675416"
            ]
          },
          "metadata": {
            "tags": []
          },
          "execution_count": 84
        }
      ]
    },
    {
      "cell_type": "code",
      "metadata": {
        "colab": {
          "base_uri": "https://localhost:8080/"
        },
        "id": "vXKpDzstxrTD",
        "outputId": "ddb8d462-d859-4361-c245-c67c1bea5550"
      },
      "source": [
        "y_test_predict=lgbm_model.predict(X_test_sparse)\n",
        "from sklearn.metrics import r2_score\n",
        "r2_score(y_test_predict,y_test)"
      ],
      "execution_count": null,
      "outputs": [
        {
          "output_type": "execute_result",
          "data": {
            "text/plain": [
              "0.7926857747345595"
            ]
          },
          "metadata": {
            "tags": []
          },
          "execution_count": 85
        }
      ]
    },
    {
      "cell_type": "code",
      "metadata": {
        "colab": {
          "base_uri": "https://localhost:8080/"
        },
        "id": "7SAT5NoHxxob",
        "outputId": "85a86728-5347-49b9-adb4-b09e3960bbea"
      },
      "source": [
        "from sklearn.metrics import mean_squared_log_error\n",
        "mean_squared_log_error(y_train_predict,y_train)\n"
      ],
      "execution_count": null,
      "outputs": [
        {
          "output_type": "execute_result",
          "data": {
            "text/plain": [
              "0.024682526691311487"
            ]
          },
          "metadata": {
            "tags": []
          },
          "execution_count": 86
        }
      ]
    },
    {
      "cell_type": "code",
      "metadata": {
        "colab": {
          "base_uri": "https://localhost:8080/"
        },
        "id": "Apr8tr4TzNZo",
        "outputId": "97ed0eb8-cfbe-4adc-d144-5ac7f47c716e"
      },
      "source": [
        "mean_squared_log_error(y_test_predict,y_test)"
      ],
      "execution_count": null,
      "outputs": [
        {
          "output_type": "execute_result",
          "data": {
            "text/plain": [
              "0.03400502425069083"
            ]
          },
          "metadata": {
            "tags": []
          },
          "execution_count": 87
        }
      ]
    },
    {
      "cell_type": "markdown",
      "metadata": {
        "id": "jb9qeDiPEWan"
      },
      "source": [
        "Hyperparameter optimised model identification"
      ]
    },
    {
      "cell_type": "code",
      "metadata": {
        "id": "PiP7FEcw1Ui1"
      },
      "source": [
        " adj_params = {'n_estimators': range(10, 400, 10),\n",
        "                 'min_child_weight': range(3, 20, 2),\n",
        "                 'colsample_bytree': np.arange(0.4, 1.0),\n",
        "                 'max_depth': range(3, 15, 2),\n",
        "                 'subsample': np.arange(0.5, 1.0, 0.1),\n",
        "                 'reg_lambda': np.arange(0.1, 1.0, 0.2),\n",
        "                 'reg_alpha': np.arange(0.1, 1.0, 0.2),\n",
        "                 'min_child_samples': range(10, 30)}\n"
      ],
      "execution_count": null,
      "outputs": []
    },
    {
      "cell_type": "code",
      "metadata": {
        "colab": {
          "base_uri": "https://localhost:8080/"
        },
        "id": "YFnkzpn10vbU",
        "outputId": "07e7d6bf-abca-412d-b7cc-6ff496e8434f"
      },
      "source": [
        "from sklearn.model_selection import  RandomizedSearchCV\n",
        "\n",
        "lgbm_model=LGBMRegressor()\n",
        "lgbm_random = RandomizedSearchCV(estimator = lgbm_model, param_distributions = adj_params, n_iter = 100, cv = 3, verbose=2, random_state=42, n_jobs = -1,scoring='neg_mean_squared_log_error')\n",
        "# Fit the random search model\n",
        "lgbm_random.fit(X_train_sparse, y_train)"
      ],
      "execution_count": null,
      "outputs": [
        {
          "output_type": "stream",
          "text": [
            "Fitting 3 folds for each of 100 candidates, totalling 300 fits\n"
          ],
          "name": "stdout"
        },
        {
          "output_type": "stream",
          "text": [
            "[Parallel(n_jobs=-1)]: Using backend LokyBackend with 2 concurrent workers.\n",
            "[Parallel(n_jobs=-1)]: Done  37 tasks      | elapsed:    9.6s\n",
            "[Parallel(n_jobs=-1)]: Done 158 tasks      | elapsed:   33.4s\n",
            "[Parallel(n_jobs=-1)]: Done 300 out of 300 | elapsed:  1.0min finished\n"
          ],
          "name": "stderr"
        },
        {
          "output_type": "execute_result",
          "data": {
            "text/plain": [
              "RandomizedSearchCV(cv=3, error_score=nan,\n",
              "                   estimator=LGBMRegressor(boosting_type='gbdt',\n",
              "                                           class_weight=None,\n",
              "                                           colsample_bytree=1.0,\n",
              "                                           importance_type='split',\n",
              "                                           learning_rate=0.1, max_depth=-1,\n",
              "                                           min_child_samples=20,\n",
              "                                           min_child_weight=0.001,\n",
              "                                           min_split_gain=0.0, n_estimators=100,\n",
              "                                           n_jobs=-1, num_leaves=31,\n",
              "                                           objective=None, random_state=None,\n",
              "                                           reg_alpha=0.0, reg_lambda=0.0,\n",
              "                                           silen...\n",
              "                                        'max_depth': range(3, 15, 2),\n",
              "                                        'min_child_samples': range(10, 30),\n",
              "                                        'min_child_weight': range(3, 20, 2),\n",
              "                                        'n_estimators': range(10, 400, 10),\n",
              "                                        'reg_alpha': array([0.1, 0.3, 0.5, 0.7, 0.9]),\n",
              "                                        'reg_lambda': array([0.1, 0.3, 0.5, 0.7, 0.9]),\n",
              "                                        'subsample': array([0.5, 0.6, 0.7, 0.8, 0.9])},\n",
              "                   pre_dispatch='2*n_jobs', random_state=42, refit=True,\n",
              "                   return_train_score=False,\n",
              "                   scoring='neg_mean_squared_log_error', verbose=2)"
            ]
          },
          "metadata": {
            "tags": []
          },
          "execution_count": 89
        }
      ]
    },
    {
      "cell_type": "code",
      "metadata": {
        "colab": {
          "base_uri": "https://localhost:8080/"
        },
        "id": "tJnv5Vg31ePb",
        "outputId": "f88132b4-a37b-4521-ba93-e6e974bd55cd"
      },
      "source": [
        "y_train_predict=lgbm_random.predict(X_train_sparse)\n",
        "from sklearn.metrics import r2_score\n",
        "r2_score(y_train_predict,y_train)"
      ],
      "execution_count": null,
      "outputs": [
        {
          "output_type": "execute_result",
          "data": {
            "text/plain": [
              "0.9088768432570579"
            ]
          },
          "metadata": {
            "tags": []
          },
          "execution_count": 90
        }
      ]
    },
    {
      "cell_type": "code",
      "metadata": {
        "colab": {
          "base_uri": "https://localhost:8080/",
          "height": 306
        },
        "id": "01m48xVsadAz",
        "outputId": "26ce8153-ccc6-49d1-9d52-225702c7affb"
      },
      "source": [
        "plt.scatter(y_train_predict,y_train)"
      ],
      "execution_count": null,
      "outputs": [
        {
          "output_type": "execute_result",
          "data": {
            "text/plain": [
              "<matplotlib.collections.PathCollection at 0x7ffae9576ed0>"
            ]
          },
          "metadata": {
            "tags": []
          },
          "execution_count": 91
        },
        {
          "output_type": "display_data",
          "data": {
            "image/png": "[encoded data removed]",
            "text/plain": [
              "<Figure size 432x288 with 1 Axes>"
            ]
          },
          "metadata": {
            "tags": [],
            "needs_background": "light"
          }
        }
      ]
    },
    {
      "cell_type": "code",
      "metadata": {
        "colab": {
          "base_uri": "https://localhost:8080/"
        },
        "id": "Z9yBFmlI1sLy",
        "outputId": "d245166a-2aad-4986-de38-7d171372e134"
      },
      "source": [
        "y_test_predict=lgbm_random.predict(X_test_sparse)\n",
        "from sklearn.metrics import r2_score\n",
        "r2_score(y_test_predict,y_test)"
      ],
      "execution_count": null,
      "outputs": [
        {
          "output_type": "execute_result",
          "data": {
            "text/plain": [
              "0.8049475697503877"
            ]
          },
          "metadata": {
            "tags": []
          },
          "execution_count": 92
        }
      ]
    },
    {
      "cell_type": "code",
      "metadata": {
        "id": "MqK2WuDX8GqL",
        "colab": {
          "base_uri": "https://localhost:8080/",
          "height": 306
        },
        "outputId": "c50947f2-15f4-442f-db76-53aa3bf21a34"
      },
      "source": [
        "plt.scatter(y_test_predict,y_test)"
      ],
      "execution_count": null,
      "outputs": [
        {
          "output_type": "execute_result",
          "data": {
            "text/plain": [
              "<matplotlib.collections.PathCollection at 0x7ffae95769d0>"
            ]
          },
          "metadata": {
            "tags": []
          },
          "execution_count": 93
        },
        {
          "output_type": "display_data",
          "data": {
            "image/png": "[encoded data removed]",
            "text/plain": [
              "<Figure size 432x288 with 1 Axes>"
            ]
          },
          "metadata": {
            "tags": [],
            "needs_background": "light"
          }
        }
      ]
    },
    {
      "cell_type": "markdown",
      "metadata": {
        "id": "476eBWTXEg-L"
      },
      "source": [
        "Making feature importance dataframe and plotting"
      ]
    },
    {
      "cell_type": "code",
      "metadata": {
        "id": "p1uNQa90NYfv"
      },
      "source": [
        "feature_imp_df=[]\n",
        "for name, score in zip(get_ct_feature_names(full_pipeline), lgbm_random.best_estimator_.feature_importances_):\n",
        "  d={'name':name,'score':score}\n",
        "  feature_imp_df.append(d)\n",
        "\n",
        "feature_imp_df=pd.DataFrame(feature_imp_df)\n",
        "feature_imp_df=feature_imp_df.sort_values(by='score',ascending=False)"
      ],
      "execution_count": null,
      "outputs": []
    },
    {
      "cell_type": "code",
      "metadata": {
        "colab": {
          "base_uri": "https://localhost:8080/",
          "height": 472
        },
        "id": "07MAKmGq1xSx",
        "outputId": "9d18937e-034e-46eb-c7dd-49bf4465abe7"
      },
      "source": [
        "feature_imp_df.round(3)[:15].set_index('name').plot.bar()"
      ],
      "execution_count": null,
      "outputs": [
        {
          "output_type": "execute_result",
          "data": {
            "text/plain": [
              "<matplotlib.axes._subplots.AxesSubplot at 0x7ffae85597d0>"
            ]
          },
          "metadata": {
            "tags": []
          },
          "execution_count": 95
        },
        {
          "output_type": "display_data",
          "data": {
            "image/png": "[encoded data removed]",
            "text/plain": [
              "<Figure size 432x288 with 1 Axes>"
            ]
          },
          "metadata": {
            "tags": [],
            "needs_background": "light"
          }
        }
      ]
    },
    {
      "cell_type": "markdown",
      "metadata": {
        "id": "lo4YquG2XZkM"
      },
      "source": [
        "#### Saving the pipeline and machine learning model"
      ]
    },
    {
      "cell_type": "code",
      "metadata": {
        "id": "MuC4YI70XVbN"
      },
      "source": [
        "import pickle"
      ],
      "execution_count": null,
      "outputs": []
    },
    {
      "cell_type": "code",
      "metadata": {
        "id": "1bJOlRWGNKF7"
      },
      "source": [
        "#saving the model\n",
        "filename = 'lgbm_regressor.sav'\n",
        "pickle.dump(lgbm_random.best_estimator_, open(filename, 'wb'))"
      ],
      "execution_count": null,
      "outputs": []
    },
    {
      "cell_type": "code",
      "metadata": {
        "id": "Mk_1tyPUfchr"
      },
      "source": [
        "#saving the preprocessing pipeline\n",
        "pipeline_fileName = 'pipeline.sav'\n",
        "pickle.dump(full_pipeline, open(pipeline_fileName, 'wb'))"
      ],
      "execution_count": null,
      "outputs": []
    },
    {
      "cell_type": "markdown",
      "metadata": {
        "id": "fi5iGwZiSeV_"
      },
      "source": [
        "## (Try) Weighted Average Ensemble technique"
      ]
    },
    {
      "cell_type": "code",
      "metadata": {
        "id": "_b6PL-DXShVe"
      },
      "source": [
        "model1=rf_random.best_estimator_\n",
        "model2=lgbm_random.best_estimator_"
      ],
      "execution_count": null,
      "outputs": []
    },
    {
      "cell_type": "code",
      "metadata": {
        "id": "bLNXLs3gSsgr"
      },
      "source": [
        "def weighted_average_model_fit(model1,model2,X):\n",
        "  y_predict_1=model1.predict(X)\n",
        "  y_predict_2=model2.predict(X)\n",
        "  y_predict=((0.1*y_predict_1+0.9*y_predict_2))\n",
        "  return y_predict"
      ],
      "execution_count": null,
      "outputs": []
    },
    {
      "cell_type": "code",
      "metadata": {
        "id": "LvTOdCTAToDz"
      },
      "source": [
        "y_pred=weighted_average_model_fit(model1,model2,X_train_sparse)"
      ],
      "execution_count": null,
      "outputs": []
    },
    {
      "cell_type": "code",
      "metadata": {
        "colab": {
          "base_uri": "https://localhost:8080/"
        },
        "id": "exPbfoX2TxUS",
        "outputId": "68ac727c-4bed-4442-9c86-9c7ca2828658"
      },
      "source": [
        "y_train_predict=weighted_average_model_fit(model1,model2,X_train_sparse)\n",
        "from sklearn.metrics import r2_score\n",
        "r2_score(y_train_predict,y_train)"
      ],
      "execution_count": null,
      "outputs": [
        {
          "output_type": "execute_result",
          "data": {
            "text/plain": [
              "0.9114026231559271"
            ]
          },
          "metadata": {
            "tags": []
          },
          "execution_count": 278
        }
      ]
    },
    {
      "cell_type": "code",
      "metadata": {
        "colab": {
          "base_uri": "https://localhost:8080/"
        },
        "id": "wjsXOOj_UCri",
        "outputId": "ef8e43a6-8d67-4fdd-d0ac-677b195f8b62"
      },
      "source": [
        "y_test_predict=weighted_average_model_fit(model1,model2,X_test_sparse)\n",
        "from sklearn.metrics import r2_score\n",
        "r2_score(y_test_predict,y_test)"
      ],
      "execution_count": null,
      "outputs": [
        {
          "output_type": "execute_result",
          "data": {
            "text/plain": [
              "0.8049557551851781"
            ]
          },
          "metadata": {
            "tags": []
          },
          "execution_count": 279
        }
      ]
    },
    {
      "cell_type": "code",
      "metadata": {
        "id": "mH5UrmpBUJIx"
      },
      "source": [
        ""
      ],
      "execution_count": null,
      "outputs": []
    },
    {
      "cell_type": "markdown",
      "metadata": {
        "id": "0_PmwmagX-z5"
      },
      "source": [
        "# Model Web UI"
      ]
    },
    {
      "cell_type": "code",
      "metadata": {
        "id": "kCi6R0ZoYDQk"
      },
      "source": [
        "import pickle\n",
        "#Loading the saved lgbm model\n",
        "filename = 'lgbm_regressor.sav'\n",
        "loaded_model = pickle.load(open(filename, 'rb'))"
      ],
      "execution_count": null,
      "outputs": []
    },
    {
      "cell_type": "code",
      "metadata": {
        "id": "k_VFb2Ocf-Oq"
      },
      "source": [
        "#Loading the pipeline for preprocessing\n",
        "pipeline_fileName = 'pipeline.sav'\n",
        "loaded_pipeline = pickle.load(open(pipeline_fileName, 'rb'))"
      ],
      "execution_count": null,
      "outputs": []
    },
    {
      "cell_type": "code",
      "metadata": {
        "id": "Wy-UDJivYGpQ"
      },
      "source": [
        "#Using gradile for interface"
      ],
      "execution_count": null,
      "outputs": []
    },
    {
      "cell_type": "code",
      "metadata": {
        "id": "ljSTrA0LgT8D",
        "colab": {
          "base_uri": "https://localhost:8080/"
        },
        "outputId": "46f018a6-ee25-4275-b4f5-e36b06bd62f7"
      },
      "source": [
        "get_ct_feature_names(loaded_pipeline)"
      ],
      "execution_count": null,
      "outputs": [
        {
          "output_type": "execute_result",
          "data": {
            "text/plain": [
              "['Rooms',\n",
              " 'Distance',\n",
              " 'Bathroom',\n",
              " 'Car',\n",
              " 'Landsize',\n",
              " 'Lattitude',\n",
              " 'Longtitude',\n",
              " 'Propertycount',\n",
              " 'day',\n",
              " 'month',\n",
              " 'year',\n",
              " 'Type_h',\n",
              " 'Type_t',\n",
              " 'Type_u',\n",
              " 'Method_PI',\n",
              " 'Method_S',\n",
              " 'Method_SA',\n",
              " 'Method_SP',\n",
              " 'Method_VB',\n",
              " 'CouncilArea_Banyule City Council',\n",
              " 'CouncilArea_Bayside City Council',\n",
              " 'CouncilArea_Boroondara City Council',\n",
              " 'CouncilArea_Brimbank City Council',\n",
              " 'CouncilArea_Darebin City Council',\n",
              " 'CouncilArea_Glen Eira City Council',\n",
              " 'CouncilArea_Greater Dandenong City Council',\n",
              " 'CouncilArea_Hobsons Bay City Council',\n",
              " 'CouncilArea_Hume City Council',\n",
              " 'CouncilArea_Kingston City Council',\n",
              " 'CouncilArea_Knox City Council',\n",
              " 'CouncilArea_Manningham City Council',\n",
              " 'CouncilArea_Maribyrnong City Council',\n",
              " 'CouncilArea_Maroondah City Council',\n",
              " 'CouncilArea_Melbourne City Council',\n",
              " 'CouncilArea_Melton City Council',\n",
              " 'CouncilArea_Monash City Council',\n",
              " 'CouncilArea_Moonee Valley City Council',\n",
              " 'CouncilArea_Moreland City Council',\n",
              " 'CouncilArea_Port Phillip City Council',\n",
              " 'CouncilArea_Stonnington City Council',\n",
              " 'CouncilArea_Whitehorse City Council',\n",
              " 'CouncilArea_Whittlesea City Council',\n",
              " 'CouncilArea_Wyndham City Council',\n",
              " 'CouncilArea_Yarra City Council',\n",
              " 'Regionname_Eastern Metropolitan',\n",
              " 'Regionname_Northern Metropolitan',\n",
              " 'Regionname_South-Eastern Metropolitan',\n",
              " 'Regionname_Southern Metropolitan',\n",
              " 'Regionname_Western Metropolitan']"
            ]
          },
          "metadata": {
            "tags": []
          },
          "execution_count": 102
        }
      ]
    },
    {
      "cell_type": "code",
      "metadata": {
        "colab": {
          "base_uri": "https://localhost:8080/"
        },
        "id": "6Z90AmX8jU1E",
        "outputId": "a10e69da-eb1c-47ef-e633-710d15b048df"
      },
      "source": [
        "#Installing gradio package (one time)\n",
        "!pip install gradio"
      ],
      "execution_count": null,
      "outputs": [
        {
          "output_type": "stream",
          "text": [
            "Collecting gradio\n",
            "\u001b[?25l  Downloading https://files.pythonhosted.org/packages/5d/4d/281e277907960aae910d45d82241bb7da167f1502e1d7b8491e285048410/gradio-2.0.8-py3-none-any.whl (1.6MB)\n",
            "\u001b[K     |████████████████████████████████| 1.6MB 5.5MB/s \n",
            "\u001b[?25hCollecting paramiko\n",
            "\u001b[?25l  Downloading https://files.pythonhosted.org/packages/95/19/124e9287b43e6ff3ebb9cdea3e5e8e88475a873c05ccdf8b7e20d2c4201e/paramiko-2.7.2-py2.py3-none-any.whl (206kB)\n",
            "\u001b[K     |████████████████████████████████| 215kB 22.3MB/s \n",
            "\u001b[?25hCollecting markdown2\n",
            "  Downloading https://files.pythonhosted.org/packages/5d/be/3924cc1c0e12030b5225de2b4521f1dc729730773861475de26be64a0d2b/markdown2-2.4.0-py2.py3-none-any.whl\n",
            "Collecting Flask-Login\n",
            "  Downloading https://files.pythonhosted.org/packages/2b/83/ac5bf3279f969704fc1e63f050c50e10985e50fd340e6069ec7e09df5442/Flask_Login-0.5.0-py2.py3-none-any.whl\n",
            "Requirement already satisfied: pandas in /usr/local/lib/python3.7/dist-packages (from gradio) (1.1.5)\n",
            "Collecting pycryptodome\n",
            "\u001b[?25l  Downloading https://files.pythonhosted.org/packages/ad/16/9627ab0493894a11c68e46000dbcc82f578c8ff06bc2980dcd016aea9bd3/pycryptodome-3.10.1-cp35-abi3-manylinux2010_x86_64.whl (1.9MB)\n",
            "\u001b[K     |████████████████████████████████| 1.9MB 22.7MB/s \n",
            "\u001b[?25hCollecting ffmpy\n",
            "  Downloading https://files.pythonhosted.org/packages/bf/e2/947df4b3d666bfdd2b0c6355d215c45d2d40f929451cb29a8a2995b29788/ffmpy-0.3.0.tar.gz\n",
            "Requirement already satisfied: pillow in /usr/local/lib/python3.7/dist-packages (from gradio) (7.1.2)\n",
            "Requirement already satisfied: requests in /usr/local/lib/python3.7/dist-packages (from gradio) (2.23.0)\n",
            "Collecting flask-cachebuster\n",
            "  Downloading https://files.pythonhosted.org/packages/74/47/f3e1fedfaad965c81c2f17234636d72f71450f1b4522ca26d2b7eb4a0a74/Flask-CacheBuster-1.0.0.tar.gz\n",
            "Collecting analytics-python\n",
            "  Downloading https://files.pythonhosted.org/packages/30/81/2f447982f8d5dec5b56c10ca9ac53e5de2b2e9e2bdf7e091a05731f21379/analytics_python-1.3.1-py2.py3-none-any.whl\n",
            "Requirement already satisfied: scipy in /usr/local/lib/python3.7/dist-packages (from gradio) (1.4.1)\n",
            "Collecting Flask-Cors>=3.0.8\n",
            "  Downloading https://files.pythonhosted.org/packages/db/84/901e700de86604b1c4ef4b57110d4e947c218b9997adf5d38fa7da493bce/Flask_Cors-3.0.10-py2.py3-none-any.whl\n",
            "Requirement already satisfied: numpy in /usr/local/lib/python3.7/dist-packages (from gradio) (1.19.5)\n",
            "Requirement already satisfied: Flask>=1.1.1 in /usr/local/lib/python3.7/dist-packages (from gradio) (1.1.4)\n",
            "Requirement already satisfied: matplotlib in /usr/local/lib/python3.7/dist-packages (from gradio) (3.2.2)\n",
            "Collecting cryptography>=2.5\n",
            "\u001b[?25l  Downloading https://files.pythonhosted.org/packages/b2/26/7af637e6a7e87258b963f1731c5982fb31cd507f0d90d91836e446955d02/cryptography-3.4.7-cp36-abi3-manylinux2014_x86_64.whl (3.2MB)\n",
            "\u001b[K     |████████████████████████████████| 3.2MB 43.4MB/s \n",
            "\u001b[?25hCollecting pynacl>=1.0.1\n",
            "\u001b[?25l  Downloading https://files.pythonhosted.org/packages/9d/57/2f5e6226a674b2bcb6db531e8b383079b678df5b10cdaa610d6cf20d77ba/PyNaCl-1.4.0-cp35-abi3-manylinux1_x86_64.whl (961kB)\n",
            "\u001b[K     |████████████████████████████████| 962kB 40.0MB/s \n",
            "\u001b[?25hCollecting bcrypt>=3.1.3\n",
            "\u001b[?25l  Downloading https://files.pythonhosted.org/packages/26/70/6d218afbe4c73538053c1016dd631e8f25fffc10cd01f5c272d7acf3c03d/bcrypt-3.2.0-cp36-abi3-manylinux2010_x86_64.whl (63kB)\n",
            "\u001b[K     |████████████████████████████████| 71kB 8.0MB/s \n",
            "\u001b[?25hRequirement already satisfied: python-dateutil>=2.7.3 in /usr/local/lib/python3.7/dist-packages (from pandas->gradio) (2.8.1)\n",
            "Requirement already satisfied: pytz>=2017.2 in /usr/local/lib/python3.7/dist-packages (from pandas->gradio) (2018.9)\n",
            "Requirement already satisfied: idna<3,>=2.5 in /usr/local/lib/python3.7/dist-packages (from requests->gradio) (2.10)\n",
            "Requirement already satisfied: urllib3!=1.25.0,!=1.25.1,<1.26,>=1.21.1 in /usr/local/lib/python3.7/dist-packages (from requests->gradio) (1.24.3)\n",
            "Requirement already satisfied: certifi>=2017.4.17 in /usr/local/lib/python3.7/dist-packages (from requests->gradio) (2021.5.30)\n",
            "Requirement already satisfied: chardet<4,>=3.0.2 in /usr/local/lib/python3.7/dist-packages (from requests->gradio) (3.0.4)\n",
            "Requirement already satisfied: six>=1.5 in /usr/local/lib/python3.7/dist-packages (from analytics-python->gradio) (1.15.0)\n",
            "Collecting monotonic>=1.5\n",
            "  Downloading https://files.pythonhosted.org/packages/9a/67/7e8406a29b6c45be7af7740456f7f37025f0506ae2e05fb9009a53946860/monotonic-1.6-py2.py3-none-any.whl\n",
            "Collecting backoff==1.10.0\n",
            "  Downloading https://files.pythonhosted.org/packages/f0/32/c5dd4f4b0746e9ec05ace2a5045c1fc375ae67ee94355344ad6c7005fd87/backoff-1.10.0-py2.py3-none-any.whl\n",
            "Requirement already satisfied: itsdangerous<2.0,>=0.24 in /usr/local/lib/python3.7/dist-packages (from Flask>=1.1.1->gradio) (1.1.0)\n",
            "Requirement already satisfied: Jinja2<3.0,>=2.10.1 in /usr/local/lib/python3.7/dist-packages (from Flask>=1.1.1->gradio) (2.11.3)\n",
            "Requirement already satisfied: click<8.0,>=5.1 in /usr/local/lib/python3.7/dist-packages (from Flask>=1.1.1->gradio) (7.1.2)\n",
            "Requirement already satisfied: Werkzeug<2.0,>=0.15 in /usr/local/lib/python3.7/dist-packages (from Flask>=1.1.1->gradio) (1.0.1)\n",
            "Requirement already satisfied: pyparsing!=2.0.4,!=2.1.2,!=2.1.6,>=2.0.1 in /usr/local/lib/python3.7/dist-packages (from matplotlib->gradio) (2.4.7)\n",
            "Requirement already satisfied: cycler>=0.10 in /usr/local/lib/python3.7/dist-packages (from matplotlib->gradio) (0.10.0)\n",
            "Requirement already satisfied: kiwisolver>=1.0.1 in /usr/local/lib/python3.7/dist-packages (from matplotlib->gradio) (1.3.1)\n",
            "Requirement already satisfied: cffi>=1.12 in /usr/local/lib/python3.7/dist-packages (from cryptography>=2.5->paramiko->gradio) (1.14.5)\n",
            "Requirement already satisfied: MarkupSafe>=0.23 in /usr/local/lib/python3.7/dist-packages (from Jinja2<3.0,>=2.10.1->Flask>=1.1.1->gradio) (2.0.1)\n",
            "Requirement already satisfied: pycparser in /usr/local/lib/python3.7/dist-packages (from cffi>=1.12->cryptography>=2.5->paramiko->gradio) (2.20)\n",
            "Building wheels for collected packages: ffmpy, flask-cachebuster\n",
            "  Building wheel for ffmpy (setup.py) ... \u001b[?25l\u001b[?25hdone\n",
            "  Created wheel for ffmpy: filename=ffmpy-0.3.0-cp37-none-any.whl size=4710 sha256=daf599193f805d6ccf4c4604320aab2dc8b203b3dbd8f80cf5be55d25ad44a7a\n",
            "  Stored in directory: /root/.cache/pip/wheels/cc/ac/c4/bef572cb7e52bfca170046f567e64858632daf77e0f34e5a74\n",
            "  Building wheel for flask-cachebuster (setup.py) ... \u001b[?25l\u001b[?25hdone\n",
            "  Created wheel for flask-cachebuster: filename=Flask_CacheBuster-1.0.0-cp37-none-any.whl size=3372 sha256=a9cbefc680c7d8857419e345b0ccc9d6deaa5282548b735d7ba4e4e9f10fd90c\n",
            "  Stored in directory: /root/.cache/pip/wheels/9f/fc/a7/ab5712c3ace9a8f97276465cc2937316ab8063c1fea488ea77\n",
            "Successfully built ffmpy flask-cachebuster\n",
            "Installing collected packages: cryptography, pynacl, bcrypt, paramiko, markdown2, Flask-Login, pycryptodome, ffmpy, flask-cachebuster, monotonic, backoff, analytics-python, Flask-Cors, gradio\n",
            "Successfully installed Flask-Cors-3.0.10 Flask-Login-0.5.0 analytics-python-1.3.1 backoff-1.10.0 bcrypt-3.2.0 cryptography-3.4.7 ffmpy-0.3.0 flask-cachebuster-1.0.0 gradio-2.0.8 markdown2-2.4.0 monotonic-1.6 paramiko-2.7.2 pycryptodome-3.10.1 pynacl-1.4.0\n"
          ],
          "name": "stdout"
        }
      ]
    },
    {
      "cell_type": "markdown",
      "metadata": {
        "id": "m5fEXJ7EGOJE"
      },
      "source": [
        "From the below dataframe: index 4962,12528,8359,14210 are shown as examples in Gradio"
      ]
    },
    {
      "cell_type": "code",
      "metadata": {
        "colab": {
          "base_uri": "https://localhost:8080/",
          "height": 609
        },
        "id": "WzQTgwk8E2kQ",
        "outputId": "f7c04b70-6415-4be5-fbf6-b08f8dee9311"
      },
      "source": [
        "X_test"
      ],
      "execution_count": null,
      "outputs": [
        {
          "output_type": "execute_result",
          "data": {
            "text/html": [
              "<div>\n",
              "<style scoped>\n",
              "    .dataframe tbody tr th:only-of-type {\n",
              "        vertical-align: middle;\n",
              "    }\n",
              "\n",
              "    .dataframe tbody tr th {\n",
              "        vertical-align: top;\n",
              "    }\n",
              "\n",
              "    .dataframe thead th {\n",
              "        text-align: right;\n",
              "    }\n",
              "</style>\n",
              "<table border=\"1\" class=\"dataframe\">\n",
              "  <thead>\n",
              "    <tr style=\"text-align: right;\">\n",
              "      <th></th>\n",
              "      <th>Rooms</th>\n",
              "      <th>Type</th>\n",
              "      <th>Method</th>\n",
              "      <th>Distance</th>\n",
              "      <th>Bathroom</th>\n",
              "      <th>Car</th>\n",
              "      <th>Landsize</th>\n",
              "      <th>CouncilArea</th>\n",
              "      <th>Lattitude</th>\n",
              "      <th>Longtitude</th>\n",
              "      <th>Regionname</th>\n",
              "      <th>Propertycount</th>\n",
              "      <th>day</th>\n",
              "      <th>month</th>\n",
              "      <th>year</th>\n",
              "    </tr>\n",
              "  </thead>\n",
              "  <tbody>\n",
              "    <tr>\n",
              "      <th>4962</th>\n",
              "      <td>3</td>\n",
              "      <td>h</td>\n",
              "      <td>S</td>\n",
              "      <td>2.6</td>\n",
              "      <td>2.0</td>\n",
              "      <td>1.0</td>\n",
              "      <td>312.0</td>\n",
              "      <td>Yarra City Council</td>\n",
              "      <td>-37.82170</td>\n",
              "      <td>145.00700</td>\n",
              "      <td>Northern Metropolitan</td>\n",
              "      <td>14949.0</td>\n",
              "      <td>23</td>\n",
              "      <td>4</td>\n",
              "      <td>2016</td>\n",
              "    </tr>\n",
              "    <tr>\n",
              "      <th>10811</th>\n",
              "      <td>2</td>\n",
              "      <td>u</td>\n",
              "      <td>S</td>\n",
              "      <td>3.6</td>\n",
              "      <td>1.0</td>\n",
              "      <td>1.0</td>\n",
              "      <td>0.0</td>\n",
              "      <td>Yarra City Council</td>\n",
              "      <td>-37.78791</td>\n",
              "      <td>145.00588</td>\n",
              "      <td>Northern Metropolitan</td>\n",
              "      <td>2954.0</td>\n",
              "      <td>29</td>\n",
              "      <td>7</td>\n",
              "      <td>2017</td>\n",
              "    </tr>\n",
              "    <tr>\n",
              "      <th>12528</th>\n",
              "      <td>3</td>\n",
              "      <td>h</td>\n",
              "      <td>S</td>\n",
              "      <td>16.3</td>\n",
              "      <td>1.0</td>\n",
              "      <td>4.0</td>\n",
              "      <td>545.0</td>\n",
              "      <td>Whittlesea City Council</td>\n",
              "      <td>-37.66246</td>\n",
              "      <td>145.03292</td>\n",
              "      <td>Northern Metropolitan</td>\n",
              "      <td>8279.0</td>\n",
              "      <td>21</td>\n",
              "      <td>10</td>\n",
              "      <td>2017</td>\n",
              "    </tr>\n",
              "    <tr>\n",
              "      <th>8359</th>\n",
              "      <td>3</td>\n",
              "      <td>h</td>\n",
              "      <td>S</td>\n",
              "      <td>10.5</td>\n",
              "      <td>2.0</td>\n",
              "      <td>1.0</td>\n",
              "      <td>385.0</td>\n",
              "      <td>Bayside City Council</td>\n",
              "      <td>-37.91068</td>\n",
              "      <td>145.00394</td>\n",
              "      <td>Southern Metropolitan</td>\n",
              "      <td>10579.0</td>\n",
              "      <td>6</td>\n",
              "      <td>3</td>\n",
              "      <td>2017</td>\n",
              "    </tr>\n",
              "    <tr>\n",
              "      <th>1022</th>\n",
              "      <td>2</td>\n",
              "      <td>u</td>\n",
              "      <td>S</td>\n",
              "      <td>11.2</td>\n",
              "      <td>1.0</td>\n",
              "      <td>1.0</td>\n",
              "      <td>0.0</td>\n",
              "      <td>Bayside City Council</td>\n",
              "      <td>-37.90970</td>\n",
              "      <td>144.99140</td>\n",
              "      <td>Southern Metropolitan</td>\n",
              "      <td>10579.0</td>\n",
              "      <td>11</td>\n",
              "      <td>12</td>\n",
              "      <td>2016</td>\n",
              "    </tr>\n",
              "    <tr>\n",
              "      <th>...</th>\n",
              "      <td>...</td>\n",
              "      <td>...</td>\n",
              "      <td>...</td>\n",
              "      <td>...</td>\n",
              "      <td>...</td>\n",
              "      <td>...</td>\n",
              "      <td>...</td>\n",
              "      <td>...</td>\n",
              "      <td>...</td>\n",
              "      <td>...</td>\n",
              "      <td>...</td>\n",
              "      <td>...</td>\n",
              "      <td>...</td>\n",
              "      <td>...</td>\n",
              "      <td>...</td>\n",
              "    </tr>\n",
              "    <tr>\n",
              "      <th>15115</th>\n",
              "      <td>3</td>\n",
              "      <td>h</td>\n",
              "      <td>S</td>\n",
              "      <td>6.7</td>\n",
              "      <td>1.0</td>\n",
              "      <td>2.0</td>\n",
              "      <td>375.0</td>\n",
              "      <td>Darebin City Council</td>\n",
              "      <td>-37.75339</td>\n",
              "      <td>144.97687</td>\n",
              "      <td>Northern Metropolitan</td>\n",
              "      <td>11204.0</td>\n",
              "      <td>24</td>\n",
              "      <td>2</td>\n",
              "      <td>2018</td>\n",
              "    </tr>\n",
              "    <tr>\n",
              "      <th>1941</th>\n",
              "      <td>2</td>\n",
              "      <td>h</td>\n",
              "      <td>SP</td>\n",
              "      <td>9.2</td>\n",
              "      <td>1.0</td>\n",
              "      <td>3.0</td>\n",
              "      <td>526.0</td>\n",
              "      <td>Darebin City Council</td>\n",
              "      <td>-37.73200</td>\n",
              "      <td>144.98320</td>\n",
              "      <td>Northern Metropolitan</td>\n",
              "      <td>3445.0</td>\n",
              "      <td>12</td>\n",
              "      <td>10</td>\n",
              "      <td>2016</td>\n",
              "    </tr>\n",
              "    <tr>\n",
              "      <th>6335</th>\n",
              "      <td>3</td>\n",
              "      <td>u</td>\n",
              "      <td>PI</td>\n",
              "      <td>1.8</td>\n",
              "      <td>2.0</td>\n",
              "      <td>1.0</td>\n",
              "      <td>0.0</td>\n",
              "      <td>Melbourne City Council</td>\n",
              "      <td>-37.80520</td>\n",
              "      <td>144.96040</td>\n",
              "      <td>Northern Metropolitan</td>\n",
              "      <td>6786.0</td>\n",
              "      <td>6</td>\n",
              "      <td>4</td>\n",
              "      <td>2016</td>\n",
              "    </tr>\n",
              "    <tr>\n",
              "      <th>1091</th>\n",
              "      <td>2</td>\n",
              "      <td>h</td>\n",
              "      <td>S</td>\n",
              "      <td>10.7</td>\n",
              "      <td>1.0</td>\n",
              "      <td>1.0</td>\n",
              "      <td>649.0</td>\n",
              "      <td>Bayside City Council</td>\n",
              "      <td>-37.91530</td>\n",
              "      <td>145.01420</td>\n",
              "      <td>Southern Metropolitan</td>\n",
              "      <td>6938.0</td>\n",
              "      <td>3</td>\n",
              "      <td>4</td>\n",
              "      <td>2017</td>\n",
              "    </tr>\n",
              "    <tr>\n",
              "      <th>14210</th>\n",
              "      <td>3</td>\n",
              "      <td>h</td>\n",
              "      <td>SP</td>\n",
              "      <td>4.6</td>\n",
              "      <td>2.0</td>\n",
              "      <td>0.0</td>\n",
              "      <td>279.0</td>\n",
              "      <td>Stonnington City Council</td>\n",
              "      <td>-37.85122</td>\n",
              "      <td>145.00514</td>\n",
              "      <td>Southern Metropolitan</td>\n",
              "      <td>7717.0</td>\n",
              "      <td>3</td>\n",
              "      <td>3</td>\n",
              "      <td>2018</td>\n",
              "    </tr>\n",
              "  </tbody>\n",
              "</table>\n",
              "<p>3854 rows × 15 columns</p>\n",
              "</div>"
            ],
            "text/plain": [
              "       Rooms Type Method  Distance  ...  Propertycount  day  month  year\n",
              "4962       3    h      S       2.6  ...        14949.0   23      4  2016\n",
              "10811      2    u      S       3.6  ...         2954.0   29      7  2017\n",
              "12528      3    h      S      16.3  ...         8279.0   21     10  2017\n",
              "8359       3    h      S      10.5  ...        10579.0    6      3  2017\n",
              "1022       2    u      S      11.2  ...        10579.0   11     12  2016\n",
              "...      ...  ...    ...       ...  ...            ...  ...    ...   ...\n",
              "15115      3    h      S       6.7  ...        11204.0   24      2  2018\n",
              "1941       2    h     SP       9.2  ...         3445.0   12     10  2016\n",
              "6335       3    u     PI       1.8  ...         6786.0    6      4  2016\n",
              "1091       2    h      S      10.7  ...         6938.0    3      4  2017\n",
              "14210      3    h     SP       4.6  ...         7717.0    3      3  2018\n",
              "\n",
              "[3854 rows x 15 columns]"
            ]
          },
          "metadata": {
            "tags": []
          },
          "execution_count": 103
        }
      ]
    },
    {
      "cell_type": "code",
      "metadata": {
        "colab": {
          "base_uri": "https://localhost:8080/"
        },
        "id": "7X_26ObLFVqP",
        "outputId": "087f8c17-dc7a-45cc-a199-f1ac30116b38"
      },
      "source": [
        "y_test"
      ],
      "execution_count": null,
      "outputs": [
        {
          "output_type": "execute_result",
          "data": {
            "text/plain": [
              "4962    1650000.00\n",
              "10811    591000.00\n",
              "12528    612000.00\n",
              "8359    1935000.00\n",
              "1022     575000.00\n",
              "           ...    \n",
              "15115   1035000.00\n",
              "1941     745000.00\n",
              "6335     860000.00\n",
              "1091    1445000.00\n",
              "14210   2610000.00\n",
              "Name: Price, Length: 3854, dtype: float64"
            ]
          },
          "metadata": {
            "tags": []
          },
          "execution_count": 239
        }
      ]
    },
    {
      "cell_type": "code",
      "metadata": {
        "colab": {
          "base_uri": "https://localhost:8080/"
        },
        "id": "L6hAFdNbYRwo",
        "outputId": "6f8adc87-ac27-48d9-ef38-df68e0e42625"
      },
      "source": [
        "import gradio as gr, matplotlib.pyplot as plt\n",
        "#Implementing the function to predict price\n",
        "#Each of the input is passed as the function argument and these are converted to a dataframe\n",
        "#This are then processed using the preprocessing pipeline\n",
        "#The output of preprocessing pipeline is fed into the loaded machine learning model\n",
        "#The predicted value is then returned and is shown in Gradio interface\n",
        "def price_forecast(rooms,Type,Method,distance,Bathroom,Car,Landsize,Council_area,Latitude,Longitude,region_Name,Property_Count,day,month,year):\n",
        "  s = pd.Series([rooms,Type,Method,distance,Bathroom,Car,Landsize,Council_area,Latitude,Longitude,region_Name,Property_Count,day,month,year],index=['Rooms', 'Type', 'Method', 'Distance', 'Bathroom', 'Car', 'Landsize',\n",
        "       'CouncilArea', 'Lattitude', 'Longtitude', 'Regionname', 'Propertycount',\n",
        "       'day', 'month', 'year'])\n",
        "  input_df=pd.DataFrame(columns=['Rooms', 'Type', 'Method', 'Distance', 'Bathroom', 'Car', 'Landsize',\n",
        "       'CouncilArea', 'Lattitude', 'Longtitude', 'Regionname', 'Propertycount',\n",
        "       'day', 'month', 'year'])\n",
        "  input_df=input_df.append(s,ignore_index=True)\n",
        "\n",
        "  transformed_input_df=loaded_pipeline.transform(input_df)\n",
        "  predict=loaded_model.predict(transformed_input_df)\n",
        "  print(predict)\n",
        "    # ... run model to forecast outbreak and generate plots\n",
        "    # ... return plt\n",
        "  return round(predict[0])\n",
        "\n",
        "\n",
        "\n",
        "\n",
        "\n",
        "\n",
        "Type = gr.inputs.Radio([\"h\", \"t\", \"u\"])\n",
        "Method = gr.inputs.Radio([\"PI\", \"S\", \"SA\",\"SP\",\"VB\"])\n",
        "Council_area = gr.inputs.Dropdown(['Banyule City Council',\n",
        " 'Bayside City Council',\n",
        " 'Boroondara City Council',\n",
        " 'Brimbank City Council',\n",
        " 'Darebin City Council',\n",
        " 'Glen Eira City Council',\n",
        " 'Greater Dandenong City Council',\n",
        " 'Hobsons Bay City Council',\n",
        " 'Hume City Council',\n",
        " 'Kingston City Council',\n",
        " 'Knox City Council',\n",
        " 'Manningham City Council',\n",
        " 'Maribyrnong City Council',\n",
        " 'Maroondah City Council',\n",
        " 'Melbourne City Council',\n",
        " 'Melton City Council',\n",
        " 'Monash City Council',\n",
        " 'Moonee Valley City Council',\n",
        " 'Moreland City Council',\n",
        " 'Port Phillip City Council',\n",
        " 'Stonnington City Council',\n",
        " 'Whitehorse City Council',\n",
        " 'Whittlesea City Council',\n",
        " 'Wyndham City Council',\n",
        " 'Yarra City Council'])\n",
        "region_Name=gr.inputs.Radio([ 'Eastern Metropolitan',\n",
        " 'Northern Metropolitan',\n",
        " 'South-Eastern Metropolitan',\n",
        " 'Southern Metropolitan',\n",
        " 'Western Metropolitan'])\n",
        "\n",
        "rooms = gr.inputs.Slider(1, 5,step=1)\n",
        "distance=gr.inputs.Slider(0, 30)\n",
        "Bathroom=gr.inputs.Slider(0, 3,step=1)\n",
        "Car=gr.inputs.Slider(0, 4,step=1)\n",
        "Landsize=gr.inputs.Slider(1, 10100,step=1)\n",
        "Latitude=gr.inputs.Slider(-38.007, -37.566)\n",
        "Longitude=gr.inputs.Slider(144.598, 145.302)\n",
        "Property_Count=gr.inputs.Slider(588, 17496,step=1)\n",
        "day=gr.inputs.Slider(1, 31,step=1)\n",
        "month=gr.inputs.Slider(1, 12,step=1)\n",
        "year=gr.inputs.Slider(2010, 2030,step=1)\n",
        "\n",
        "\n",
        "gr.Interface(fn=price_forecast,\n",
        "    inputs=[rooms,Type,Method,distance,Bathroom,Car,Landsize,Council_area,Latitude,Longitude,region_Name,Property_Count,day,month,year], outputs=\"number\",title=\"Property Price Calculator\",description=\"This is a machine learning based price prediction engine for Melbourne property. Please fill the below features and click on submit to see price estimate. Created by : Nithin Jose: u1123478\",\n",
        "    examples=[\n",
        "        \n",
        "        [3, 'h', 'S', 2.6, 2.0, 1.0, 312.0, 'Yarra City Council',\n",
        "        -37.8217, 145.007, 'Northern Metropolitan', 14949.0, 23, 4, 2016],\n",
        "\n",
        "        [3, 'h', 'S', 16.3, 1.0, 4.0, 545.0, 'Whittlesea City Council',\n",
        "        -37.66, 145.03292, 'Northern Metropolitan', 8279.0,\n",
        "        21, 10, 2017],\n",
        "        [3, 'h', 'S', 10.5, 2.0, 1.0, 385.0, 'Bayside City Council',\n",
        "        -37.91068, 145.00394, 'Southern Metropolitan', 10579.0, 6, 3,\n",
        "        2017],\n",
        "        [3, 'h', 'SP', 4.6, 2.0, 0.0, 279.0, 'Stonnington City Council',\n",
        "        -37.85122, 145.00513999999998, 'Southern Metropolitan', 7717.0,\n",
        "        3, 3, 2018],\n",
        "    ]).launch(debug=True,share=False)\n",
        "\n"
      ],
      "execution_count": null,
      "outputs": [
        {
          "output_type": "stream",
          "text": [
            "Colab notebook detected. This cell will run indefinitely so that you can see errors and logs. To turn off, set debug=False in launch().\n",
            "This share link will expire in 24 hours. If you need a permanent link, visit: https://gradio.app/introducing-hosted (NEW!)\n",
            "Running on External URL: https://58730.gradio.app\n",
            "Interface loading below...\n"
          ],
          "name": "stdout"
        },
        {
          "output_type": "display_data",
          "data": {
            "text/html": [
              "\n",
              "        <iframe\n",
              "            width=\"900\"\n",
              "            height=\"500\"\n",
              "            src=\"https://58730.gradio.app\"\n",
              "            frameborder=\"0\"\n",
              "            allowfullscreen\n",
              "        ></iframe>\n",
              "        "
            ],
            "text/plain": [
              "<IPython.lib.display.IFrame at 0x7ffae1c49590>"
            ]
          },
          "metadata": {
            "tags": []
          }
        }
      ]
    },
    {
      "cell_type": "code",
      "metadata": {
        "id": "abOpiM98jS-4"
      },
      "source": [
        ""
      ],
      "execution_count": null,
      "outputs": []
    }
  ]
}